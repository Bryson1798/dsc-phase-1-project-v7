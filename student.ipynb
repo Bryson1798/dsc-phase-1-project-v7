{
 "cells": [
  {
   "cell_type": "markdown",
   "metadata": {},
   "source": [
    "## Final Project Submission\n",
    "\n",
    "Please fill out:\n",
    "* Student name: **BRYSON SHITSUKANE**\n",
    "* Student pace: self paced / part time / full time - **PART TIME**\n",
    "* Scheduled project review date/time: **16/04/2023**\n",
    "* Instructor name: **DIANA MONGINA**\n",
    "* Blog post URL: **N/A**\n"
   ]
  },
  {
   "cell_type": "markdown",
   "metadata": {},
   "source": [
    "# Box Office Analysis: Identifying Best Performing Movie Genres for Microsoft's New Studio"
   ]
  },
  {
   "cell_type": "markdown",
   "metadata": {},
   "source": [
    "## Overview\n",
    "This project analyzes the datasets from 3 movie websites namely, [Box Office Mojo](https://www.boxofficemojo.com/) , [TheMovieDB](https://www.themoviedb.org/) and [The Numbers](https://www.the-numbers.com/). The 3 datasets are merged into one pandas DataFrame to enable a more indepth analysis and better findings with regards to the top/best performing movie genres in the Box Office. Microsoft can use the findings from this analysis to help decide what type of films to create so as to stay at par in the movie industry."
   ]
  },
  {
   "cell_type": "markdown",
   "metadata": {},
   "source": [
    "## Business Understanding"
   ]
  },
  {
   "cell_type": "markdown",
   "metadata": {},
   "source": [
    "Based on the business problem, which is, Microsoft wants to get in on the fun of creating movies/original video content but they have no knowledge of creating movies, I have formulated 4 business questions whereby I will use my dataset to extract meaningful findings which can be translated into actionable insights for the Head of Microsoft's new movie studio to help him/her decide on what types of films to create. These business questions are:\n",
    "\n",
    "1. What are the top 4 best performing genres of movies at the box office?\n",
    "\n",
    "\n",
    "2. What is the relationship between production budget and the success of a movie both domestically and worldwide?\n",
    "\n",
    "\n",
    "3. What is the competitive landscape of the movie industry in terms of market share?\n",
    "\n",
    "\n",
    "4. How does the release time of a movie contribute to its success?\n",
    "\n",
    "Also, to define the idea of a successful movie in the Box Office and to get a comprehensive understanding of the current trends in the movie industry, I will be comparing different metrics such as domestic revenue, worldwide revenue, popularity ratings and vote count of the movies. Then I will compare the top genres across different groupings and look for patterns or similarities that may provide insight into overarching trends."
   ]
  },
  {
   "cell_type": "markdown",
   "metadata": {},
   "source": [
    "## Data Understanding "
   ]
  },
  {
   "cell_type": "markdown",
   "metadata": {},
   "source": [
    "The data sources for this analysis are 3 websites namely:\n",
    " - [Box Office Mojo](https://www.boxofficemojo.com/) \n",
    " - [TheMovieDB](https://www.themoviedb.org/) \n",
    " - [The Numbers](https://www.the-numbers.com/)\n",
    "\n",
    "We therefore have 3 separate CSV data files:\n",
    " \n",
    " - `bom.movie_gross.csv.gz`: each record represents a movie title, with attributes of that movie (eg. `domestic_gross`).\n",
    " - `tmdb.movies.csv.gz`: each record represents a mvoie title as well, with attributes such as `release_date`.\n",
    " - `tn.movie_budgets.csv.gz`: each record represents a movie title as well, with attributes such as `production_budget`. \n",
    " \n",
    "Also, note that the data may not reflect the most-up-to-date trends and performances in the movie industry since its scope is upto 2019. "
   ]
  },
  {
   "cell_type": "markdown",
   "metadata": {},
   "source": [
    "### Importing necessary libraries "
   ]
  },
  {
   "cell_type": "code",
   "execution_count": 1,
   "metadata": {},
   "outputs": [],
   "source": [
    "import pandas as pd\n",
    "import numpy as np\n",
    "import seaborn as sns\n",
    "import matplotlib.pyplot as plt\n",
    "import warnings\n",
    "import calendar\n",
    "#warnings.filterwarnings('error')"
   ]
  },
  {
   "cell_type": "markdown",
   "metadata": {},
   "source": [
    "### Loading the data from [Box Office Mojo](https://www.boxofficemojo.com/)  website with Pandas "
   ]
  },
  {
   "cell_type": "code",
   "execution_count": 2,
   "metadata": {},
   "outputs": [
    {
     "data": {
      "text/html": [
       "<div>\n",
       "<style scoped>\n",
       "    .dataframe tbody tr th:only-of-type {\n",
       "        vertical-align: middle;\n",
       "    }\n",
       "\n",
       "    .dataframe tbody tr th {\n",
       "        vertical-align: top;\n",
       "    }\n",
       "\n",
       "    .dataframe thead th {\n",
       "        text-align: right;\n",
       "    }\n",
       "</style>\n",
       "<table border=\"1\" class=\"dataframe\">\n",
       "  <thead>\n",
       "    <tr style=\"text-align: right;\">\n",
       "      <th></th>\n",
       "      <th>title</th>\n",
       "      <th>studio</th>\n",
       "      <th>domestic_gross</th>\n",
       "      <th>foreign_gross</th>\n",
       "      <th>year</th>\n",
       "    </tr>\n",
       "  </thead>\n",
       "  <tbody>\n",
       "    <tr>\n",
       "      <th>0</th>\n",
       "      <td>Toy Story 3</td>\n",
       "      <td>BV</td>\n",
       "      <td>415000000.0</td>\n",
       "      <td>652000000</td>\n",
       "      <td>2010</td>\n",
       "    </tr>\n",
       "    <tr>\n",
       "      <th>1</th>\n",
       "      <td>Alice in Wonderland (2010)</td>\n",
       "      <td>BV</td>\n",
       "      <td>334200000.0</td>\n",
       "      <td>691300000</td>\n",
       "      <td>2010</td>\n",
       "    </tr>\n",
       "    <tr>\n",
       "      <th>2</th>\n",
       "      <td>Harry Potter and the Deathly Hallows Part 1</td>\n",
       "      <td>WB</td>\n",
       "      <td>296000000.0</td>\n",
       "      <td>664300000</td>\n",
       "      <td>2010</td>\n",
       "    </tr>\n",
       "    <tr>\n",
       "      <th>3</th>\n",
       "      <td>Inception</td>\n",
       "      <td>WB</td>\n",
       "      <td>292600000.0</td>\n",
       "      <td>535700000</td>\n",
       "      <td>2010</td>\n",
       "    </tr>\n",
       "    <tr>\n",
       "      <th>4</th>\n",
       "      <td>Shrek Forever After</td>\n",
       "      <td>P/DW</td>\n",
       "      <td>238700000.0</td>\n",
       "      <td>513900000</td>\n",
       "      <td>2010</td>\n",
       "    </tr>\n",
       "    <tr>\n",
       "      <th>...</th>\n",
       "      <td>...</td>\n",
       "      <td>...</td>\n",
       "      <td>...</td>\n",
       "      <td>...</td>\n",
       "      <td>...</td>\n",
       "    </tr>\n",
       "    <tr>\n",
       "      <th>3382</th>\n",
       "      <td>The Quake</td>\n",
       "      <td>Magn.</td>\n",
       "      <td>6200.0</td>\n",
       "      <td>NaN</td>\n",
       "      <td>2018</td>\n",
       "    </tr>\n",
       "    <tr>\n",
       "      <th>3383</th>\n",
       "      <td>Edward II (2018 re-release)</td>\n",
       "      <td>FM</td>\n",
       "      <td>4800.0</td>\n",
       "      <td>NaN</td>\n",
       "      <td>2018</td>\n",
       "    </tr>\n",
       "    <tr>\n",
       "      <th>3384</th>\n",
       "      <td>El Pacto</td>\n",
       "      <td>Sony</td>\n",
       "      <td>2500.0</td>\n",
       "      <td>NaN</td>\n",
       "      <td>2018</td>\n",
       "    </tr>\n",
       "    <tr>\n",
       "      <th>3385</th>\n",
       "      <td>The Swan</td>\n",
       "      <td>Synergetic</td>\n",
       "      <td>2400.0</td>\n",
       "      <td>NaN</td>\n",
       "      <td>2018</td>\n",
       "    </tr>\n",
       "    <tr>\n",
       "      <th>3386</th>\n",
       "      <td>An Actor Prepares</td>\n",
       "      <td>Grav.</td>\n",
       "      <td>1700.0</td>\n",
       "      <td>NaN</td>\n",
       "      <td>2018</td>\n",
       "    </tr>\n",
       "  </tbody>\n",
       "</table>\n",
       "<p>3387 rows × 5 columns</p>\n",
       "</div>"
      ],
      "text/plain": [
       "                                            title      studio  domestic_gross  \\\n",
       "0                                     Toy Story 3          BV     415000000.0   \n",
       "1                      Alice in Wonderland (2010)          BV     334200000.0   \n",
       "2     Harry Potter and the Deathly Hallows Part 1          WB     296000000.0   \n",
       "3                                       Inception          WB     292600000.0   \n",
       "4                             Shrek Forever After        P/DW     238700000.0   \n",
       "...                                           ...         ...             ...   \n",
       "3382                                    The Quake       Magn.          6200.0   \n",
       "3383                  Edward II (2018 re-release)          FM          4800.0   \n",
       "3384                                     El Pacto        Sony          2500.0   \n",
       "3385                                     The Swan  Synergetic          2400.0   \n",
       "3386                            An Actor Prepares       Grav.          1700.0   \n",
       "\n",
       "     foreign_gross  year  \n",
       "0        652000000  2010  \n",
       "1        691300000  2010  \n",
       "2        664300000  2010  \n",
       "3        535700000  2010  \n",
       "4        513900000  2010  \n",
       "...            ...   ...  \n",
       "3382           NaN  2018  \n",
       "3383           NaN  2018  \n",
       "3384           NaN  2018  \n",
       "3385           NaN  2018  \n",
       "3386           NaN  2018  \n",
       "\n",
       "[3387 rows x 5 columns]"
      ]
     },
     "execution_count": 2,
     "metadata": {},
     "output_type": "execute_result"
    }
   ],
   "source": [
    "# Load the data and display the DataFrame to ensure the loading was successful\n",
    "bom_df = pd.read_csv('zippedData/bom.movie_gross.csv.gz')\n",
    "bom_df"
   ]
  },
  {
   "cell_type": "markdown",
   "metadata": {},
   "source": [
    "## Data Cleaning and Preprocessing\n",
    " In this section, we take steps to identify and correct or remove incorrect, incomplete, duplicates or incorrectly formatted data within the provided dataset, using techniques such as:\n",
    " - Removing, replacing or keeping missing values\n",
    " - Changing column datatypes so as to work with the data accordingly\n",
    " - Removing duplicates if any"
   ]
  },
  {
   "cell_type": "code",
   "execution_count": 3,
   "metadata": {},
   "outputs": [
    {
     "data": {
      "text/plain": [
       "(3387, 5)"
      ]
     },
     "execution_count": 3,
     "metadata": {},
     "output_type": "execute_result"
    }
   ],
   "source": [
    "# Check for the number of rows and columns\n",
    "bom_df.shape"
   ]
  },
  {
   "cell_type": "code",
   "execution_count": 4,
   "metadata": {},
   "outputs": [
    {
     "data": {
      "text/plain": [
       "Index(['title', 'studio', 'domestic_gross', 'foreign_gross', 'year'], dtype='object')"
      ]
     },
     "execution_count": 4,
     "metadata": {},
     "output_type": "execute_result"
    }
   ],
   "source": [
    "# Check the columns available in the DataFrame\n",
    "bom_df.columns"
   ]
  },
  {
   "cell_type": "code",
   "execution_count": 5,
   "metadata": {},
   "outputs": [
    {
     "name": "stdout",
     "output_type": "stream",
     "text": [
      "<class 'pandas.core.frame.DataFrame'>\n",
      "RangeIndex: 3387 entries, 0 to 3386\n",
      "Data columns (total 5 columns):\n",
      " #   Column          Non-Null Count  Dtype  \n",
      "---  ------          --------------  -----  \n",
      " 0   title           3387 non-null   object \n",
      " 1   studio          3382 non-null   object \n",
      " 2   domestic_gross  3359 non-null   float64\n",
      " 3   foreign_gross   2037 non-null   object \n",
      " 4   year            3387 non-null   int64  \n",
      "dtypes: float64(1), int64(1), object(3)\n",
      "memory usage: 132.4+ KB\n"
     ]
    }
   ],
   "source": [
    "# Check the metadata of our actual dataset\n",
    "bom_df.info()"
   ]
  },
  {
   "cell_type": "code",
   "execution_count": 6,
   "metadata": {},
   "outputs": [
    {
     "data": {
      "text/plain": [
       "title              object\n",
       "studio             object\n",
       "domestic_gross    float64\n",
       "foreign_gross      object\n",
       "year                int64\n",
       "dtype: object"
      ]
     },
     "execution_count": 6,
     "metadata": {},
     "output_type": "execute_result"
    }
   ],
   "source": [
    "# Check for the column datatypes\n",
    "bom_df.dtypes"
   ]
  },
  {
   "cell_type": "code",
   "execution_count": 7,
   "metadata": {},
   "outputs": [
    {
     "data": {
      "text/plain": [
       "title                0\n",
       "studio               5\n",
       "domestic_gross      28\n",
       "foreign_gross     1350\n",
       "year                 0\n",
       "dtype: int64"
      ]
     },
     "execution_count": 7,
     "metadata": {},
     "output_type": "execute_result"
    }
   ],
   "source": [
    "#Check for the total number of missing values per column\n",
    "bom_df.isna().sum()"
   ]
  },
  {
   "cell_type": "markdown",
   "metadata": {},
   "source": [
    "Let's start with the `studio` column which has only 5 missing values. First we can get the `value_counts()` of the columns to know how the studios are distributed."
   ]
  },
  {
   "cell_type": "code",
   "execution_count": 8,
   "metadata": {},
   "outputs": [
    {
     "data": {
      "text/plain": [
       "IFC      166\n",
       "Uni.     147\n",
       "WB       140\n",
       "Magn.    136\n",
       "Fox      136\n",
       "Name: studio, dtype: int64"
      ]
     },
     "execution_count": 8,
     "metadata": {},
     "output_type": "execute_result"
    }
   ],
   "source": [
    "#Get the value_counts() of the `studio` column\n",
    "bom_df['studio'].value_counts().head()"
   ]
  },
  {
   "cell_type": "markdown",
   "metadata": {},
   "source": [
    "From the results above, we can see that the frequencies of the studios are not that far apart. Therefore imputing the missing values with the modal value will be a bit biased, therefore it would probably be best to drop the rows with missing values for studios. "
   ]
  },
  {
   "cell_type": "code",
   "execution_count": 9,
   "metadata": {},
   "outputs": [],
   "source": [
    "# Dropping the rows with missing values based on the `studio` column\n",
    "bom_df.dropna(subset=['studio'], inplace=True)"
   ]
  },
  {
   "cell_type": "code",
   "execution_count": 10,
   "metadata": {},
   "outputs": [
    {
     "name": "stdout",
     "output_type": "stream",
     "text": [
      "<class 'pandas.core.frame.DataFrame'>\n",
      "Int64Index: 3382 entries, 0 to 3386\n",
      "Data columns (total 5 columns):\n",
      " #   Column          Non-Null Count  Dtype  \n",
      "---  ------          --------------  -----  \n",
      " 0   title           3382 non-null   object \n",
      " 1   studio          3382 non-null   object \n",
      " 2   domestic_gross  3356 non-null   float64\n",
      " 3   foreign_gross   2033 non-null   object \n",
      " 4   year            3382 non-null   int64  \n",
      "dtypes: float64(1), int64(1), object(3)\n",
      "memory usage: 158.5+ KB\n"
     ]
    }
   ],
   "source": [
    "bom_df.info()"
   ]
  },
  {
   "cell_type": "markdown",
   "metadata": {},
   "source": [
    "Next, we can move on to the `foreign_gross` column which has a significant number of missing values. We'll start with getting the percentage of the missing values by getting the sum of the null values divided by the length of the `foreign_gross` column multiplied by 100%. "
   ]
  },
  {
   "cell_type": "code",
   "execution_count": 11,
   "metadata": {},
   "outputs": [
    {
     "data": {
      "text/plain": [
       "39.8876404494382"
      ]
     },
     "execution_count": 11,
     "metadata": {},
     "output_type": "execute_result"
    }
   ],
   "source": [
    "# Checking for the percentage of missing values in the `foreign_gross` column\n",
    "missing_percentage = bom_df['foreign_gross'].isnull().sum() / len(bom_df['foreign_gross']) * 100\n",
    "missing_percentage"
   ]
  },
  {
   "cell_type": "markdown",
   "metadata": {},
   "source": [
    "**39.89%** of missing values is a big percentage, therefore it would be probably best to drop the entire column, and just work with the `domestic_gross` column."
   ]
  },
  {
   "cell_type": "code",
   "execution_count": 12,
   "metadata": {},
   "outputs": [
    {
     "data": {
      "text/html": [
       "<div>\n",
       "<style scoped>\n",
       "    .dataframe tbody tr th:only-of-type {\n",
       "        vertical-align: middle;\n",
       "    }\n",
       "\n",
       "    .dataframe tbody tr th {\n",
       "        vertical-align: top;\n",
       "    }\n",
       "\n",
       "    .dataframe thead th {\n",
       "        text-align: right;\n",
       "    }\n",
       "</style>\n",
       "<table border=\"1\" class=\"dataframe\">\n",
       "  <thead>\n",
       "    <tr style=\"text-align: right;\">\n",
       "      <th></th>\n",
       "      <th>title</th>\n",
       "      <th>studio</th>\n",
       "      <th>domestic_gross</th>\n",
       "      <th>year</th>\n",
       "    </tr>\n",
       "  </thead>\n",
       "  <tbody>\n",
       "    <tr>\n",
       "      <th>0</th>\n",
       "      <td>Toy Story 3</td>\n",
       "      <td>BV</td>\n",
       "      <td>415000000.0</td>\n",
       "      <td>2010</td>\n",
       "    </tr>\n",
       "    <tr>\n",
       "      <th>1</th>\n",
       "      <td>Alice in Wonderland (2010)</td>\n",
       "      <td>BV</td>\n",
       "      <td>334200000.0</td>\n",
       "      <td>2010</td>\n",
       "    </tr>\n",
       "    <tr>\n",
       "      <th>2</th>\n",
       "      <td>Harry Potter and the Deathly Hallows Part 1</td>\n",
       "      <td>WB</td>\n",
       "      <td>296000000.0</td>\n",
       "      <td>2010</td>\n",
       "    </tr>\n",
       "    <tr>\n",
       "      <th>3</th>\n",
       "      <td>Inception</td>\n",
       "      <td>WB</td>\n",
       "      <td>292600000.0</td>\n",
       "      <td>2010</td>\n",
       "    </tr>\n",
       "    <tr>\n",
       "      <th>4</th>\n",
       "      <td>Shrek Forever After</td>\n",
       "      <td>P/DW</td>\n",
       "      <td>238700000.0</td>\n",
       "      <td>2010</td>\n",
       "    </tr>\n",
       "  </tbody>\n",
       "</table>\n",
       "</div>"
      ],
      "text/plain": [
       "                                         title studio  domestic_gross  year\n",
       "0                                  Toy Story 3     BV     415000000.0  2010\n",
       "1                   Alice in Wonderland (2010)     BV     334200000.0  2010\n",
       "2  Harry Potter and the Deathly Hallows Part 1     WB     296000000.0  2010\n",
       "3                                    Inception     WB     292600000.0  2010\n",
       "4                          Shrek Forever After   P/DW     238700000.0  2010"
      ]
     },
     "execution_count": 12,
     "metadata": {},
     "output_type": "execute_result"
    }
   ],
   "source": [
    "# Dropping the `foreign_gross` column\n",
    "bom_df.drop('foreign_gross', axis=1, inplace=True)\n",
    "bom_df.head()"
   ]
  },
  {
   "cell_type": "code",
   "execution_count": 13,
   "metadata": {},
   "outputs": [
    {
     "data": {
      "text/plain": [
       "title              0\n",
       "studio             0\n",
       "domestic_gross    26\n",
       "year               0\n",
       "dtype: int64"
      ]
     },
     "execution_count": 13,
     "metadata": {},
     "output_type": "execute_result"
    }
   ],
   "source": [
    "# Check the number of missing values again\n",
    "bom_df.isna().sum()"
   ]
  },
  {
   "cell_type": "markdown",
   "metadata": {},
   "source": [
    "For the `domestic_gross` column, we can handle the missing values by imputing with the median of the column. This is more efficient than imputing with the mean of the column because median is less influenced by outliers/extreme values in the dataset compared to the mean."
   ]
  },
  {
   "cell_type": "code",
   "execution_count": 14,
   "metadata": {},
   "outputs": [
    {
     "data": {
      "text/plain": [
       "1400000.0"
      ]
     },
     "execution_count": 14,
     "metadata": {},
     "output_type": "execute_result"
    }
   ],
   "source": [
    "# Get the median of the `domestic_gross` column\n",
    "bom_df['domestic_gross'].median()"
   ]
  },
  {
   "cell_type": "code",
   "execution_count": 15,
   "metadata": {},
   "outputs": [],
   "source": [
    "# Fill the missing values with the median\n",
    "bom_df['domestic_gross'].fillna(bom_df['domestic_gross'].median(), inplace=True) "
   ]
  },
  {
   "cell_type": "markdown",
   "metadata": {},
   "source": [
    "In the code below, I convert the `year` column into a datetime object in case I would like to perform any datetime operations. I also extract the year and create a new column `release_year` that I will use later on when merging the datasets."
   ]
  },
  {
   "cell_type": "code",
   "execution_count": 16,
   "metadata": {},
   "outputs": [
    {
     "data": {
      "text/html": [
       "<div>\n",
       "<style scoped>\n",
       "    .dataframe tbody tr th:only-of-type {\n",
       "        vertical-align: middle;\n",
       "    }\n",
       "\n",
       "    .dataframe tbody tr th {\n",
       "        vertical-align: top;\n",
       "    }\n",
       "\n",
       "    .dataframe thead th {\n",
       "        text-align: right;\n",
       "    }\n",
       "</style>\n",
       "<table border=\"1\" class=\"dataframe\">\n",
       "  <thead>\n",
       "    <tr style=\"text-align: right;\">\n",
       "      <th></th>\n",
       "      <th>title</th>\n",
       "      <th>studio</th>\n",
       "      <th>domestic_gross</th>\n",
       "      <th>year</th>\n",
       "      <th>release_year</th>\n",
       "    </tr>\n",
       "  </thead>\n",
       "  <tbody>\n",
       "    <tr>\n",
       "      <th>0</th>\n",
       "      <td>Toy Story 3</td>\n",
       "      <td>BV</td>\n",
       "      <td>415000000.0</td>\n",
       "      <td>2010-01-01</td>\n",
       "      <td>2010</td>\n",
       "    </tr>\n",
       "    <tr>\n",
       "      <th>1</th>\n",
       "      <td>Alice in Wonderland (2010)</td>\n",
       "      <td>BV</td>\n",
       "      <td>334200000.0</td>\n",
       "      <td>2010-01-01</td>\n",
       "      <td>2010</td>\n",
       "    </tr>\n",
       "    <tr>\n",
       "      <th>2</th>\n",
       "      <td>Harry Potter and the Deathly Hallows Part 1</td>\n",
       "      <td>WB</td>\n",
       "      <td>296000000.0</td>\n",
       "      <td>2010-01-01</td>\n",
       "      <td>2010</td>\n",
       "    </tr>\n",
       "    <tr>\n",
       "      <th>3</th>\n",
       "      <td>Inception</td>\n",
       "      <td>WB</td>\n",
       "      <td>292600000.0</td>\n",
       "      <td>2010-01-01</td>\n",
       "      <td>2010</td>\n",
       "    </tr>\n",
       "    <tr>\n",
       "      <th>4</th>\n",
       "      <td>Shrek Forever After</td>\n",
       "      <td>P/DW</td>\n",
       "      <td>238700000.0</td>\n",
       "      <td>2010-01-01</td>\n",
       "      <td>2010</td>\n",
       "    </tr>\n",
       "  </tbody>\n",
       "</table>\n",
       "</div>"
      ],
      "text/plain": [
       "                                         title studio  domestic_gross  \\\n",
       "0                                  Toy Story 3     BV     415000000.0   \n",
       "1                   Alice in Wonderland (2010)     BV     334200000.0   \n",
       "2  Harry Potter and the Deathly Hallows Part 1     WB     296000000.0   \n",
       "3                                    Inception     WB     292600000.0   \n",
       "4                          Shrek Forever After   P/DW     238700000.0   \n",
       "\n",
       "        year  release_year  \n",
       "0 2010-01-01          2010  \n",
       "1 2010-01-01          2010  \n",
       "2 2010-01-01          2010  \n",
       "3 2010-01-01          2010  \n",
       "4 2010-01-01          2010  "
      ]
     },
     "execution_count": 16,
     "metadata": {},
     "output_type": "execute_result"
    }
   ],
   "source": [
    "# Converting the `year` column to a datetime object\n",
    "bom_df['year'] = pd.to_datetime(bom_df['year'], format='%Y')\n",
    "\n",
    "# Creating a new column `release_year` from the `year`\n",
    "bom_df['release_year'] = bom_df['year'].dt.year\n",
    "\n",
    "# Confirm the new column has been added\n",
    "bom_df.head()"
   ]
  },
  {
   "cell_type": "code",
   "execution_count": 17,
   "metadata": {},
   "outputs": [
    {
     "data": {
      "text/plain": [
       "title             0\n",
       "studio            0\n",
       "domestic_gross    0\n",
       "year              0\n",
       "release_year      0\n",
       "dtype: int64"
      ]
     },
     "execution_count": 17,
     "metadata": {},
     "output_type": "execute_result"
    }
   ],
   "source": [
    "# Confirming one more time if there any more missing values\n",
    "bom_df.isna().sum()"
   ]
  },
  {
   "cell_type": "code",
   "execution_count": 18,
   "metadata": {},
   "outputs": [
    {
     "data": {
      "text/plain": [
       "0"
      ]
     },
     "execution_count": 18,
     "metadata": {},
     "output_type": "execute_result"
    }
   ],
   "source": [
    "# Checking to see if there are any duplicates\n",
    "bom_df.duplicated().sum()"
   ]
  },
  {
   "cell_type": "markdown",
   "metadata": {},
   "source": [
    "Now we can display the **final output** to see how our DataFrame looks like after the cleaning and preprocessing."
   ]
  },
  {
   "cell_type": "code",
   "execution_count": 19,
   "metadata": {},
   "outputs": [
    {
     "data": {
      "text/html": [
       "<div>\n",
       "<style scoped>\n",
       "    .dataframe tbody tr th:only-of-type {\n",
       "        vertical-align: middle;\n",
       "    }\n",
       "\n",
       "    .dataframe tbody tr th {\n",
       "        vertical-align: top;\n",
       "    }\n",
       "\n",
       "    .dataframe thead th {\n",
       "        text-align: right;\n",
       "    }\n",
       "</style>\n",
       "<table border=\"1\" class=\"dataframe\">\n",
       "  <thead>\n",
       "    <tr style=\"text-align: right;\">\n",
       "      <th></th>\n",
       "      <th>title</th>\n",
       "      <th>studio</th>\n",
       "      <th>domestic_gross</th>\n",
       "      <th>year</th>\n",
       "      <th>release_year</th>\n",
       "    </tr>\n",
       "  </thead>\n",
       "  <tbody>\n",
       "    <tr>\n",
       "      <th>0</th>\n",
       "      <td>Toy Story 3</td>\n",
       "      <td>BV</td>\n",
       "      <td>415000000.0</td>\n",
       "      <td>2010-01-01</td>\n",
       "      <td>2010</td>\n",
       "    </tr>\n",
       "    <tr>\n",
       "      <th>1</th>\n",
       "      <td>Alice in Wonderland (2010)</td>\n",
       "      <td>BV</td>\n",
       "      <td>334200000.0</td>\n",
       "      <td>2010-01-01</td>\n",
       "      <td>2010</td>\n",
       "    </tr>\n",
       "    <tr>\n",
       "      <th>2</th>\n",
       "      <td>Harry Potter and the Deathly Hallows Part 1</td>\n",
       "      <td>WB</td>\n",
       "      <td>296000000.0</td>\n",
       "      <td>2010-01-01</td>\n",
       "      <td>2010</td>\n",
       "    </tr>\n",
       "    <tr>\n",
       "      <th>3</th>\n",
       "      <td>Inception</td>\n",
       "      <td>WB</td>\n",
       "      <td>292600000.0</td>\n",
       "      <td>2010-01-01</td>\n",
       "      <td>2010</td>\n",
       "    </tr>\n",
       "    <tr>\n",
       "      <th>4</th>\n",
       "      <td>Shrek Forever After</td>\n",
       "      <td>P/DW</td>\n",
       "      <td>238700000.0</td>\n",
       "      <td>2010-01-01</td>\n",
       "      <td>2010</td>\n",
       "    </tr>\n",
       "    <tr>\n",
       "      <th>...</th>\n",
       "      <td>...</td>\n",
       "      <td>...</td>\n",
       "      <td>...</td>\n",
       "      <td>...</td>\n",
       "      <td>...</td>\n",
       "    </tr>\n",
       "    <tr>\n",
       "      <th>3382</th>\n",
       "      <td>The Quake</td>\n",
       "      <td>Magn.</td>\n",
       "      <td>6200.0</td>\n",
       "      <td>2018-01-01</td>\n",
       "      <td>2018</td>\n",
       "    </tr>\n",
       "    <tr>\n",
       "      <th>3383</th>\n",
       "      <td>Edward II (2018 re-release)</td>\n",
       "      <td>FM</td>\n",
       "      <td>4800.0</td>\n",
       "      <td>2018-01-01</td>\n",
       "      <td>2018</td>\n",
       "    </tr>\n",
       "    <tr>\n",
       "      <th>3384</th>\n",
       "      <td>El Pacto</td>\n",
       "      <td>Sony</td>\n",
       "      <td>2500.0</td>\n",
       "      <td>2018-01-01</td>\n",
       "      <td>2018</td>\n",
       "    </tr>\n",
       "    <tr>\n",
       "      <th>3385</th>\n",
       "      <td>The Swan</td>\n",
       "      <td>Synergetic</td>\n",
       "      <td>2400.0</td>\n",
       "      <td>2018-01-01</td>\n",
       "      <td>2018</td>\n",
       "    </tr>\n",
       "    <tr>\n",
       "      <th>3386</th>\n",
       "      <td>An Actor Prepares</td>\n",
       "      <td>Grav.</td>\n",
       "      <td>1700.0</td>\n",
       "      <td>2018-01-01</td>\n",
       "      <td>2018</td>\n",
       "    </tr>\n",
       "  </tbody>\n",
       "</table>\n",
       "<p>3382 rows × 5 columns</p>\n",
       "</div>"
      ],
      "text/plain": [
       "                                            title      studio  domestic_gross  \\\n",
       "0                                     Toy Story 3          BV     415000000.0   \n",
       "1                      Alice in Wonderland (2010)          BV     334200000.0   \n",
       "2     Harry Potter and the Deathly Hallows Part 1          WB     296000000.0   \n",
       "3                                       Inception          WB     292600000.0   \n",
       "4                             Shrek Forever After        P/DW     238700000.0   \n",
       "...                                           ...         ...             ...   \n",
       "3382                                    The Quake       Magn.          6200.0   \n",
       "3383                  Edward II (2018 re-release)          FM          4800.0   \n",
       "3384                                     El Pacto        Sony          2500.0   \n",
       "3385                                     The Swan  Synergetic          2400.0   \n",
       "3386                            An Actor Prepares       Grav.          1700.0   \n",
       "\n",
       "           year  release_year  \n",
       "0    2010-01-01          2010  \n",
       "1    2010-01-01          2010  \n",
       "2    2010-01-01          2010  \n",
       "3    2010-01-01          2010  \n",
       "4    2010-01-01          2010  \n",
       "...         ...           ...  \n",
       "3382 2018-01-01          2018  \n",
       "3383 2018-01-01          2018  \n",
       "3384 2018-01-01          2018  \n",
       "3385 2018-01-01          2018  \n",
       "3386 2018-01-01          2018  \n",
       "\n",
       "[3382 rows x 5 columns]"
      ]
     },
     "execution_count": 19,
     "metadata": {},
     "output_type": "execute_result"
    }
   ],
   "source": [
    "# Display the final output\n",
    "bom_df"
   ]
  },
  {
   "cell_type": "code",
   "execution_count": 20,
   "metadata": {},
   "outputs": [
    {
     "name": "stdout",
     "output_type": "stream",
     "text": [
      "<class 'pandas.core.frame.DataFrame'>\n",
      "Int64Index: 3382 entries, 0 to 3386\n",
      "Data columns (total 5 columns):\n",
      " #   Column          Non-Null Count  Dtype         \n",
      "---  ------          --------------  -----         \n",
      " 0   title           3382 non-null   object        \n",
      " 1   studio          3382 non-null   object        \n",
      " 2   domestic_gross  3382 non-null   float64       \n",
      " 3   year            3382 non-null   datetime64[ns]\n",
      " 4   release_year    3382 non-null   int64         \n",
      "dtypes: datetime64[ns](1), float64(1), int64(1), object(2)\n",
      "memory usage: 158.5+ KB\n"
     ]
    }
   ],
   "source": [
    "bom_df.info()"
   ]
  },
  {
   "cell_type": "markdown",
   "metadata": {},
   "source": [
    "Next up, loading the next dataset!"
   ]
  },
  {
   "cell_type": "markdown",
   "metadata": {},
   "source": [
    "### Loading the data from [TheMovieDB](https://www.themoviedb.org/) website with Pandas"
   ]
  },
  {
   "cell_type": "code",
   "execution_count": 21,
   "metadata": {},
   "outputs": [
    {
     "data": {
      "text/html": [
       "<div>\n",
       "<style scoped>\n",
       "    .dataframe tbody tr th:only-of-type {\n",
       "        vertical-align: middle;\n",
       "    }\n",
       "\n",
       "    .dataframe tbody tr th {\n",
       "        vertical-align: top;\n",
       "    }\n",
       "\n",
       "    .dataframe thead th {\n",
       "        text-align: right;\n",
       "    }\n",
       "</style>\n",
       "<table border=\"1\" class=\"dataframe\">\n",
       "  <thead>\n",
       "    <tr style=\"text-align: right;\">\n",
       "      <th></th>\n",
       "      <th>genre_ids</th>\n",
       "      <th>id</th>\n",
       "      <th>original_language</th>\n",
       "      <th>original_title</th>\n",
       "      <th>popularity</th>\n",
       "      <th>release_date</th>\n",
       "      <th>title</th>\n",
       "      <th>vote_average</th>\n",
       "      <th>vote_count</th>\n",
       "    </tr>\n",
       "  </thead>\n",
       "  <tbody>\n",
       "    <tr>\n",
       "      <th>0</th>\n",
       "      <td>[12, 14, 10751]</td>\n",
       "      <td>12444</td>\n",
       "      <td>en</td>\n",
       "      <td>Harry Potter and the Deathly Hallows: Part 1</td>\n",
       "      <td>33.533</td>\n",
       "      <td>2010-11-19</td>\n",
       "      <td>Harry Potter and the Deathly Hallows: Part 1</td>\n",
       "      <td>7.7</td>\n",
       "      <td>10788</td>\n",
       "    </tr>\n",
       "    <tr>\n",
       "      <th>1</th>\n",
       "      <td>[14, 12, 16, 10751]</td>\n",
       "      <td>10191</td>\n",
       "      <td>en</td>\n",
       "      <td>How to Train Your Dragon</td>\n",
       "      <td>28.734</td>\n",
       "      <td>2010-03-26</td>\n",
       "      <td>How to Train Your Dragon</td>\n",
       "      <td>7.7</td>\n",
       "      <td>7610</td>\n",
       "    </tr>\n",
       "    <tr>\n",
       "      <th>2</th>\n",
       "      <td>[12, 28, 878]</td>\n",
       "      <td>10138</td>\n",
       "      <td>en</td>\n",
       "      <td>Iron Man 2</td>\n",
       "      <td>28.515</td>\n",
       "      <td>2010-05-07</td>\n",
       "      <td>Iron Man 2</td>\n",
       "      <td>6.8</td>\n",
       "      <td>12368</td>\n",
       "    </tr>\n",
       "    <tr>\n",
       "      <th>3</th>\n",
       "      <td>[16, 35, 10751]</td>\n",
       "      <td>862</td>\n",
       "      <td>en</td>\n",
       "      <td>Toy Story</td>\n",
       "      <td>28.005</td>\n",
       "      <td>1995-11-22</td>\n",
       "      <td>Toy Story</td>\n",
       "      <td>7.9</td>\n",
       "      <td>10174</td>\n",
       "    </tr>\n",
       "    <tr>\n",
       "      <th>4</th>\n",
       "      <td>[28, 878, 12]</td>\n",
       "      <td>27205</td>\n",
       "      <td>en</td>\n",
       "      <td>Inception</td>\n",
       "      <td>27.920</td>\n",
       "      <td>2010-07-16</td>\n",
       "      <td>Inception</td>\n",
       "      <td>8.3</td>\n",
       "      <td>22186</td>\n",
       "    </tr>\n",
       "    <tr>\n",
       "      <th>...</th>\n",
       "      <td>...</td>\n",
       "      <td>...</td>\n",
       "      <td>...</td>\n",
       "      <td>...</td>\n",
       "      <td>...</td>\n",
       "      <td>...</td>\n",
       "      <td>...</td>\n",
       "      <td>...</td>\n",
       "      <td>...</td>\n",
       "    </tr>\n",
       "    <tr>\n",
       "      <th>26512</th>\n",
       "      <td>[27, 18]</td>\n",
       "      <td>488143</td>\n",
       "      <td>en</td>\n",
       "      <td>Laboratory Conditions</td>\n",
       "      <td>0.600</td>\n",
       "      <td>2018-10-13</td>\n",
       "      <td>Laboratory Conditions</td>\n",
       "      <td>0.0</td>\n",
       "      <td>1</td>\n",
       "    </tr>\n",
       "    <tr>\n",
       "      <th>26513</th>\n",
       "      <td>[18, 53]</td>\n",
       "      <td>485975</td>\n",
       "      <td>en</td>\n",
       "      <td>_EXHIBIT_84xxx_</td>\n",
       "      <td>0.600</td>\n",
       "      <td>2018-05-01</td>\n",
       "      <td>_EXHIBIT_84xxx_</td>\n",
       "      <td>0.0</td>\n",
       "      <td>1</td>\n",
       "    </tr>\n",
       "    <tr>\n",
       "      <th>26514</th>\n",
       "      <td>[14, 28, 12]</td>\n",
       "      <td>381231</td>\n",
       "      <td>en</td>\n",
       "      <td>The Last One</td>\n",
       "      <td>0.600</td>\n",
       "      <td>2018-10-01</td>\n",
       "      <td>The Last One</td>\n",
       "      <td>0.0</td>\n",
       "      <td>1</td>\n",
       "    </tr>\n",
       "    <tr>\n",
       "      <th>26515</th>\n",
       "      <td>[10751, 12, 28]</td>\n",
       "      <td>366854</td>\n",
       "      <td>en</td>\n",
       "      <td>Trailer Made</td>\n",
       "      <td>0.600</td>\n",
       "      <td>2018-06-22</td>\n",
       "      <td>Trailer Made</td>\n",
       "      <td>0.0</td>\n",
       "      <td>1</td>\n",
       "    </tr>\n",
       "    <tr>\n",
       "      <th>26516</th>\n",
       "      <td>[53, 27]</td>\n",
       "      <td>309885</td>\n",
       "      <td>en</td>\n",
       "      <td>The Church</td>\n",
       "      <td>0.600</td>\n",
       "      <td>2018-10-05</td>\n",
       "      <td>The Church</td>\n",
       "      <td>0.0</td>\n",
       "      <td>1</td>\n",
       "    </tr>\n",
       "  </tbody>\n",
       "</table>\n",
       "<p>26517 rows × 9 columns</p>\n",
       "</div>"
      ],
      "text/plain": [
       "                 genre_ids      id original_language  \\\n",
       "0          [12, 14, 10751]   12444                en   \n",
       "1      [14, 12, 16, 10751]   10191                en   \n",
       "2            [12, 28, 878]   10138                en   \n",
       "3          [16, 35, 10751]     862                en   \n",
       "4            [28, 878, 12]   27205                en   \n",
       "...                    ...     ...               ...   \n",
       "26512             [27, 18]  488143                en   \n",
       "26513             [18, 53]  485975                en   \n",
       "26514         [14, 28, 12]  381231                en   \n",
       "26515      [10751, 12, 28]  366854                en   \n",
       "26516             [53, 27]  309885                en   \n",
       "\n",
       "                                     original_title  popularity release_date  \\\n",
       "0      Harry Potter and the Deathly Hallows: Part 1      33.533   2010-11-19   \n",
       "1                          How to Train Your Dragon      28.734   2010-03-26   \n",
       "2                                        Iron Man 2      28.515   2010-05-07   \n",
       "3                                         Toy Story      28.005   1995-11-22   \n",
       "4                                         Inception      27.920   2010-07-16   \n",
       "...                                             ...         ...          ...   \n",
       "26512                         Laboratory Conditions       0.600   2018-10-13   \n",
       "26513                               _EXHIBIT_84xxx_       0.600   2018-05-01   \n",
       "26514                                  The Last One       0.600   2018-10-01   \n",
       "26515                                  Trailer Made       0.600   2018-06-22   \n",
       "26516                                    The Church       0.600   2018-10-05   \n",
       "\n",
       "                                              title  vote_average  vote_count  \n",
       "0      Harry Potter and the Deathly Hallows: Part 1           7.7       10788  \n",
       "1                          How to Train Your Dragon           7.7        7610  \n",
       "2                                        Iron Man 2           6.8       12368  \n",
       "3                                         Toy Story           7.9       10174  \n",
       "4                                         Inception           8.3       22186  \n",
       "...                                             ...           ...         ...  \n",
       "26512                         Laboratory Conditions           0.0           1  \n",
       "26513                               _EXHIBIT_84xxx_           0.0           1  \n",
       "26514                                  The Last One           0.0           1  \n",
       "26515                                  Trailer Made           0.0           1  \n",
       "26516                                    The Church           0.0           1  \n",
       "\n",
       "[26517 rows x 9 columns]"
      ]
     },
     "execution_count": 21,
     "metadata": {},
     "output_type": "execute_result"
    }
   ],
   "source": [
    "# Load and display the DataFrame\n",
    "tmdb_df = pd.read_csv('zippedData/tmdb.movies.csv.gz', index_col=0)\n",
    "tmdb_df"
   ]
  },
  {
   "cell_type": "markdown",
   "metadata": {},
   "source": [
    "I repeat the same steps of **Data Cleaning & Preprocessing** for this dataset as well."
   ]
  },
  {
   "cell_type": "code",
   "execution_count": 22,
   "metadata": {},
   "outputs": [
    {
     "data": {
      "text/plain": [
       "(26517, 9)"
      ]
     },
     "execution_count": 22,
     "metadata": {},
     "output_type": "execute_result"
    }
   ],
   "source": [
    "# Checking the number of rows and columns\n",
    "tmdb_df.shape"
   ]
  },
  {
   "cell_type": "code",
   "execution_count": 23,
   "metadata": {},
   "outputs": [
    {
     "data": {
      "text/plain": [
       "Index(['genre_ids', 'id', 'original_language', 'original_title', 'popularity',\n",
       "       'release_date', 'title', 'vote_average', 'vote_count'],\n",
       "      dtype='object')"
      ]
     },
     "execution_count": 23,
     "metadata": {},
     "output_type": "execute_result"
    }
   ],
   "source": [
    "# Checking the columns\n",
    "tmdb_df.columns"
   ]
  },
  {
   "cell_type": "code",
   "execution_count": 24,
   "metadata": {},
   "outputs": [
    {
     "data": {
      "text/plain": [
       "genre_ids             object\n",
       "id                     int64\n",
       "original_language     object\n",
       "original_title        object\n",
       "popularity           float64\n",
       "release_date          object\n",
       "title                 object\n",
       "vote_average         float64\n",
       "vote_count             int64\n",
       "dtype: object"
      ]
     },
     "execution_count": 24,
     "metadata": {},
     "output_type": "execute_result"
    }
   ],
   "source": [
    "# Checking the column datatypes\n",
    "tmdb_df.dtypes"
   ]
  },
  {
   "cell_type": "markdown",
   "metadata": {},
   "source": [
    "In the code below, I convert the `release_date` column into a datetime object in case I would like to perform any datetime operations. I also extract the year and create a new column `release_year` that I will use later on when merging the datasets."
   ]
  },
  {
   "cell_type": "code",
   "execution_count": 25,
   "metadata": {},
   "outputs": [
    {
     "data": {
      "text/html": [
       "<div>\n",
       "<style scoped>\n",
       "    .dataframe tbody tr th:only-of-type {\n",
       "        vertical-align: middle;\n",
       "    }\n",
       "\n",
       "    .dataframe tbody tr th {\n",
       "        vertical-align: top;\n",
       "    }\n",
       "\n",
       "    .dataframe thead th {\n",
       "        text-align: right;\n",
       "    }\n",
       "</style>\n",
       "<table border=\"1\" class=\"dataframe\">\n",
       "  <thead>\n",
       "    <tr style=\"text-align: right;\">\n",
       "      <th></th>\n",
       "      <th>genre_ids</th>\n",
       "      <th>id</th>\n",
       "      <th>original_language</th>\n",
       "      <th>original_title</th>\n",
       "      <th>popularity</th>\n",
       "      <th>release_date</th>\n",
       "      <th>title</th>\n",
       "      <th>vote_average</th>\n",
       "      <th>vote_count</th>\n",
       "      <th>release_year</th>\n",
       "    </tr>\n",
       "  </thead>\n",
       "  <tbody>\n",
       "    <tr>\n",
       "      <th>0</th>\n",
       "      <td>[12, 14, 10751]</td>\n",
       "      <td>12444</td>\n",
       "      <td>en</td>\n",
       "      <td>Harry Potter and the Deathly Hallows: Part 1</td>\n",
       "      <td>33.533</td>\n",
       "      <td>2010-11-19</td>\n",
       "      <td>Harry Potter and the Deathly Hallows: Part 1</td>\n",
       "      <td>7.7</td>\n",
       "      <td>10788</td>\n",
       "      <td>2010</td>\n",
       "    </tr>\n",
       "    <tr>\n",
       "      <th>1</th>\n",
       "      <td>[14, 12, 16, 10751]</td>\n",
       "      <td>10191</td>\n",
       "      <td>en</td>\n",
       "      <td>How to Train Your Dragon</td>\n",
       "      <td>28.734</td>\n",
       "      <td>2010-03-26</td>\n",
       "      <td>How to Train Your Dragon</td>\n",
       "      <td>7.7</td>\n",
       "      <td>7610</td>\n",
       "      <td>2010</td>\n",
       "    </tr>\n",
       "    <tr>\n",
       "      <th>2</th>\n",
       "      <td>[12, 28, 878]</td>\n",
       "      <td>10138</td>\n",
       "      <td>en</td>\n",
       "      <td>Iron Man 2</td>\n",
       "      <td>28.515</td>\n",
       "      <td>2010-05-07</td>\n",
       "      <td>Iron Man 2</td>\n",
       "      <td>6.8</td>\n",
       "      <td>12368</td>\n",
       "      <td>2010</td>\n",
       "    </tr>\n",
       "    <tr>\n",
       "      <th>3</th>\n",
       "      <td>[16, 35, 10751]</td>\n",
       "      <td>862</td>\n",
       "      <td>en</td>\n",
       "      <td>Toy Story</td>\n",
       "      <td>28.005</td>\n",
       "      <td>1995-11-22</td>\n",
       "      <td>Toy Story</td>\n",
       "      <td>7.9</td>\n",
       "      <td>10174</td>\n",
       "      <td>1995</td>\n",
       "    </tr>\n",
       "    <tr>\n",
       "      <th>4</th>\n",
       "      <td>[28, 878, 12]</td>\n",
       "      <td>27205</td>\n",
       "      <td>en</td>\n",
       "      <td>Inception</td>\n",
       "      <td>27.920</td>\n",
       "      <td>2010-07-16</td>\n",
       "      <td>Inception</td>\n",
       "      <td>8.3</td>\n",
       "      <td>22186</td>\n",
       "      <td>2010</td>\n",
       "    </tr>\n",
       "  </tbody>\n",
       "</table>\n",
       "</div>"
      ],
      "text/plain": [
       "             genre_ids     id original_language  \\\n",
       "0      [12, 14, 10751]  12444                en   \n",
       "1  [14, 12, 16, 10751]  10191                en   \n",
       "2        [12, 28, 878]  10138                en   \n",
       "3      [16, 35, 10751]    862                en   \n",
       "4        [28, 878, 12]  27205                en   \n",
       "\n",
       "                                 original_title  popularity release_date  \\\n",
       "0  Harry Potter and the Deathly Hallows: Part 1      33.533   2010-11-19   \n",
       "1                      How to Train Your Dragon      28.734   2010-03-26   \n",
       "2                                    Iron Man 2      28.515   2010-05-07   \n",
       "3                                     Toy Story      28.005   1995-11-22   \n",
       "4                                     Inception      27.920   2010-07-16   \n",
       "\n",
       "                                          title  vote_average  vote_count  \\\n",
       "0  Harry Potter and the Deathly Hallows: Part 1           7.7       10788   \n",
       "1                      How to Train Your Dragon           7.7        7610   \n",
       "2                                    Iron Man 2           6.8       12368   \n",
       "3                                     Toy Story           7.9       10174   \n",
       "4                                     Inception           8.3       22186   \n",
       "\n",
       "   release_year  \n",
       "0          2010  \n",
       "1          2010  \n",
       "2          2010  \n",
       "3          1995  \n",
       "4          2010  "
      ]
     },
     "execution_count": 25,
     "metadata": {},
     "output_type": "execute_result"
    }
   ],
   "source": [
    "# Convert the `release_date` column to a datetime object\n",
    "tmdb_df['release_date'] = pd.to_datetime(tmdb_df['release_date'])\n",
    "\n",
    "# Create a new column `release_year`\n",
    "tmdb_df['release_year'] = tmdb_df['release_date'].dt.year\n",
    "\n",
    "# Confirm the new column has been added\n",
    "tmdb_df.head()"
   ]
  },
  {
   "cell_type": "code",
   "execution_count": 26,
   "metadata": {},
   "outputs": [
    {
     "name": "stdout",
     "output_type": "stream",
     "text": [
      "<class 'pandas.core.frame.DataFrame'>\n",
      "Int64Index: 26517 entries, 0 to 26516\n",
      "Data columns (total 10 columns):\n",
      " #   Column             Non-Null Count  Dtype         \n",
      "---  ------             --------------  -----         \n",
      " 0   genre_ids          26517 non-null  object        \n",
      " 1   id                 26517 non-null  int64         \n",
      " 2   original_language  26517 non-null  object        \n",
      " 3   original_title     26517 non-null  object        \n",
      " 4   popularity         26517 non-null  float64       \n",
      " 5   release_date       26517 non-null  datetime64[ns]\n",
      " 6   title              26517 non-null  object        \n",
      " 7   vote_average       26517 non-null  float64       \n",
      " 8   vote_count         26517 non-null  int64         \n",
      " 9   release_year       26517 non-null  int64         \n",
      "dtypes: datetime64[ns](1), float64(2), int64(3), object(4)\n",
      "memory usage: 2.2+ MB\n"
     ]
    }
   ],
   "source": [
    "# Get the metadata of our data\n",
    "tmdb_df.info()"
   ]
  },
  {
   "cell_type": "code",
   "execution_count": 27,
   "metadata": {},
   "outputs": [
    {
     "data": {
      "text/plain": [
       "genre_ids            0\n",
       "id                   0\n",
       "original_language    0\n",
       "original_title       0\n",
       "popularity           0\n",
       "release_date         0\n",
       "title                0\n",
       "vote_average         0\n",
       "vote_count           0\n",
       "release_year         0\n",
       "dtype: int64"
      ]
     },
     "execution_count": 27,
     "metadata": {},
     "output_type": "execute_result"
    }
   ],
   "source": [
    "# Confirming that our dataset has no missing values\n",
    "tmdb_df.isna().sum()"
   ]
  },
  {
   "cell_type": "code",
   "execution_count": 28,
   "metadata": {},
   "outputs": [
    {
     "data": {
      "text/plain": [
       "1020"
      ]
     },
     "execution_count": 28,
     "metadata": {},
     "output_type": "execute_result"
    }
   ],
   "source": [
    "# Checking to see if there are any duplicates\n",
    "tmdb_df.duplicated().sum()"
   ]
  },
  {
   "cell_type": "markdown",
   "metadata": {},
   "source": [
    "Below I sort and display the duplicates next to each other to inspect how the various rows are duplicated, which will aid in decision-making, as to either drop the duplicates or keep them. I will use the `id` column since each movie has its own unique id."
   ]
  },
  {
   "cell_type": "code",
   "execution_count": 29,
   "metadata": {},
   "outputs": [
    {
     "data": {
      "text/html": [
       "<div>\n",
       "<style scoped>\n",
       "    .dataframe tbody tr th:only-of-type {\n",
       "        vertical-align: middle;\n",
       "    }\n",
       "\n",
       "    .dataframe tbody tr th {\n",
       "        vertical-align: top;\n",
       "    }\n",
       "\n",
       "    .dataframe thead th {\n",
       "        text-align: right;\n",
       "    }\n",
       "</style>\n",
       "<table border=\"1\" class=\"dataframe\">\n",
       "  <thead>\n",
       "    <tr style=\"text-align: right;\">\n",
       "      <th></th>\n",
       "      <th>genre_ids</th>\n",
       "      <th>id</th>\n",
       "      <th>original_language</th>\n",
       "      <th>original_title</th>\n",
       "      <th>popularity</th>\n",
       "      <th>release_date</th>\n",
       "      <th>title</th>\n",
       "      <th>vote_average</th>\n",
       "      <th>vote_count</th>\n",
       "      <th>release_year</th>\n",
       "    </tr>\n",
       "  </thead>\n",
       "  <tbody>\n",
       "    <tr>\n",
       "      <th>14173</th>\n",
       "      <td>[16, 10751, 14]</td>\n",
       "      <td>129</td>\n",
       "      <td>ja</td>\n",
       "      <td>千と千尋の神隠し</td>\n",
       "      <td>32.043</td>\n",
       "      <td>2002-09-20</td>\n",
       "      <td>Spirited Away</td>\n",
       "      <td>8.5</td>\n",
       "      <td>7424</td>\n",
       "      <td>2002</td>\n",
       "    </tr>\n",
       "    <tr>\n",
       "      <th>20626</th>\n",
       "      <td>[16, 10751, 14]</td>\n",
       "      <td>129</td>\n",
       "      <td>ja</td>\n",
       "      <td>千と千尋の神隠し</td>\n",
       "      <td>32.043</td>\n",
       "      <td>2002-09-20</td>\n",
       "      <td>Spirited Away</td>\n",
       "      <td>8.5</td>\n",
       "      <td>7424</td>\n",
       "      <td>2002</td>\n",
       "    </tr>\n",
       "    <tr>\n",
       "      <th>24000</th>\n",
       "      <td>[35, 10749]</td>\n",
       "      <td>239</td>\n",
       "      <td>en</td>\n",
       "      <td>Some Like It Hot</td>\n",
       "      <td>14.200</td>\n",
       "      <td>1959-03-18</td>\n",
       "      <td>Some Like It Hot</td>\n",
       "      <td>8.2</td>\n",
       "      <td>1562</td>\n",
       "      <td>1959</td>\n",
       "    </tr>\n",
       "    <tr>\n",
       "      <th>43</th>\n",
       "      <td>[35, 10749]</td>\n",
       "      <td>239</td>\n",
       "      <td>en</td>\n",
       "      <td>Some Like It Hot</td>\n",
       "      <td>14.200</td>\n",
       "      <td>1959-03-18</td>\n",
       "      <td>Some Like It Hot</td>\n",
       "      <td>8.2</td>\n",
       "      <td>1562</td>\n",
       "      <td>1959</td>\n",
       "    </tr>\n",
       "    <tr>\n",
       "      <th>17395</th>\n",
       "      <td>[28, 53, 878]</td>\n",
       "      <td>280</td>\n",
       "      <td>en</td>\n",
       "      <td>Terminator 2: Judgment Day</td>\n",
       "      <td>24.604</td>\n",
       "      <td>1991-07-03</td>\n",
       "      <td>Terminator 2: Judgment Day</td>\n",
       "      <td>7.9</td>\n",
       "      <td>6682</td>\n",
       "      <td>1991</td>\n",
       "    </tr>\n",
       "    <tr>\n",
       "      <th>20639</th>\n",
       "      <td>[28, 53, 878]</td>\n",
       "      <td>280</td>\n",
       "      <td>en</td>\n",
       "      <td>Terminator 2: Judgment Day</td>\n",
       "      <td>24.604</td>\n",
       "      <td>1991-07-03</td>\n",
       "      <td>Terminator 2: Judgment Day</td>\n",
       "      <td>7.9</td>\n",
       "      <td>6682</td>\n",
       "      <td>1991</td>\n",
       "    </tr>\n",
       "    <tr>\n",
       "      <th>14222</th>\n",
       "      <td>[18, 36, 10752]</td>\n",
       "      <td>387</td>\n",
       "      <td>de</td>\n",
       "      <td>Das Boot</td>\n",
       "      <td>16.554</td>\n",
       "      <td>1982-02-10</td>\n",
       "      <td>Das Boot</td>\n",
       "      <td>8.1</td>\n",
       "      <td>981</td>\n",
       "      <td>1982</td>\n",
       "    </tr>\n",
       "    <tr>\n",
       "      <th>2494</th>\n",
       "      <td>[18, 36, 10752]</td>\n",
       "      <td>387</td>\n",
       "      <td>de</td>\n",
       "      <td>Das Boot</td>\n",
       "      <td>16.554</td>\n",
       "      <td>1982-02-10</td>\n",
       "      <td>Das Boot</td>\n",
       "      <td>8.1</td>\n",
       "      <td>981</td>\n",
       "      <td>1982</td>\n",
       "    </tr>\n",
       "    <tr>\n",
       "      <th>2473</th>\n",
       "      <td>[16, 35, 10751]</td>\n",
       "      <td>862</td>\n",
       "      <td>en</td>\n",
       "      <td>Toy Story</td>\n",
       "      <td>28.005</td>\n",
       "      <td>1995-11-22</td>\n",
       "      <td>Toy Story</td>\n",
       "      <td>7.9</td>\n",
       "      <td>10174</td>\n",
       "      <td>1995</td>\n",
       "    </tr>\n",
       "    <tr>\n",
       "      <th>3</th>\n",
       "      <td>[16, 35, 10751]</td>\n",
       "      <td>862</td>\n",
       "      <td>en</td>\n",
       "      <td>Toy Story</td>\n",
       "      <td>28.005</td>\n",
       "      <td>1995-11-22</td>\n",
       "      <td>Toy Story</td>\n",
       "      <td>7.9</td>\n",
       "      <td>10174</td>\n",
       "      <td>1995</td>\n",
       "    </tr>\n",
       "  </tbody>\n",
       "</table>\n",
       "</div>"
      ],
      "text/plain": [
       "             genre_ids   id original_language              original_title  \\\n",
       "14173  [16, 10751, 14]  129                ja                    千と千尋の神隠し   \n",
       "20626  [16, 10751, 14]  129                ja                    千と千尋の神隠し   \n",
       "24000      [35, 10749]  239                en            Some Like It Hot   \n",
       "43         [35, 10749]  239                en            Some Like It Hot   \n",
       "17395    [28, 53, 878]  280                en  Terminator 2: Judgment Day   \n",
       "20639    [28, 53, 878]  280                en  Terminator 2: Judgment Day   \n",
       "14222  [18, 36, 10752]  387                de                    Das Boot   \n",
       "2494   [18, 36, 10752]  387                de                    Das Boot   \n",
       "2473   [16, 35, 10751]  862                en                   Toy Story   \n",
       "3      [16, 35, 10751]  862                en                   Toy Story   \n",
       "\n",
       "       popularity release_date                       title  vote_average  \\\n",
       "14173      32.043   2002-09-20               Spirited Away           8.5   \n",
       "20626      32.043   2002-09-20               Spirited Away           8.5   \n",
       "24000      14.200   1959-03-18            Some Like It Hot           8.2   \n",
       "43         14.200   1959-03-18            Some Like It Hot           8.2   \n",
       "17395      24.604   1991-07-03  Terminator 2: Judgment Day           7.9   \n",
       "20639      24.604   1991-07-03  Terminator 2: Judgment Day           7.9   \n",
       "14222      16.554   1982-02-10                    Das Boot           8.1   \n",
       "2494       16.554   1982-02-10                    Das Boot           8.1   \n",
       "2473       28.005   1995-11-22                   Toy Story           7.9   \n",
       "3          28.005   1995-11-22                   Toy Story           7.9   \n",
       "\n",
       "       vote_count  release_year  \n",
       "14173        7424          2002  \n",
       "20626        7424          2002  \n",
       "24000        1562          1959  \n",
       "43           1562          1959  \n",
       "17395        6682          1991  \n",
       "20639        6682          1991  \n",
       "14222         981          1982  \n",
       "2494          981          1982  \n",
       "2473        10174          1995  \n",
       "3           10174          1995  "
      ]
     },
     "execution_count": 29,
     "metadata": {},
     "output_type": "execute_result"
    }
   ],
   "source": [
    " # Sort the DataFrame by the 'id' column\n",
    "df_sorted = tmdb_df.sort_values(by='id')\n",
    "\n",
    "# Create a subset dataframe indicating which rows are duplicates\n",
    "duplicated = df_sorted.duplicated(subset=['id'], keep=False)\n",
    "\n",
    "# Display only the duplicated rows\n",
    "duplicated_rows = df_sorted[duplicated]\n",
    "\n",
    "# Display the result\n",
    "duplicated_rows.head(10)"
   ]
  },
  {
   "cell_type": "markdown",
   "metadata": {},
   "source": [
    "As displayed above, we have duplicated records which have the potential of making the analysis biased. Therefore, I will drop the duplicates permanently from the `tmdb_df` DataFrame."
   ]
  },
  {
   "cell_type": "code",
   "execution_count": 30,
   "metadata": {},
   "outputs": [
    {
     "data": {
      "text/plain": [
       "0"
      ]
     },
     "execution_count": 30,
     "metadata": {},
     "output_type": "execute_result"
    }
   ],
   "source": [
    "# Drop the duplicates\n",
    "tmdb_df = tmdb_df.drop_duplicates()\n",
    "\n",
    "# Confirm they've been dropped\n",
    "tmdb_df.duplicated().sum()"
   ]
  },
  {
   "cell_type": "markdown",
   "metadata": {},
   "source": [
    "Now that the duplicates have been dealt, I'll go ahead and check the unique `genre_ids` and do a `value_counts()`."
   ]
  },
  {
   "cell_type": "code",
   "execution_count": 31,
   "metadata": {},
   "outputs": [
    {
     "data": {
      "text/plain": [
       "array(['[12, 14, 10751]', '[14, 12, 16, 10751]', '[12, 28, 878]', ...,\n",
       "       '[18, 14, 27, 878, 10749, 53]', '[16, 27, 9648]',\n",
       "       '[10751, 12, 28]'], dtype=object)"
      ]
     },
     "execution_count": 31,
     "metadata": {},
     "output_type": "execute_result"
    }
   ],
   "source": [
    "# Check the unique `genre_ids`\n",
    "tmdb_df['genre_ids'].unique()"
   ]
  },
  {
   "cell_type": "code",
   "execution_count": 32,
   "metadata": {},
   "outputs": [
    {
     "data": {
      "text/plain": [
       "[99]           3565\n",
       "[]             2461\n",
       "[18]           2119\n",
       "[35]           1622\n",
       "[27]           1125\n",
       "[53]            466\n",
       "[35, 18]        423\n",
       "[10402]         398\n",
       "[27, 53]        353\n",
       "[18, 10749]     333\n",
       "Name: genre_ids, dtype: int64"
      ]
     },
     "execution_count": 32,
     "metadata": {},
     "output_type": "execute_result"
    }
   ],
   "source": [
    "# Get the value_counts\n",
    "tmdb_df['genre_ids'].value_counts().head(10)"
   ]
  },
  {
   "cell_type": "markdown",
   "metadata": {},
   "source": [
    "Above, I noted something interesting. There are **2,461** movies with no specified genres. This could be an instance of missing values denoted with a placeholder. \n",
    "\n",
    "Therefore, I will replace the `[]` with `NaN`, get the percentage by getting the sum of the null values divided by the length of the `genre_ids` column multiplied by 100%. Then finally find a way to deal with the missing genres."
   ]
  },
  {
   "cell_type": "code",
   "execution_count": 33,
   "metadata": {},
   "outputs": [],
   "source": [
    "warnings.filterwarnings('ignore')\n",
    "\n",
    "# Replace the `[]` with `NaN`\n",
    "tmdb_df['genre_ids'] = tmdb_df['genre_ids'].replace('[]', np.nan)"
   ]
  },
  {
   "cell_type": "code",
   "execution_count": 34,
   "metadata": {},
   "outputs": [
    {
     "data": {
      "text/plain": [
       "9.652115935208064"
      ]
     },
     "execution_count": 34,
     "metadata": {},
     "output_type": "execute_result"
    }
   ],
   "source": [
    "# Get the missing percentage\n",
    "missing_percentage2 = tmdb_df['genre_ids'].isnull().sum() / len(tmdb_df['genre_ids']) * 100\n",
    "missing_percentage2"
   ]
  },
  {
   "cell_type": "markdown",
   "metadata": {},
   "source": [
    "**9.6%** is not a big percentage of missing values, but I will go ahead and drop the rows with the missing genre ids because these rows will not be of benefit since a major part of my analysis will be centered on the `genre_ids` column."
   ]
  },
  {
   "cell_type": "code",
   "execution_count": 35,
   "metadata": {},
   "outputs": [],
   "source": [
    "# Dropping the rows with missing genre ids\n",
    "tmdb_df.dropna(subset=['genre_ids'], inplace=True)"
   ]
  },
  {
   "cell_type": "code",
   "execution_count": 36,
   "metadata": {},
   "outputs": [
    {
     "data": {
      "text/plain": [
       "[99]           3565\n",
       "[18]           2119\n",
       "[35]           1622\n",
       "[27]           1125\n",
       "[53]            466\n",
       "[35, 18]        423\n",
       "[10402]         398\n",
       "[27, 53]        353\n",
       "[18, 10749]     333\n",
       "[18, 35]        274\n",
       "Name: genre_ids, dtype: int64"
      ]
     },
     "execution_count": 36,
     "metadata": {},
     "output_type": "execute_result"
    }
   ],
   "source": [
    "# Get the value_counts again\n",
    "tmdb_df['genre_ids'].value_counts().head(10)"
   ]
  },
  {
   "cell_type": "markdown",
   "metadata": {},
   "source": [
    "Below, I define a mapping dictionary for genre_ids. Then apply the mapping dictionary to the `genre_ids` column and create a new column `genres` with genre names that will be easier to interpret especially in the visualizations.\n",
    "\n",
    "In addition, you can get the definitions of the various `genre_ids` values at [TheMovieDB `genre_ids` definitions](https://www.themoviedb.org/talk/5daf6eb0ae36680011d7e6ee)"
   ]
  },
  {
   "cell_type": "code",
   "execution_count": 37,
   "metadata": {},
   "outputs": [
    {
     "data": {
      "text/html": [
       "<div>\n",
       "<style scoped>\n",
       "    .dataframe tbody tr th:only-of-type {\n",
       "        vertical-align: middle;\n",
       "    }\n",
       "\n",
       "    .dataframe tbody tr th {\n",
       "        vertical-align: top;\n",
       "    }\n",
       "\n",
       "    .dataframe thead th {\n",
       "        text-align: right;\n",
       "    }\n",
       "</style>\n",
       "<table border=\"1\" class=\"dataframe\">\n",
       "  <thead>\n",
       "    <tr style=\"text-align: right;\">\n",
       "      <th></th>\n",
       "      <th>genre_ids</th>\n",
       "      <th>id</th>\n",
       "      <th>original_language</th>\n",
       "      <th>original_title</th>\n",
       "      <th>popularity</th>\n",
       "      <th>release_date</th>\n",
       "      <th>title</th>\n",
       "      <th>vote_average</th>\n",
       "      <th>vote_count</th>\n",
       "      <th>release_year</th>\n",
       "      <th>genres</th>\n",
       "    </tr>\n",
       "  </thead>\n",
       "  <tbody>\n",
       "    <tr>\n",
       "      <th>0</th>\n",
       "      <td>[12, 14, 10751]</td>\n",
       "      <td>12444</td>\n",
       "      <td>en</td>\n",
       "      <td>Harry Potter and the Deathly Hallows: Part 1</td>\n",
       "      <td>33.533</td>\n",
       "      <td>2010-11-19</td>\n",
       "      <td>Harry Potter and the Deathly Hallows: Part 1</td>\n",
       "      <td>7.7</td>\n",
       "      <td>10788</td>\n",
       "      <td>2010</td>\n",
       "      <td>(Adventure, Fantasy, Family)</td>\n",
       "    </tr>\n",
       "    <tr>\n",
       "      <th>1</th>\n",
       "      <td>[14, 12, 16, 10751]</td>\n",
       "      <td>10191</td>\n",
       "      <td>en</td>\n",
       "      <td>How to Train Your Dragon</td>\n",
       "      <td>28.734</td>\n",
       "      <td>2010-03-26</td>\n",
       "      <td>How to Train Your Dragon</td>\n",
       "      <td>7.7</td>\n",
       "      <td>7610</td>\n",
       "      <td>2010</td>\n",
       "      <td>(Fantasy, Adventure, Animation, Family)</td>\n",
       "    </tr>\n",
       "    <tr>\n",
       "      <th>2</th>\n",
       "      <td>[12, 28, 878]</td>\n",
       "      <td>10138</td>\n",
       "      <td>en</td>\n",
       "      <td>Iron Man 2</td>\n",
       "      <td>28.515</td>\n",
       "      <td>2010-05-07</td>\n",
       "      <td>Iron Man 2</td>\n",
       "      <td>6.8</td>\n",
       "      <td>12368</td>\n",
       "      <td>2010</td>\n",
       "      <td>(Adventure, Action, Science Fiction)</td>\n",
       "    </tr>\n",
       "    <tr>\n",
       "      <th>3</th>\n",
       "      <td>[16, 35, 10751]</td>\n",
       "      <td>862</td>\n",
       "      <td>en</td>\n",
       "      <td>Toy Story</td>\n",
       "      <td>28.005</td>\n",
       "      <td>1995-11-22</td>\n",
       "      <td>Toy Story</td>\n",
       "      <td>7.9</td>\n",
       "      <td>10174</td>\n",
       "      <td>1995</td>\n",
       "      <td>(Animation, Comedy, Family)</td>\n",
       "    </tr>\n",
       "    <tr>\n",
       "      <th>4</th>\n",
       "      <td>[28, 878, 12]</td>\n",
       "      <td>27205</td>\n",
       "      <td>en</td>\n",
       "      <td>Inception</td>\n",
       "      <td>27.920</td>\n",
       "      <td>2010-07-16</td>\n",
       "      <td>Inception</td>\n",
       "      <td>8.3</td>\n",
       "      <td>22186</td>\n",
       "      <td>2010</td>\n",
       "      <td>(Action, Science Fiction, Adventure)</td>\n",
       "    </tr>\n",
       "  </tbody>\n",
       "</table>\n",
       "</div>"
      ],
      "text/plain": [
       "             genre_ids     id original_language  \\\n",
       "0      [12, 14, 10751]  12444                en   \n",
       "1  [14, 12, 16, 10751]  10191                en   \n",
       "2        [12, 28, 878]  10138                en   \n",
       "3      [16, 35, 10751]    862                en   \n",
       "4        [28, 878, 12]  27205                en   \n",
       "\n",
       "                                 original_title  popularity release_date  \\\n",
       "0  Harry Potter and the Deathly Hallows: Part 1      33.533   2010-11-19   \n",
       "1                      How to Train Your Dragon      28.734   2010-03-26   \n",
       "2                                    Iron Man 2      28.515   2010-05-07   \n",
       "3                                     Toy Story      28.005   1995-11-22   \n",
       "4                                     Inception      27.920   2010-07-16   \n",
       "\n",
       "                                          title  vote_average  vote_count  \\\n",
       "0  Harry Potter and the Deathly Hallows: Part 1           7.7       10788   \n",
       "1                      How to Train Your Dragon           7.7        7610   \n",
       "2                                    Iron Man 2           6.8       12368   \n",
       "3                                     Toy Story           7.9       10174   \n",
       "4                                     Inception           8.3       22186   \n",
       "\n",
       "   release_year                                   genres  \n",
       "0          2010             (Adventure, Fantasy, Family)  \n",
       "1          2010  (Fantasy, Adventure, Animation, Family)  \n",
       "2          2010     (Adventure, Action, Science Fiction)  \n",
       "3          1995              (Animation, Comedy, Family)  \n",
       "4          2010     (Action, Science Fiction, Adventure)  "
      ]
     },
     "execution_count": 37,
     "metadata": {},
     "output_type": "execute_result"
    }
   ],
   "source": [
    "# Define a mapping dictionary for genre ids to genre names\n",
    "genre_map = {28: 'Action', 12: 'Adventure', 16: 'Animation', 35: 'Comedy',\n",
    "             80: 'Crime', 99: 'Documentary', 18: 'Drama', 10751: 'Family',\n",
    "             14: 'Fantasy', 36: 'History', 27: 'Horror', 10402: 'Music',\n",
    "             9648: 'Mystery', 10749: 'Romance', 878: 'Science Fiction',\n",
    "             10770: 'TV Movie', 53: 'Thriller', 10752: 'War', 37: 'Western'}\n",
    "\n",
    "# Apply the mapping dictionary to the `genre_ids` column and create a new column with genre names\n",
    "tmdb_df['genres'] = tmdb_df['genre_ids'].apply(lambda x: [genre_map[int(i.strip('[]'))] for i in x.split(\",\")]\n",
    "                                               if isinstance(x, str) and len(x) > 0 else [])\n",
    "\n",
    "# Convert the `genres` datatype from list to tuple to make them hashable\n",
    "tmdb_df['genres'] = tmdb_df['genres'].apply(lambda x: tuple(x))\n",
    "\n",
    "#Display to confirm it has worked\n",
    "tmdb_df.head()"
   ]
  },
  {
   "cell_type": "markdown",
   "metadata": {},
   "source": [
    "Now we can display the **final output** to see how our DataFrame looks like after the cleaning and preprocessing."
   ]
  },
  {
   "cell_type": "code",
   "execution_count": 38,
   "metadata": {},
   "outputs": [
    {
     "data": {
      "text/html": [
       "<div>\n",
       "<style scoped>\n",
       "    .dataframe tbody tr th:only-of-type {\n",
       "        vertical-align: middle;\n",
       "    }\n",
       "\n",
       "    .dataframe tbody tr th {\n",
       "        vertical-align: top;\n",
       "    }\n",
       "\n",
       "    .dataframe thead th {\n",
       "        text-align: right;\n",
       "    }\n",
       "</style>\n",
       "<table border=\"1\" class=\"dataframe\">\n",
       "  <thead>\n",
       "    <tr style=\"text-align: right;\">\n",
       "      <th></th>\n",
       "      <th>genre_ids</th>\n",
       "      <th>id</th>\n",
       "      <th>original_language</th>\n",
       "      <th>original_title</th>\n",
       "      <th>popularity</th>\n",
       "      <th>release_date</th>\n",
       "      <th>title</th>\n",
       "      <th>vote_average</th>\n",
       "      <th>vote_count</th>\n",
       "      <th>release_year</th>\n",
       "      <th>genres</th>\n",
       "    </tr>\n",
       "  </thead>\n",
       "  <tbody>\n",
       "    <tr>\n",
       "      <th>0</th>\n",
       "      <td>[12, 14, 10751]</td>\n",
       "      <td>12444</td>\n",
       "      <td>en</td>\n",
       "      <td>Harry Potter and the Deathly Hallows: Part 1</td>\n",
       "      <td>33.533</td>\n",
       "      <td>2010-11-19</td>\n",
       "      <td>Harry Potter and the Deathly Hallows: Part 1</td>\n",
       "      <td>7.7</td>\n",
       "      <td>10788</td>\n",
       "      <td>2010</td>\n",
       "      <td>(Adventure, Fantasy, Family)</td>\n",
       "    </tr>\n",
       "    <tr>\n",
       "      <th>1</th>\n",
       "      <td>[14, 12, 16, 10751]</td>\n",
       "      <td>10191</td>\n",
       "      <td>en</td>\n",
       "      <td>How to Train Your Dragon</td>\n",
       "      <td>28.734</td>\n",
       "      <td>2010-03-26</td>\n",
       "      <td>How to Train Your Dragon</td>\n",
       "      <td>7.7</td>\n",
       "      <td>7610</td>\n",
       "      <td>2010</td>\n",
       "      <td>(Fantasy, Adventure, Animation, Family)</td>\n",
       "    </tr>\n",
       "    <tr>\n",
       "      <th>2</th>\n",
       "      <td>[12, 28, 878]</td>\n",
       "      <td>10138</td>\n",
       "      <td>en</td>\n",
       "      <td>Iron Man 2</td>\n",
       "      <td>28.515</td>\n",
       "      <td>2010-05-07</td>\n",
       "      <td>Iron Man 2</td>\n",
       "      <td>6.8</td>\n",
       "      <td>12368</td>\n",
       "      <td>2010</td>\n",
       "      <td>(Adventure, Action, Science Fiction)</td>\n",
       "    </tr>\n",
       "    <tr>\n",
       "      <th>3</th>\n",
       "      <td>[16, 35, 10751]</td>\n",
       "      <td>862</td>\n",
       "      <td>en</td>\n",
       "      <td>Toy Story</td>\n",
       "      <td>28.005</td>\n",
       "      <td>1995-11-22</td>\n",
       "      <td>Toy Story</td>\n",
       "      <td>7.9</td>\n",
       "      <td>10174</td>\n",
       "      <td>1995</td>\n",
       "      <td>(Animation, Comedy, Family)</td>\n",
       "    </tr>\n",
       "    <tr>\n",
       "      <th>4</th>\n",
       "      <td>[28, 878, 12]</td>\n",
       "      <td>27205</td>\n",
       "      <td>en</td>\n",
       "      <td>Inception</td>\n",
       "      <td>27.920</td>\n",
       "      <td>2010-07-16</td>\n",
       "      <td>Inception</td>\n",
       "      <td>8.3</td>\n",
       "      <td>22186</td>\n",
       "      <td>2010</td>\n",
       "      <td>(Action, Science Fiction, Adventure)</td>\n",
       "    </tr>\n",
       "    <tr>\n",
       "      <th>...</th>\n",
       "      <td>...</td>\n",
       "      <td>...</td>\n",
       "      <td>...</td>\n",
       "      <td>...</td>\n",
       "      <td>...</td>\n",
       "      <td>...</td>\n",
       "      <td>...</td>\n",
       "      <td>...</td>\n",
       "      <td>...</td>\n",
       "      <td>...</td>\n",
       "      <td>...</td>\n",
       "    </tr>\n",
       "    <tr>\n",
       "      <th>26512</th>\n",
       "      <td>[27, 18]</td>\n",
       "      <td>488143</td>\n",
       "      <td>en</td>\n",
       "      <td>Laboratory Conditions</td>\n",
       "      <td>0.600</td>\n",
       "      <td>2018-10-13</td>\n",
       "      <td>Laboratory Conditions</td>\n",
       "      <td>0.0</td>\n",
       "      <td>1</td>\n",
       "      <td>2018</td>\n",
       "      <td>(Horror, Drama)</td>\n",
       "    </tr>\n",
       "    <tr>\n",
       "      <th>26513</th>\n",
       "      <td>[18, 53]</td>\n",
       "      <td>485975</td>\n",
       "      <td>en</td>\n",
       "      <td>_EXHIBIT_84xxx_</td>\n",
       "      <td>0.600</td>\n",
       "      <td>2018-05-01</td>\n",
       "      <td>_EXHIBIT_84xxx_</td>\n",
       "      <td>0.0</td>\n",
       "      <td>1</td>\n",
       "      <td>2018</td>\n",
       "      <td>(Drama, Thriller)</td>\n",
       "    </tr>\n",
       "    <tr>\n",
       "      <th>26514</th>\n",
       "      <td>[14, 28, 12]</td>\n",
       "      <td>381231</td>\n",
       "      <td>en</td>\n",
       "      <td>The Last One</td>\n",
       "      <td>0.600</td>\n",
       "      <td>2018-10-01</td>\n",
       "      <td>The Last One</td>\n",
       "      <td>0.0</td>\n",
       "      <td>1</td>\n",
       "      <td>2018</td>\n",
       "      <td>(Fantasy, Action, Adventure)</td>\n",
       "    </tr>\n",
       "    <tr>\n",
       "      <th>26515</th>\n",
       "      <td>[10751, 12, 28]</td>\n",
       "      <td>366854</td>\n",
       "      <td>en</td>\n",
       "      <td>Trailer Made</td>\n",
       "      <td>0.600</td>\n",
       "      <td>2018-06-22</td>\n",
       "      <td>Trailer Made</td>\n",
       "      <td>0.0</td>\n",
       "      <td>1</td>\n",
       "      <td>2018</td>\n",
       "      <td>(Family, Adventure, Action)</td>\n",
       "    </tr>\n",
       "    <tr>\n",
       "      <th>26516</th>\n",
       "      <td>[53, 27]</td>\n",
       "      <td>309885</td>\n",
       "      <td>en</td>\n",
       "      <td>The Church</td>\n",
       "      <td>0.600</td>\n",
       "      <td>2018-10-05</td>\n",
       "      <td>The Church</td>\n",
       "      <td>0.0</td>\n",
       "      <td>1</td>\n",
       "      <td>2018</td>\n",
       "      <td>(Thriller, Horror)</td>\n",
       "    </tr>\n",
       "  </tbody>\n",
       "</table>\n",
       "<p>23036 rows × 11 columns</p>\n",
       "</div>"
      ],
      "text/plain": [
       "                 genre_ids      id original_language  \\\n",
       "0          [12, 14, 10751]   12444                en   \n",
       "1      [14, 12, 16, 10751]   10191                en   \n",
       "2            [12, 28, 878]   10138                en   \n",
       "3          [16, 35, 10751]     862                en   \n",
       "4            [28, 878, 12]   27205                en   \n",
       "...                    ...     ...               ...   \n",
       "26512             [27, 18]  488143                en   \n",
       "26513             [18, 53]  485975                en   \n",
       "26514         [14, 28, 12]  381231                en   \n",
       "26515      [10751, 12, 28]  366854                en   \n",
       "26516             [53, 27]  309885                en   \n",
       "\n",
       "                                     original_title  popularity release_date  \\\n",
       "0      Harry Potter and the Deathly Hallows: Part 1      33.533   2010-11-19   \n",
       "1                          How to Train Your Dragon      28.734   2010-03-26   \n",
       "2                                        Iron Man 2      28.515   2010-05-07   \n",
       "3                                         Toy Story      28.005   1995-11-22   \n",
       "4                                         Inception      27.920   2010-07-16   \n",
       "...                                             ...         ...          ...   \n",
       "26512                         Laboratory Conditions       0.600   2018-10-13   \n",
       "26513                               _EXHIBIT_84xxx_       0.600   2018-05-01   \n",
       "26514                                  The Last One       0.600   2018-10-01   \n",
       "26515                                  Trailer Made       0.600   2018-06-22   \n",
       "26516                                    The Church       0.600   2018-10-05   \n",
       "\n",
       "                                              title  vote_average  vote_count  \\\n",
       "0      Harry Potter and the Deathly Hallows: Part 1           7.7       10788   \n",
       "1                          How to Train Your Dragon           7.7        7610   \n",
       "2                                        Iron Man 2           6.8       12368   \n",
       "3                                         Toy Story           7.9       10174   \n",
       "4                                         Inception           8.3       22186   \n",
       "...                                             ...           ...         ...   \n",
       "26512                         Laboratory Conditions           0.0           1   \n",
       "26513                               _EXHIBIT_84xxx_           0.0           1   \n",
       "26514                                  The Last One           0.0           1   \n",
       "26515                                  Trailer Made           0.0           1   \n",
       "26516                                    The Church           0.0           1   \n",
       "\n",
       "       release_year                                   genres  \n",
       "0              2010             (Adventure, Fantasy, Family)  \n",
       "1              2010  (Fantasy, Adventure, Animation, Family)  \n",
       "2              2010     (Adventure, Action, Science Fiction)  \n",
       "3              1995              (Animation, Comedy, Family)  \n",
       "4              2010     (Action, Science Fiction, Adventure)  \n",
       "...             ...                                      ...  \n",
       "26512          2018                          (Horror, Drama)  \n",
       "26513          2018                        (Drama, Thriller)  \n",
       "26514          2018             (Fantasy, Action, Adventure)  \n",
       "26515          2018              (Family, Adventure, Action)  \n",
       "26516          2018                       (Thriller, Horror)  \n",
       "\n",
       "[23036 rows x 11 columns]"
      ]
     },
     "execution_count": 38,
     "metadata": {},
     "output_type": "execute_result"
    }
   ],
   "source": [
    "tmdb_df"
   ]
  },
  {
   "cell_type": "code",
   "execution_count": 39,
   "metadata": {},
   "outputs": [
    {
     "name": "stdout",
     "output_type": "stream",
     "text": [
      "<class 'pandas.core.frame.DataFrame'>\n",
      "Int64Index: 23036 entries, 0 to 26516\n",
      "Data columns (total 11 columns):\n",
      " #   Column             Non-Null Count  Dtype         \n",
      "---  ------             --------------  -----         \n",
      " 0   genre_ids          23036 non-null  object        \n",
      " 1   id                 23036 non-null  int64         \n",
      " 2   original_language  23036 non-null  object        \n",
      " 3   original_title     23036 non-null  object        \n",
      " 4   popularity         23036 non-null  float64       \n",
      " 5   release_date       23036 non-null  datetime64[ns]\n",
      " 6   title              23036 non-null  object        \n",
      " 7   vote_average       23036 non-null  float64       \n",
      " 8   vote_count         23036 non-null  int64         \n",
      " 9   release_year       23036 non-null  int64         \n",
      " 10  genres             23036 non-null  object        \n",
      "dtypes: datetime64[ns](1), float64(2), int64(3), object(5)\n",
      "memory usage: 2.1+ MB\n"
     ]
    }
   ],
   "source": [
    "tmdb_df.info()"
   ]
  },
  {
   "cell_type": "markdown",
   "metadata": {},
   "source": [
    "Next, after cleaning and pre-processing, I **merge** the dataset from [TheMovieDB](https://www.themoviedb.org/) with the dataset from [Box Office Mojo](https://www.boxofficemojo.com/). "
   ]
  },
  {
   "cell_type": "code",
   "execution_count": 40,
   "metadata": {},
   "outputs": [
    {
     "data": {
      "text/html": [
       "<div>\n",
       "<style scoped>\n",
       "    .dataframe tbody tr th:only-of-type {\n",
       "        vertical-align: middle;\n",
       "    }\n",
       "\n",
       "    .dataframe tbody tr th {\n",
       "        vertical-align: top;\n",
       "    }\n",
       "\n",
       "    .dataframe thead th {\n",
       "        text-align: right;\n",
       "    }\n",
       "</style>\n",
       "<table border=\"1\" class=\"dataframe\">\n",
       "  <thead>\n",
       "    <tr style=\"text-align: right;\">\n",
       "      <th></th>\n",
       "      <th>title</th>\n",
       "      <th>studio</th>\n",
       "      <th>domestic_gross</th>\n",
       "      <th>year</th>\n",
       "      <th>release_year</th>\n",
       "      <th>genre_ids</th>\n",
       "      <th>id</th>\n",
       "      <th>original_language</th>\n",
       "      <th>original_title</th>\n",
       "      <th>popularity</th>\n",
       "      <th>release_date</th>\n",
       "      <th>vote_average</th>\n",
       "      <th>vote_count</th>\n",
       "      <th>genres</th>\n",
       "    </tr>\n",
       "  </thead>\n",
       "  <tbody>\n",
       "    <tr>\n",
       "      <th>0</th>\n",
       "      <td>Toy Story 3</td>\n",
       "      <td>BV</td>\n",
       "      <td>415000000.0</td>\n",
       "      <td>2010-01-01</td>\n",
       "      <td>2010</td>\n",
       "      <td>[16, 10751, 35]</td>\n",
       "      <td>10193</td>\n",
       "      <td>en</td>\n",
       "      <td>Toy Story 3</td>\n",
       "      <td>24.445</td>\n",
       "      <td>2010-06-17</td>\n",
       "      <td>7.7</td>\n",
       "      <td>8340</td>\n",
       "      <td>(Animation, Family, Comedy)</td>\n",
       "    </tr>\n",
       "    <tr>\n",
       "      <th>1</th>\n",
       "      <td>Inception</td>\n",
       "      <td>WB</td>\n",
       "      <td>292600000.0</td>\n",
       "      <td>2010-01-01</td>\n",
       "      <td>2010</td>\n",
       "      <td>[28, 878, 12]</td>\n",
       "      <td>27205</td>\n",
       "      <td>en</td>\n",
       "      <td>Inception</td>\n",
       "      <td>27.920</td>\n",
       "      <td>2010-07-16</td>\n",
       "      <td>8.3</td>\n",
       "      <td>22186</td>\n",
       "      <td>(Action, Science Fiction, Adventure)</td>\n",
       "    </tr>\n",
       "    <tr>\n",
       "      <th>2</th>\n",
       "      <td>Shrek Forever After</td>\n",
       "      <td>P/DW</td>\n",
       "      <td>238700000.0</td>\n",
       "      <td>2010-01-01</td>\n",
       "      <td>2010</td>\n",
       "      <td>[35, 12, 14, 16, 10751]</td>\n",
       "      <td>10192</td>\n",
       "      <td>en</td>\n",
       "      <td>Shrek Forever After</td>\n",
       "      <td>15.041</td>\n",
       "      <td>2010-05-16</td>\n",
       "      <td>6.1</td>\n",
       "      <td>3843</td>\n",
       "      <td>(Comedy, Adventure, Fantasy, Animation, Family)</td>\n",
       "    </tr>\n",
       "    <tr>\n",
       "      <th>3</th>\n",
       "      <td>The Twilight Saga: Eclipse</td>\n",
       "      <td>Sum.</td>\n",
       "      <td>300500000.0</td>\n",
       "      <td>2010-01-01</td>\n",
       "      <td>2010</td>\n",
       "      <td>[12, 14, 18, 10749]</td>\n",
       "      <td>24021</td>\n",
       "      <td>en</td>\n",
       "      <td>The Twilight Saga: Eclipse</td>\n",
       "      <td>20.340</td>\n",
       "      <td>2010-06-23</td>\n",
       "      <td>6.0</td>\n",
       "      <td>4909</td>\n",
       "      <td>(Adventure, Fantasy, Drama, Romance)</td>\n",
       "    </tr>\n",
       "    <tr>\n",
       "      <th>4</th>\n",
       "      <td>Iron Man 2</td>\n",
       "      <td>Par.</td>\n",
       "      <td>312400000.0</td>\n",
       "      <td>2010-01-01</td>\n",
       "      <td>2010</td>\n",
       "      <td>[12, 28, 878]</td>\n",
       "      <td>10138</td>\n",
       "      <td>en</td>\n",
       "      <td>Iron Man 2</td>\n",
       "      <td>28.515</td>\n",
       "      <td>2010-05-07</td>\n",
       "      <td>6.8</td>\n",
       "      <td>12368</td>\n",
       "      <td>(Adventure, Action, Science Fiction)</td>\n",
       "    </tr>\n",
       "    <tr>\n",
       "      <th>...</th>\n",
       "      <td>...</td>\n",
       "      <td>...</td>\n",
       "      <td>...</td>\n",
       "      <td>...</td>\n",
       "      <td>...</td>\n",
       "      <td>...</td>\n",
       "      <td>...</td>\n",
       "      <td>...</td>\n",
       "      <td>...</td>\n",
       "      <td>...</td>\n",
       "      <td>...</td>\n",
       "      <td>...</td>\n",
       "      <td>...</td>\n",
       "      <td>...</td>\n",
       "    </tr>\n",
       "    <tr>\n",
       "      <th>2092</th>\n",
       "      <td>I Am Not a Witch</td>\n",
       "      <td>FM</td>\n",
       "      <td>50900.0</td>\n",
       "      <td>2018-01-01</td>\n",
       "      <td>2018</td>\n",
       "      <td>[18]</td>\n",
       "      <td>449757</td>\n",
       "      <td>en</td>\n",
       "      <td>I Am Not a Witch</td>\n",
       "      <td>3.499</td>\n",
       "      <td>2018-09-07</td>\n",
       "      <td>6.9</td>\n",
       "      <td>33</td>\n",
       "      <td>(Drama,)</td>\n",
       "    </tr>\n",
       "    <tr>\n",
       "      <th>2093</th>\n",
       "      <td>Elliot: The Littlest Reindeer</td>\n",
       "      <td>Scre.</td>\n",
       "      <td>24300.0</td>\n",
       "      <td>2018-01-01</td>\n",
       "      <td>2018</td>\n",
       "      <td>[16, 10751, 12]</td>\n",
       "      <td>455842</td>\n",
       "      <td>en</td>\n",
       "      <td>Elliot: The Littlest Reindeer</td>\n",
       "      <td>2.903</td>\n",
       "      <td>2018-11-30</td>\n",
       "      <td>3.4</td>\n",
       "      <td>7</td>\n",
       "      <td>(Animation, Family, Adventure)</td>\n",
       "    </tr>\n",
       "    <tr>\n",
       "      <th>2094</th>\n",
       "      <td>Loving Pablo</td>\n",
       "      <td>Uni.</td>\n",
       "      <td>22000.0</td>\n",
       "      <td>2018-01-01</td>\n",
       "      <td>2018</td>\n",
       "      <td>[80, 18]</td>\n",
       "      <td>425336</td>\n",
       "      <td>es</td>\n",
       "      <td>Loving Pablo</td>\n",
       "      <td>12.937</td>\n",
       "      <td>2018-06-15</td>\n",
       "      <td>6.1</td>\n",
       "      <td>505</td>\n",
       "      <td>(Crime, Drama)</td>\n",
       "    </tr>\n",
       "    <tr>\n",
       "      <th>2095</th>\n",
       "      <td>The Quake</td>\n",
       "      <td>Magn.</td>\n",
       "      <td>6200.0</td>\n",
       "      <td>2018-01-01</td>\n",
       "      <td>2018</td>\n",
       "      <td>[12]</td>\n",
       "      <td>416194</td>\n",
       "      <td>no</td>\n",
       "      <td>Skjelvet</td>\n",
       "      <td>11.051</td>\n",
       "      <td>2018-12-14</td>\n",
       "      <td>6.7</td>\n",
       "      <td>81</td>\n",
       "      <td>(Adventure,)</td>\n",
       "    </tr>\n",
       "    <tr>\n",
       "      <th>2096</th>\n",
       "      <td>An Actor Prepares</td>\n",
       "      <td>Grav.</td>\n",
       "      <td>1700.0</td>\n",
       "      <td>2018-01-01</td>\n",
       "      <td>2018</td>\n",
       "      <td>[35, 18]</td>\n",
       "      <td>434596</td>\n",
       "      <td>en</td>\n",
       "      <td>An Actor Prepares</td>\n",
       "      <td>7.244</td>\n",
       "      <td>2018-08-31</td>\n",
       "      <td>6.5</td>\n",
       "      <td>10</td>\n",
       "      <td>(Comedy, Drama)</td>\n",
       "    </tr>\n",
       "  </tbody>\n",
       "</table>\n",
       "<p>2097 rows × 14 columns</p>\n",
       "</div>"
      ],
      "text/plain": [
       "                              title studio  domestic_gross       year  \\\n",
       "0                       Toy Story 3     BV     415000000.0 2010-01-01   \n",
       "1                         Inception     WB     292600000.0 2010-01-01   \n",
       "2               Shrek Forever After   P/DW     238700000.0 2010-01-01   \n",
       "3        The Twilight Saga: Eclipse   Sum.     300500000.0 2010-01-01   \n",
       "4                        Iron Man 2   Par.     312400000.0 2010-01-01   \n",
       "...                             ...    ...             ...        ...   \n",
       "2092               I Am Not a Witch     FM         50900.0 2018-01-01   \n",
       "2093  Elliot: The Littlest Reindeer  Scre.         24300.0 2018-01-01   \n",
       "2094                   Loving Pablo   Uni.         22000.0 2018-01-01   \n",
       "2095                      The Quake  Magn.          6200.0 2018-01-01   \n",
       "2096              An Actor Prepares  Grav.          1700.0 2018-01-01   \n",
       "\n",
       "      release_year                genre_ids      id original_language  \\\n",
       "0             2010          [16, 10751, 35]   10193                en   \n",
       "1             2010            [28, 878, 12]   27205                en   \n",
       "2             2010  [35, 12, 14, 16, 10751]   10192                en   \n",
       "3             2010      [12, 14, 18, 10749]   24021                en   \n",
       "4             2010            [12, 28, 878]   10138                en   \n",
       "...            ...                      ...     ...               ...   \n",
       "2092          2018                     [18]  449757                en   \n",
       "2093          2018          [16, 10751, 12]  455842                en   \n",
       "2094          2018                 [80, 18]  425336                es   \n",
       "2095          2018                     [12]  416194                no   \n",
       "2096          2018                 [35, 18]  434596                en   \n",
       "\n",
       "                     original_title  popularity release_date  vote_average  \\\n",
       "0                       Toy Story 3      24.445   2010-06-17           7.7   \n",
       "1                         Inception      27.920   2010-07-16           8.3   \n",
       "2               Shrek Forever After      15.041   2010-05-16           6.1   \n",
       "3        The Twilight Saga: Eclipse      20.340   2010-06-23           6.0   \n",
       "4                        Iron Man 2      28.515   2010-05-07           6.8   \n",
       "...                             ...         ...          ...           ...   \n",
       "2092               I Am Not a Witch       3.499   2018-09-07           6.9   \n",
       "2093  Elliot: The Littlest Reindeer       2.903   2018-11-30           3.4   \n",
       "2094                   Loving Pablo      12.937   2018-06-15           6.1   \n",
       "2095                       Skjelvet      11.051   2018-12-14           6.7   \n",
       "2096              An Actor Prepares       7.244   2018-08-31           6.5   \n",
       "\n",
       "      vote_count                                           genres  \n",
       "0           8340                      (Animation, Family, Comedy)  \n",
       "1          22186             (Action, Science Fiction, Adventure)  \n",
       "2           3843  (Comedy, Adventure, Fantasy, Animation, Family)  \n",
       "3           4909             (Adventure, Fantasy, Drama, Romance)  \n",
       "4          12368             (Adventure, Action, Science Fiction)  \n",
       "...          ...                                              ...  \n",
       "2092          33                                         (Drama,)  \n",
       "2093           7                   (Animation, Family, Adventure)  \n",
       "2094         505                                   (Crime, Drama)  \n",
       "2095          81                                     (Adventure,)  \n",
       "2096          10                                  (Comedy, Drama)  \n",
       "\n",
       "[2097 rows x 14 columns]"
      ]
     },
     "execution_count": 40,
     "metadata": {},
     "output_type": "execute_result"
    }
   ],
   "source": [
    "# Merge the two datasets on the `title` and `release_year` columns\n",
    "merged_df = pd.merge(bom_df, tmdb_df, on=['title','release_year'], how='inner')\n",
    "merged_df"
   ]
  },
  {
   "cell_type": "markdown",
   "metadata": {},
   "source": [
    "In the process of merging, we lose data in terms of the number of records(rows) but I have more features(columns) to analyze.\n",
    "Sometimes the number of records in a dataset is not always an indication of its quality or usefulness. What matters most is whether the data is relevant to your analysis and can help you make informed decisions or take action. That's why I did an **inner** join operation as opposed to the other types of joins since they would have resulted in a lot of missing data for records with no matching values. "
   ]
  },
  {
   "cell_type": "markdown",
   "metadata": {},
   "source": [
    "Next up, loading the third and final dataset!"
   ]
  },
  {
   "cell_type": "markdown",
   "metadata": {},
   "source": [
    "### Loading the data from [The Numbers](https://www.the-numbers.com/) website with Pandas"
   ]
  },
  {
   "cell_type": "code",
   "execution_count": 41,
   "metadata": {},
   "outputs": [
    {
     "data": {
      "text/html": [
       "<div>\n",
       "<style scoped>\n",
       "    .dataframe tbody tr th:only-of-type {\n",
       "        vertical-align: middle;\n",
       "    }\n",
       "\n",
       "    .dataframe tbody tr th {\n",
       "        vertical-align: top;\n",
       "    }\n",
       "\n",
       "    .dataframe thead th {\n",
       "        text-align: right;\n",
       "    }\n",
       "</style>\n",
       "<table border=\"1\" class=\"dataframe\">\n",
       "  <thead>\n",
       "    <tr style=\"text-align: right;\">\n",
       "      <th></th>\n",
       "      <th>id</th>\n",
       "      <th>release_date</th>\n",
       "      <th>movie</th>\n",
       "      <th>production_budget</th>\n",
       "      <th>domestic_gross</th>\n",
       "      <th>worldwide_gross</th>\n",
       "    </tr>\n",
       "  </thead>\n",
       "  <tbody>\n",
       "    <tr>\n",
       "      <th>0</th>\n",
       "      <td>1</td>\n",
       "      <td>Dec 18, 2009</td>\n",
       "      <td>Avatar</td>\n",
       "      <td>$425,000,000</td>\n",
       "      <td>$760,507,625</td>\n",
       "      <td>$2,776,345,279</td>\n",
       "    </tr>\n",
       "    <tr>\n",
       "      <th>1</th>\n",
       "      <td>2</td>\n",
       "      <td>May 20, 2011</td>\n",
       "      <td>Pirates of the Caribbean: On Stranger Tides</td>\n",
       "      <td>$410,600,000</td>\n",
       "      <td>$241,063,875</td>\n",
       "      <td>$1,045,663,875</td>\n",
       "    </tr>\n",
       "    <tr>\n",
       "      <th>2</th>\n",
       "      <td>3</td>\n",
       "      <td>Jun 7, 2019</td>\n",
       "      <td>Dark Phoenix</td>\n",
       "      <td>$350,000,000</td>\n",
       "      <td>$42,762,350</td>\n",
       "      <td>$149,762,350</td>\n",
       "    </tr>\n",
       "    <tr>\n",
       "      <th>3</th>\n",
       "      <td>4</td>\n",
       "      <td>May 1, 2015</td>\n",
       "      <td>Avengers: Age of Ultron</td>\n",
       "      <td>$330,600,000</td>\n",
       "      <td>$459,005,868</td>\n",
       "      <td>$1,403,013,963</td>\n",
       "    </tr>\n",
       "    <tr>\n",
       "      <th>4</th>\n",
       "      <td>5</td>\n",
       "      <td>Dec 15, 2017</td>\n",
       "      <td>Star Wars Ep. VIII: The Last Jedi</td>\n",
       "      <td>$317,000,000</td>\n",
       "      <td>$620,181,382</td>\n",
       "      <td>$1,316,721,747</td>\n",
       "    </tr>\n",
       "    <tr>\n",
       "      <th>...</th>\n",
       "      <td>...</td>\n",
       "      <td>...</td>\n",
       "      <td>...</td>\n",
       "      <td>...</td>\n",
       "      <td>...</td>\n",
       "      <td>...</td>\n",
       "    </tr>\n",
       "    <tr>\n",
       "      <th>5777</th>\n",
       "      <td>78</td>\n",
       "      <td>Dec 31, 2018</td>\n",
       "      <td>Red 11</td>\n",
       "      <td>$7,000</td>\n",
       "      <td>$0</td>\n",
       "      <td>$0</td>\n",
       "    </tr>\n",
       "    <tr>\n",
       "      <th>5778</th>\n",
       "      <td>79</td>\n",
       "      <td>Apr 2, 1999</td>\n",
       "      <td>Following</td>\n",
       "      <td>$6,000</td>\n",
       "      <td>$48,482</td>\n",
       "      <td>$240,495</td>\n",
       "    </tr>\n",
       "    <tr>\n",
       "      <th>5779</th>\n",
       "      <td>80</td>\n",
       "      <td>Jul 13, 2005</td>\n",
       "      <td>Return to the Land of Wonders</td>\n",
       "      <td>$5,000</td>\n",
       "      <td>$1,338</td>\n",
       "      <td>$1,338</td>\n",
       "    </tr>\n",
       "    <tr>\n",
       "      <th>5780</th>\n",
       "      <td>81</td>\n",
       "      <td>Sep 29, 2015</td>\n",
       "      <td>A Plague So Pleasant</td>\n",
       "      <td>$1,400</td>\n",
       "      <td>$0</td>\n",
       "      <td>$0</td>\n",
       "    </tr>\n",
       "    <tr>\n",
       "      <th>5781</th>\n",
       "      <td>82</td>\n",
       "      <td>Aug 5, 2005</td>\n",
       "      <td>My Date With Drew</td>\n",
       "      <td>$1,100</td>\n",
       "      <td>$181,041</td>\n",
       "      <td>$181,041</td>\n",
       "    </tr>\n",
       "  </tbody>\n",
       "</table>\n",
       "<p>5782 rows × 6 columns</p>\n",
       "</div>"
      ],
      "text/plain": [
       "      id  release_date                                        movie  \\\n",
       "0      1  Dec 18, 2009                                       Avatar   \n",
       "1      2  May 20, 2011  Pirates of the Caribbean: On Stranger Tides   \n",
       "2      3   Jun 7, 2019                                 Dark Phoenix   \n",
       "3      4   May 1, 2015                      Avengers: Age of Ultron   \n",
       "4      5  Dec 15, 2017            Star Wars Ep. VIII: The Last Jedi   \n",
       "...   ..           ...                                          ...   \n",
       "5777  78  Dec 31, 2018                                       Red 11   \n",
       "5778  79   Apr 2, 1999                                    Following   \n",
       "5779  80  Jul 13, 2005                Return to the Land of Wonders   \n",
       "5780  81  Sep 29, 2015                         A Plague So Pleasant   \n",
       "5781  82   Aug 5, 2005                            My Date With Drew   \n",
       "\n",
       "     production_budget domestic_gross worldwide_gross  \n",
       "0         $425,000,000   $760,507,625  $2,776,345,279  \n",
       "1         $410,600,000   $241,063,875  $1,045,663,875  \n",
       "2         $350,000,000    $42,762,350    $149,762,350  \n",
       "3         $330,600,000   $459,005,868  $1,403,013,963  \n",
       "4         $317,000,000   $620,181,382  $1,316,721,747  \n",
       "...                ...            ...             ...  \n",
       "5777            $7,000             $0              $0  \n",
       "5778            $6,000        $48,482        $240,495  \n",
       "5779            $5,000         $1,338          $1,338  \n",
       "5780            $1,400             $0              $0  \n",
       "5781            $1,100       $181,041        $181,041  \n",
       "\n",
       "[5782 rows x 6 columns]"
      ]
     },
     "execution_count": 41,
     "metadata": {},
     "output_type": "execute_result"
    }
   ],
   "source": [
    "tn_df = pd.read_csv('zippedData/tn.movie_budgets.csv.gz')\n",
    "tn_df"
   ]
  },
  {
   "cell_type": "markdown",
   "metadata": {},
   "source": [
    "I repeat the same steps of **Data Cleaning & Preprocessing** for this dataset as well."
   ]
  },
  {
   "cell_type": "code",
   "execution_count": 42,
   "metadata": {},
   "outputs": [
    {
     "data": {
      "text/plain": [
       "(5782, 6)"
      ]
     },
     "execution_count": 42,
     "metadata": {},
     "output_type": "execute_result"
    }
   ],
   "source": [
    "# Checking the number of rows and columns\n",
    "tn_df.shape"
   ]
  },
  {
   "cell_type": "code",
   "execution_count": 43,
   "metadata": {},
   "outputs": [
    {
     "data": {
      "text/plain": [
       "Index(['id', 'release_date', 'movie', 'production_budget', 'domestic_gross',\n",
       "       'worldwide_gross'],\n",
       "      dtype='object')"
      ]
     },
     "execution_count": 43,
     "metadata": {},
     "output_type": "execute_result"
    }
   ],
   "source": [
    "# Checking the columns\n",
    "tn_df.columns"
   ]
  },
  {
   "cell_type": "code",
   "execution_count": 44,
   "metadata": {},
   "outputs": [
    {
     "data": {
      "text/plain": [
       "id                    int64\n",
       "release_date         object\n",
       "movie                object\n",
       "production_budget    object\n",
       "domestic_gross       object\n",
       "worldwide_gross      object\n",
       "dtype: object"
      ]
     },
     "execution_count": 44,
     "metadata": {},
     "output_type": "execute_result"
    }
   ],
   "source": [
    "# Checking the column datatypes\n",
    "tn_df.dtypes"
   ]
  },
  {
   "cell_type": "markdown",
   "metadata": {},
   "source": [
    "In the code below, I convert the `release_date` column into a datetime object in case I would like to perform any datetime operations. I also extract the year and create a new column `release_year` that I will use later on when merging the datasets.\n",
    "Additionally, I will rename the column name `movie` to `title` to also enable a successful merging of DataFrames.  "
   ]
  },
  {
   "cell_type": "code",
   "execution_count": 45,
   "metadata": {},
   "outputs": [
    {
     "data": {
      "text/html": [
       "<div>\n",
       "<style scoped>\n",
       "    .dataframe tbody tr th:only-of-type {\n",
       "        vertical-align: middle;\n",
       "    }\n",
       "\n",
       "    .dataframe tbody tr th {\n",
       "        vertical-align: top;\n",
       "    }\n",
       "\n",
       "    .dataframe thead th {\n",
       "        text-align: right;\n",
       "    }\n",
       "</style>\n",
       "<table border=\"1\" class=\"dataframe\">\n",
       "  <thead>\n",
       "    <tr style=\"text-align: right;\">\n",
       "      <th></th>\n",
       "      <th>id</th>\n",
       "      <th>release_date</th>\n",
       "      <th>title</th>\n",
       "      <th>production_budget</th>\n",
       "      <th>domestic_gross</th>\n",
       "      <th>worldwide_gross</th>\n",
       "      <th>release_year</th>\n",
       "    </tr>\n",
       "  </thead>\n",
       "  <tbody>\n",
       "    <tr>\n",
       "      <th>0</th>\n",
       "      <td>1</td>\n",
       "      <td>2009-12-18</td>\n",
       "      <td>Avatar</td>\n",
       "      <td>$425,000,000</td>\n",
       "      <td>$760,507,625</td>\n",
       "      <td>$2,776,345,279</td>\n",
       "      <td>2009</td>\n",
       "    </tr>\n",
       "    <tr>\n",
       "      <th>1</th>\n",
       "      <td>2</td>\n",
       "      <td>2011-05-20</td>\n",
       "      <td>Pirates of the Caribbean: On Stranger Tides</td>\n",
       "      <td>$410,600,000</td>\n",
       "      <td>$241,063,875</td>\n",
       "      <td>$1,045,663,875</td>\n",
       "      <td>2011</td>\n",
       "    </tr>\n",
       "    <tr>\n",
       "      <th>2</th>\n",
       "      <td>3</td>\n",
       "      <td>2019-06-07</td>\n",
       "      <td>Dark Phoenix</td>\n",
       "      <td>$350,000,000</td>\n",
       "      <td>$42,762,350</td>\n",
       "      <td>$149,762,350</td>\n",
       "      <td>2019</td>\n",
       "    </tr>\n",
       "    <tr>\n",
       "      <th>3</th>\n",
       "      <td>4</td>\n",
       "      <td>2015-05-01</td>\n",
       "      <td>Avengers: Age of Ultron</td>\n",
       "      <td>$330,600,000</td>\n",
       "      <td>$459,005,868</td>\n",
       "      <td>$1,403,013,963</td>\n",
       "      <td>2015</td>\n",
       "    </tr>\n",
       "    <tr>\n",
       "      <th>4</th>\n",
       "      <td>5</td>\n",
       "      <td>2017-12-15</td>\n",
       "      <td>Star Wars Ep. VIII: The Last Jedi</td>\n",
       "      <td>$317,000,000</td>\n",
       "      <td>$620,181,382</td>\n",
       "      <td>$1,316,721,747</td>\n",
       "      <td>2017</td>\n",
       "    </tr>\n",
       "  </tbody>\n",
       "</table>\n",
       "</div>"
      ],
      "text/plain": [
       "   id release_date                                        title  \\\n",
       "0   1   2009-12-18                                       Avatar   \n",
       "1   2   2011-05-20  Pirates of the Caribbean: On Stranger Tides   \n",
       "2   3   2019-06-07                                 Dark Phoenix   \n",
       "3   4   2015-05-01                      Avengers: Age of Ultron   \n",
       "4   5   2017-12-15            Star Wars Ep. VIII: The Last Jedi   \n",
       "\n",
       "  production_budget domestic_gross worldwide_gross  release_year  \n",
       "0      $425,000,000   $760,507,625  $2,776,345,279          2009  \n",
       "1      $410,600,000   $241,063,875  $1,045,663,875          2011  \n",
       "2      $350,000,000    $42,762,350    $149,762,350          2019  \n",
       "3      $330,600,000   $459,005,868  $1,403,013,963          2015  \n",
       "4      $317,000,000   $620,181,382  $1,316,721,747          2017  "
      ]
     },
     "execution_count": 45,
     "metadata": {},
     "output_type": "execute_result"
    }
   ],
   "source": [
    "# Convert the `release_date` column to a datetime object\n",
    "tn_df['release_date'] = pd.to_datetime(tn_df['release_date'])\n",
    "tn_df.dtypes\n",
    "\n",
    "# Create a new column `release_year` to enable merging the DataFrame\n",
    "tn_df['release_year'] = tn_df['release_date'].dt.year\n",
    "\n",
    "# Change the `movie` column name to `title` to also enable merging\n",
    "tn_df.rename(columns={'movie':'title'}, inplace=True)\n",
    "\n",
    "# Display the DataFrame\n",
    "tn_df.head()"
   ]
  },
  {
   "cell_type": "markdown",
   "metadata": {},
   "source": [
    "Below, define a function for fixing some structural issues with the way the currency column values are stored, that is, removing the **currency notation($)** and the **commas**, then I convert the datatype into integers which will enable me to perform mathematical operations."
   ]
  },
  {
   "cell_type": "code",
   "execution_count": 46,
   "metadata": {},
   "outputs": [],
   "source": [
    "# Define a function to convert currency strings to integers\n",
    "def currency_to_int(currency_string):\n",
    "    cleaned_string = currency_string.replace('$', '').replace(',', '') # remove dollar sign and commas\n",
    "    return int(cleaned_string)\n",
    "\n",
    "# Convert currency columns to integers\n",
    "currency_columns = ['production_budget', 'domestic_gross', 'worldwide_gross']\n",
    "for column in currency_columns:\n",
    "    tn_df[column] = tn_df[column].apply(currency_to_int)"
   ]
  },
  {
   "cell_type": "code",
   "execution_count": 47,
   "metadata": {},
   "outputs": [
    {
     "name": "stdout",
     "output_type": "stream",
     "text": [
      "<class 'pandas.core.frame.DataFrame'>\n",
      "RangeIndex: 5782 entries, 0 to 5781\n",
      "Data columns (total 7 columns):\n",
      " #   Column             Non-Null Count  Dtype         \n",
      "---  ------             --------------  -----         \n",
      " 0   id                 5782 non-null   int64         \n",
      " 1   release_date       5782 non-null   datetime64[ns]\n",
      " 2   title              5782 non-null   object        \n",
      " 3   production_budget  5782 non-null   int64         \n",
      " 4   domestic_gross     5782 non-null   int64         \n",
      " 5   worldwide_gross    5782 non-null   int64         \n",
      " 6   release_year       5782 non-null   int64         \n",
      "dtypes: datetime64[ns](1), int64(5), object(1)\n",
      "memory usage: 316.3+ KB\n"
     ]
    }
   ],
   "source": [
    "# Checking the metadata of our dataset\n",
    "tn_df.info()"
   ]
  },
  {
   "cell_type": "code",
   "execution_count": 48,
   "metadata": {},
   "outputs": [
    {
     "data": {
      "text/plain": [
       "id                   0\n",
       "release_date         0\n",
       "title                0\n",
       "production_budget    0\n",
       "domestic_gross       0\n",
       "worldwide_gross      0\n",
       "release_year         0\n",
       "dtype: int64"
      ]
     },
     "execution_count": 48,
     "metadata": {},
     "output_type": "execute_result"
    }
   ],
   "source": [
    "# Confirming if there are missing values\n",
    "tn_df.isna().sum()"
   ]
  },
  {
   "cell_type": "code",
   "execution_count": 49,
   "metadata": {},
   "outputs": [
    {
     "data": {
      "text/plain": [
       "0"
      ]
     },
     "execution_count": 49,
     "metadata": {},
     "output_type": "execute_result"
    }
   ],
   "source": [
    "# Checking for duplicates\n",
    "tn_df.duplicated().sum()"
   ]
  },
  {
   "cell_type": "markdown",
   "metadata": {},
   "source": [
    "Now we can display the **final output** to see how our DataFrame looks like after the cleaning and preprocessing."
   ]
  },
  {
   "cell_type": "code",
   "execution_count": 50,
   "metadata": {},
   "outputs": [
    {
     "data": {
      "text/html": [
       "<div>\n",
       "<style scoped>\n",
       "    .dataframe tbody tr th:only-of-type {\n",
       "        vertical-align: middle;\n",
       "    }\n",
       "\n",
       "    .dataframe tbody tr th {\n",
       "        vertical-align: top;\n",
       "    }\n",
       "\n",
       "    .dataframe thead th {\n",
       "        text-align: right;\n",
       "    }\n",
       "</style>\n",
       "<table border=\"1\" class=\"dataframe\">\n",
       "  <thead>\n",
       "    <tr style=\"text-align: right;\">\n",
       "      <th></th>\n",
       "      <th>id</th>\n",
       "      <th>release_date</th>\n",
       "      <th>title</th>\n",
       "      <th>production_budget</th>\n",
       "      <th>domestic_gross</th>\n",
       "      <th>worldwide_gross</th>\n",
       "      <th>release_year</th>\n",
       "    </tr>\n",
       "  </thead>\n",
       "  <tbody>\n",
       "    <tr>\n",
       "      <th>0</th>\n",
       "      <td>1</td>\n",
       "      <td>2009-12-18</td>\n",
       "      <td>Avatar</td>\n",
       "      <td>425000000</td>\n",
       "      <td>760507625</td>\n",
       "      <td>2776345279</td>\n",
       "      <td>2009</td>\n",
       "    </tr>\n",
       "    <tr>\n",
       "      <th>1</th>\n",
       "      <td>2</td>\n",
       "      <td>2011-05-20</td>\n",
       "      <td>Pirates of the Caribbean: On Stranger Tides</td>\n",
       "      <td>410600000</td>\n",
       "      <td>241063875</td>\n",
       "      <td>1045663875</td>\n",
       "      <td>2011</td>\n",
       "    </tr>\n",
       "    <tr>\n",
       "      <th>2</th>\n",
       "      <td>3</td>\n",
       "      <td>2019-06-07</td>\n",
       "      <td>Dark Phoenix</td>\n",
       "      <td>350000000</td>\n",
       "      <td>42762350</td>\n",
       "      <td>149762350</td>\n",
       "      <td>2019</td>\n",
       "    </tr>\n",
       "    <tr>\n",
       "      <th>3</th>\n",
       "      <td>4</td>\n",
       "      <td>2015-05-01</td>\n",
       "      <td>Avengers: Age of Ultron</td>\n",
       "      <td>330600000</td>\n",
       "      <td>459005868</td>\n",
       "      <td>1403013963</td>\n",
       "      <td>2015</td>\n",
       "    </tr>\n",
       "    <tr>\n",
       "      <th>4</th>\n",
       "      <td>5</td>\n",
       "      <td>2017-12-15</td>\n",
       "      <td>Star Wars Ep. VIII: The Last Jedi</td>\n",
       "      <td>317000000</td>\n",
       "      <td>620181382</td>\n",
       "      <td>1316721747</td>\n",
       "      <td>2017</td>\n",
       "    </tr>\n",
       "    <tr>\n",
       "      <th>...</th>\n",
       "      <td>...</td>\n",
       "      <td>...</td>\n",
       "      <td>...</td>\n",
       "      <td>...</td>\n",
       "      <td>...</td>\n",
       "      <td>...</td>\n",
       "      <td>...</td>\n",
       "    </tr>\n",
       "    <tr>\n",
       "      <th>5777</th>\n",
       "      <td>78</td>\n",
       "      <td>2018-12-31</td>\n",
       "      <td>Red 11</td>\n",
       "      <td>7000</td>\n",
       "      <td>0</td>\n",
       "      <td>0</td>\n",
       "      <td>2018</td>\n",
       "    </tr>\n",
       "    <tr>\n",
       "      <th>5778</th>\n",
       "      <td>79</td>\n",
       "      <td>1999-04-02</td>\n",
       "      <td>Following</td>\n",
       "      <td>6000</td>\n",
       "      <td>48482</td>\n",
       "      <td>240495</td>\n",
       "      <td>1999</td>\n",
       "    </tr>\n",
       "    <tr>\n",
       "      <th>5779</th>\n",
       "      <td>80</td>\n",
       "      <td>2005-07-13</td>\n",
       "      <td>Return to the Land of Wonders</td>\n",
       "      <td>5000</td>\n",
       "      <td>1338</td>\n",
       "      <td>1338</td>\n",
       "      <td>2005</td>\n",
       "    </tr>\n",
       "    <tr>\n",
       "      <th>5780</th>\n",
       "      <td>81</td>\n",
       "      <td>2015-09-29</td>\n",
       "      <td>A Plague So Pleasant</td>\n",
       "      <td>1400</td>\n",
       "      <td>0</td>\n",
       "      <td>0</td>\n",
       "      <td>2015</td>\n",
       "    </tr>\n",
       "    <tr>\n",
       "      <th>5781</th>\n",
       "      <td>82</td>\n",
       "      <td>2005-08-05</td>\n",
       "      <td>My Date With Drew</td>\n",
       "      <td>1100</td>\n",
       "      <td>181041</td>\n",
       "      <td>181041</td>\n",
       "      <td>2005</td>\n",
       "    </tr>\n",
       "  </tbody>\n",
       "</table>\n",
       "<p>5782 rows × 7 columns</p>\n",
       "</div>"
      ],
      "text/plain": [
       "      id release_date                                        title  \\\n",
       "0      1   2009-12-18                                       Avatar   \n",
       "1      2   2011-05-20  Pirates of the Caribbean: On Stranger Tides   \n",
       "2      3   2019-06-07                                 Dark Phoenix   \n",
       "3      4   2015-05-01                      Avengers: Age of Ultron   \n",
       "4      5   2017-12-15            Star Wars Ep. VIII: The Last Jedi   \n",
       "...   ..          ...                                          ...   \n",
       "5777  78   2018-12-31                                       Red 11   \n",
       "5778  79   1999-04-02                                    Following   \n",
       "5779  80   2005-07-13                Return to the Land of Wonders   \n",
       "5780  81   2015-09-29                         A Plague So Pleasant   \n",
       "5781  82   2005-08-05                            My Date With Drew   \n",
       "\n",
       "      production_budget  domestic_gross  worldwide_gross  release_year  \n",
       "0             425000000       760507625       2776345279          2009  \n",
       "1             410600000       241063875       1045663875          2011  \n",
       "2             350000000        42762350        149762350          2019  \n",
       "3             330600000       459005868       1403013963          2015  \n",
       "4             317000000       620181382       1316721747          2017  \n",
       "...                 ...             ...              ...           ...  \n",
       "5777               7000               0                0          2018  \n",
       "5778               6000           48482           240495          1999  \n",
       "5779               5000            1338             1338          2005  \n",
       "5780               1400               0                0          2015  \n",
       "5781               1100          181041           181041          2005  \n",
       "\n",
       "[5782 rows x 7 columns]"
      ]
     },
     "execution_count": 50,
     "metadata": {},
     "output_type": "execute_result"
    }
   ],
   "source": [
    "tn_df"
   ]
  },
  {
   "cell_type": "code",
   "execution_count": 51,
   "metadata": {},
   "outputs": [
    {
     "name": "stdout",
     "output_type": "stream",
     "text": [
      "<class 'pandas.core.frame.DataFrame'>\n",
      "RangeIndex: 5782 entries, 0 to 5781\n",
      "Data columns (total 7 columns):\n",
      " #   Column             Non-Null Count  Dtype         \n",
      "---  ------             --------------  -----         \n",
      " 0   id                 5782 non-null   int64         \n",
      " 1   release_date       5782 non-null   datetime64[ns]\n",
      " 2   title              5782 non-null   object        \n",
      " 3   production_budget  5782 non-null   int64         \n",
      " 4   domestic_gross     5782 non-null   int64         \n",
      " 5   worldwide_gross    5782 non-null   int64         \n",
      " 6   release_year       5782 non-null   int64         \n",
      "dtypes: datetime64[ns](1), int64(5), object(1)\n",
      "memory usage: 316.3+ KB\n"
     ]
    }
   ],
   "source": [
    "tn_df.info()"
   ]
  },
  {
   "cell_type": "markdown",
   "metadata": {},
   "source": [
    "### Merging the 3 datasets into one DataFrame with a variable name `merged_df2`"
   ]
  },
  {
   "cell_type": "markdown",
   "metadata": {},
   "source": [
    "Next, after cleaning and pre-processing, I merge the `merged_df` DataFrame with the dataset from [The Numbers](https://www.the-numbers.com/) website, specifying the `how` parameter to an `inner` join, and passing in the `suffixes` parameter to avoid a naming collusion between columns with similar names.\n",
    "\n",
    "This will enable me to perform a comprehensive Bivariate analysis of the numerical columns for better insights."
   ]
  },
  {
   "cell_type": "code",
   "execution_count": 52,
   "metadata": {},
   "outputs": [
    {
     "data": {
      "text/html": [
       "<div>\n",
       "<style scoped>\n",
       "    .dataframe tbody tr th:only-of-type {\n",
       "        vertical-align: middle;\n",
       "    }\n",
       "\n",
       "    .dataframe tbody tr th {\n",
       "        vertical-align: top;\n",
       "    }\n",
       "\n",
       "    .dataframe thead th {\n",
       "        text-align: right;\n",
       "    }\n",
       "</style>\n",
       "<table border=\"1\" class=\"dataframe\">\n",
       "  <thead>\n",
       "    <tr style=\"text-align: right;\">\n",
       "      <th></th>\n",
       "      <th>title</th>\n",
       "      <th>studio</th>\n",
       "      <th>domestic_gross_1</th>\n",
       "      <th>year</th>\n",
       "      <th>release_year</th>\n",
       "      <th>genre_ids</th>\n",
       "      <th>id_1</th>\n",
       "      <th>original_language</th>\n",
       "      <th>original_title</th>\n",
       "      <th>popularity</th>\n",
       "      <th>release_date_1</th>\n",
       "      <th>vote_average</th>\n",
       "      <th>vote_count</th>\n",
       "      <th>genres</th>\n",
       "      <th>id_2</th>\n",
       "      <th>release_date_2</th>\n",
       "      <th>production_budget</th>\n",
       "      <th>domestic_gross_2</th>\n",
       "      <th>worldwide_gross</th>\n",
       "    </tr>\n",
       "  </thead>\n",
       "  <tbody>\n",
       "    <tr>\n",
       "      <th>0</th>\n",
       "      <td>Toy Story 3</td>\n",
       "      <td>BV</td>\n",
       "      <td>415000000.0</td>\n",
       "      <td>2010-01-01</td>\n",
       "      <td>2010</td>\n",
       "      <td>[16, 10751, 35]</td>\n",
       "      <td>10193</td>\n",
       "      <td>en</td>\n",
       "      <td>Toy Story 3</td>\n",
       "      <td>24.445</td>\n",
       "      <td>2010-06-17</td>\n",
       "      <td>7.7</td>\n",
       "      <td>8340</td>\n",
       "      <td>(Animation, Family, Comedy)</td>\n",
       "      <td>47</td>\n",
       "      <td>2010-06-18</td>\n",
       "      <td>200000000</td>\n",
       "      <td>415004880</td>\n",
       "      <td>1068879522</td>\n",
       "    </tr>\n",
       "    <tr>\n",
       "      <th>1</th>\n",
       "      <td>Inception</td>\n",
       "      <td>WB</td>\n",
       "      <td>292600000.0</td>\n",
       "      <td>2010-01-01</td>\n",
       "      <td>2010</td>\n",
       "      <td>[28, 878, 12]</td>\n",
       "      <td>27205</td>\n",
       "      <td>en</td>\n",
       "      <td>Inception</td>\n",
       "      <td>27.920</td>\n",
       "      <td>2010-07-16</td>\n",
       "      <td>8.3</td>\n",
       "      <td>22186</td>\n",
       "      <td>(Action, Science Fiction, Adventure)</td>\n",
       "      <td>38</td>\n",
       "      <td>2010-07-16</td>\n",
       "      <td>160000000</td>\n",
       "      <td>292576195</td>\n",
       "      <td>835524642</td>\n",
       "    </tr>\n",
       "    <tr>\n",
       "      <th>2</th>\n",
       "      <td>Shrek Forever After</td>\n",
       "      <td>P/DW</td>\n",
       "      <td>238700000.0</td>\n",
       "      <td>2010-01-01</td>\n",
       "      <td>2010</td>\n",
       "      <td>[35, 12, 14, 16, 10751]</td>\n",
       "      <td>10192</td>\n",
       "      <td>en</td>\n",
       "      <td>Shrek Forever After</td>\n",
       "      <td>15.041</td>\n",
       "      <td>2010-05-16</td>\n",
       "      <td>6.1</td>\n",
       "      <td>3843</td>\n",
       "      <td>(Comedy, Adventure, Fantasy, Animation, Family)</td>\n",
       "      <td>27</td>\n",
       "      <td>2010-05-21</td>\n",
       "      <td>165000000</td>\n",
       "      <td>238736787</td>\n",
       "      <td>756244673</td>\n",
       "    </tr>\n",
       "    <tr>\n",
       "      <th>3</th>\n",
       "      <td>The Twilight Saga: Eclipse</td>\n",
       "      <td>Sum.</td>\n",
       "      <td>300500000.0</td>\n",
       "      <td>2010-01-01</td>\n",
       "      <td>2010</td>\n",
       "      <td>[12, 14, 18, 10749]</td>\n",
       "      <td>24021</td>\n",
       "      <td>en</td>\n",
       "      <td>The Twilight Saga: Eclipse</td>\n",
       "      <td>20.340</td>\n",
       "      <td>2010-06-23</td>\n",
       "      <td>6.0</td>\n",
       "      <td>4909</td>\n",
       "      <td>(Adventure, Fantasy, Drama, Romance)</td>\n",
       "      <td>53</td>\n",
       "      <td>2010-06-30</td>\n",
       "      <td>68000000</td>\n",
       "      <td>300531751</td>\n",
       "      <td>706102828</td>\n",
       "    </tr>\n",
       "    <tr>\n",
       "      <th>4</th>\n",
       "      <td>Iron Man 2</td>\n",
       "      <td>Par.</td>\n",
       "      <td>312400000.0</td>\n",
       "      <td>2010-01-01</td>\n",
       "      <td>2010</td>\n",
       "      <td>[12, 28, 878]</td>\n",
       "      <td>10138</td>\n",
       "      <td>en</td>\n",
       "      <td>Iron Man 2</td>\n",
       "      <td>28.515</td>\n",
       "      <td>2010-05-07</td>\n",
       "      <td>6.8</td>\n",
       "      <td>12368</td>\n",
       "      <td>(Adventure, Action, Science Fiction)</td>\n",
       "      <td>15</td>\n",
       "      <td>2010-05-07</td>\n",
       "      <td>170000000</td>\n",
       "      <td>312433331</td>\n",
       "      <td>621156389</td>\n",
       "    </tr>\n",
       "    <tr>\n",
       "      <th>5</th>\n",
       "      <td>Tangled</td>\n",
       "      <td>BV</td>\n",
       "      <td>200800000.0</td>\n",
       "      <td>2010-01-01</td>\n",
       "      <td>2010</td>\n",
       "      <td>[16, 10751]</td>\n",
       "      <td>38757</td>\n",
       "      <td>en</td>\n",
       "      <td>Tangled</td>\n",
       "      <td>21.511</td>\n",
       "      <td>2010-11-24</td>\n",
       "      <td>7.5</td>\n",
       "      <td>6407</td>\n",
       "      <td>(Animation, Family)</td>\n",
       "      <td>15</td>\n",
       "      <td>2010-11-24</td>\n",
       "      <td>260000000</td>\n",
       "      <td>200821936</td>\n",
       "      <td>586477240</td>\n",
       "    </tr>\n",
       "    <tr>\n",
       "      <th>6</th>\n",
       "      <td>Despicable Me</td>\n",
       "      <td>Uni.</td>\n",
       "      <td>251500000.0</td>\n",
       "      <td>2010-01-01</td>\n",
       "      <td>2010</td>\n",
       "      <td>[16, 10751, 35]</td>\n",
       "      <td>20352</td>\n",
       "      <td>en</td>\n",
       "      <td>Despicable Me</td>\n",
       "      <td>23.673</td>\n",
       "      <td>2010-07-09</td>\n",
       "      <td>7.2</td>\n",
       "      <td>10057</td>\n",
       "      <td>(Animation, Family, Comedy)</td>\n",
       "      <td>50</td>\n",
       "      <td>2010-07-09</td>\n",
       "      <td>69000000</td>\n",
       "      <td>251513985</td>\n",
       "      <td>543464573</td>\n",
       "    </tr>\n",
       "    <tr>\n",
       "      <th>7</th>\n",
       "      <td>How to Train Your Dragon</td>\n",
       "      <td>P/DW</td>\n",
       "      <td>217600000.0</td>\n",
       "      <td>2010-01-01</td>\n",
       "      <td>2010</td>\n",
       "      <td>[14, 12, 16, 10751]</td>\n",
       "      <td>10191</td>\n",
       "      <td>en</td>\n",
       "      <td>How to Train Your Dragon</td>\n",
       "      <td>28.734</td>\n",
       "      <td>2010-03-26</td>\n",
       "      <td>7.7</td>\n",
       "      <td>7610</td>\n",
       "      <td>(Fantasy, Adventure, Animation, Family)</td>\n",
       "      <td>30</td>\n",
       "      <td>2010-03-26</td>\n",
       "      <td>165000000</td>\n",
       "      <td>217581232</td>\n",
       "      <td>494870992</td>\n",
       "    </tr>\n",
       "    <tr>\n",
       "      <th>8</th>\n",
       "      <td>The Chronicles of Narnia: The Voyage of the Da...</td>\n",
       "      <td>Fox</td>\n",
       "      <td>104400000.0</td>\n",
       "      <td>2010-01-01</td>\n",
       "      <td>2010</td>\n",
       "      <td>[12, 10751, 14]</td>\n",
       "      <td>10140</td>\n",
       "      <td>en</td>\n",
       "      <td>The Chronicles of Narnia: The Voyage of the Da...</td>\n",
       "      <td>17.382</td>\n",
       "      <td>2010-12-10</td>\n",
       "      <td>6.3</td>\n",
       "      <td>3196</td>\n",
       "      <td>(Adventure, Family, Fantasy)</td>\n",
       "      <td>48</td>\n",
       "      <td>2010-12-10</td>\n",
       "      <td>155000000</td>\n",
       "      <td>104386950</td>\n",
       "      <td>418186950</td>\n",
       "    </tr>\n",
       "    <tr>\n",
       "      <th>9</th>\n",
       "      <td>The Karate Kid</td>\n",
       "      <td>Sony</td>\n",
       "      <td>176600000.0</td>\n",
       "      <td>2010-01-01</td>\n",
       "      <td>2010</td>\n",
       "      <td>[28, 12, 18, 10751]</td>\n",
       "      <td>38575</td>\n",
       "      <td>en</td>\n",
       "      <td>The Karate Kid</td>\n",
       "      <td>12.256</td>\n",
       "      <td>2010-06-10</td>\n",
       "      <td>6.3</td>\n",
       "      <td>3140</td>\n",
       "      <td>(Action, Adventure, Drama, Family)</td>\n",
       "      <td>77</td>\n",
       "      <td>2010-06-11</td>\n",
       "      <td>40000000</td>\n",
       "      <td>176591618</td>\n",
       "      <td>351774938</td>\n",
       "    </tr>\n",
       "  </tbody>\n",
       "</table>\n",
       "</div>"
      ],
      "text/plain": [
       "                                               title studio  domestic_gross_1  \\\n",
       "0                                        Toy Story 3     BV       415000000.0   \n",
       "1                                          Inception     WB       292600000.0   \n",
       "2                                Shrek Forever After   P/DW       238700000.0   \n",
       "3                         The Twilight Saga: Eclipse   Sum.       300500000.0   \n",
       "4                                         Iron Man 2   Par.       312400000.0   \n",
       "5                                            Tangled     BV       200800000.0   \n",
       "6                                      Despicable Me   Uni.       251500000.0   \n",
       "7                           How to Train Your Dragon   P/DW       217600000.0   \n",
       "8  The Chronicles of Narnia: The Voyage of the Da...    Fox       104400000.0   \n",
       "9                                     The Karate Kid   Sony       176600000.0   \n",
       "\n",
       "        year  release_year                genre_ids   id_1 original_language  \\\n",
       "0 2010-01-01          2010          [16, 10751, 35]  10193                en   \n",
       "1 2010-01-01          2010            [28, 878, 12]  27205                en   \n",
       "2 2010-01-01          2010  [35, 12, 14, 16, 10751]  10192                en   \n",
       "3 2010-01-01          2010      [12, 14, 18, 10749]  24021                en   \n",
       "4 2010-01-01          2010            [12, 28, 878]  10138                en   \n",
       "5 2010-01-01          2010              [16, 10751]  38757                en   \n",
       "6 2010-01-01          2010          [16, 10751, 35]  20352                en   \n",
       "7 2010-01-01          2010      [14, 12, 16, 10751]  10191                en   \n",
       "8 2010-01-01          2010          [12, 10751, 14]  10140                en   \n",
       "9 2010-01-01          2010      [28, 12, 18, 10751]  38575                en   \n",
       "\n",
       "                                      original_title  popularity  \\\n",
       "0                                        Toy Story 3      24.445   \n",
       "1                                          Inception      27.920   \n",
       "2                                Shrek Forever After      15.041   \n",
       "3                         The Twilight Saga: Eclipse      20.340   \n",
       "4                                         Iron Man 2      28.515   \n",
       "5                                            Tangled      21.511   \n",
       "6                                      Despicable Me      23.673   \n",
       "7                           How to Train Your Dragon      28.734   \n",
       "8  The Chronicles of Narnia: The Voyage of the Da...      17.382   \n",
       "9                                     The Karate Kid      12.256   \n",
       "\n",
       "  release_date_1  vote_average  vote_count  \\\n",
       "0     2010-06-17           7.7        8340   \n",
       "1     2010-07-16           8.3       22186   \n",
       "2     2010-05-16           6.1        3843   \n",
       "3     2010-06-23           6.0        4909   \n",
       "4     2010-05-07           6.8       12368   \n",
       "5     2010-11-24           7.5        6407   \n",
       "6     2010-07-09           7.2       10057   \n",
       "7     2010-03-26           7.7        7610   \n",
       "8     2010-12-10           6.3        3196   \n",
       "9     2010-06-10           6.3        3140   \n",
       "\n",
       "                                            genres  id_2 release_date_2  \\\n",
       "0                      (Animation, Family, Comedy)    47     2010-06-18   \n",
       "1             (Action, Science Fiction, Adventure)    38     2010-07-16   \n",
       "2  (Comedy, Adventure, Fantasy, Animation, Family)    27     2010-05-21   \n",
       "3             (Adventure, Fantasy, Drama, Romance)    53     2010-06-30   \n",
       "4             (Adventure, Action, Science Fiction)    15     2010-05-07   \n",
       "5                              (Animation, Family)    15     2010-11-24   \n",
       "6                      (Animation, Family, Comedy)    50     2010-07-09   \n",
       "7          (Fantasy, Adventure, Animation, Family)    30     2010-03-26   \n",
       "8                     (Adventure, Family, Fantasy)    48     2010-12-10   \n",
       "9               (Action, Adventure, Drama, Family)    77     2010-06-11   \n",
       "\n",
       "   production_budget  domestic_gross_2  worldwide_gross  \n",
       "0          200000000         415004880       1068879522  \n",
       "1          160000000         292576195        835524642  \n",
       "2          165000000         238736787        756244673  \n",
       "3           68000000         300531751        706102828  \n",
       "4          170000000         312433331        621156389  \n",
       "5          260000000         200821936        586477240  \n",
       "6           69000000         251513985        543464573  \n",
       "7          165000000         217581232        494870992  \n",
       "8          155000000         104386950        418186950  \n",
       "9           40000000         176591618        351774938  "
      ]
     },
     "execution_count": 52,
     "metadata": {},
     "output_type": "execute_result"
    }
   ],
   "source": [
    "# Merge the `merged_df` with the `tn_df`\n",
    "merged_df2 = pd.merge(merged_df, tn_df, on=['title','release_year'], how='inner', suffixes=('_1','_2'))\n",
    "merged_df2.head(10)"
   ]
  },
  {
   "cell_type": "markdown",
   "metadata": {},
   "source": [
    "Note again the number of records(rows) has reduced since I used an `inner` join whereby only the records with matching values from the DataFrames are returned. I will go ahead and investigate if the remaining data will be sufficient to answer the business questions provided. I start by first exploring the structure of the final `merged_df2`."
   ]
  },
  {
   "cell_type": "code",
   "execution_count": 53,
   "metadata": {},
   "outputs": [
    {
     "data": {
      "text/plain": [
       "(1117, 19)"
      ]
     },
     "execution_count": 53,
     "metadata": {},
     "output_type": "execute_result"
    }
   ],
   "source": [
    "# Check the rows and columns\n",
    "merged_df2.shape"
   ]
  },
  {
   "cell_type": "code",
   "execution_count": 54,
   "metadata": {},
   "outputs": [
    {
     "data": {
      "text/plain": [
       "Index(['title', 'studio', 'domestic_gross_1', 'year', 'release_year',\n",
       "       'genre_ids', 'id_1', 'original_language', 'original_title',\n",
       "       'popularity', 'release_date_1', 'vote_average', 'vote_count', 'genres',\n",
       "       'id_2', 'release_date_2', 'production_budget', 'domestic_gross_2',\n",
       "       'worldwide_gross'],\n",
       "      dtype='object')"
      ]
     },
     "execution_count": 54,
     "metadata": {},
     "output_type": "execute_result"
    }
   ],
   "source": [
    "# Check the columns\n",
    "merged_df2.columns"
   ]
  },
  {
   "cell_type": "code",
   "execution_count": 55,
   "metadata": {},
   "outputs": [
    {
     "data": {
      "text/plain": [
       "title                        object\n",
       "studio                       object\n",
       "domestic_gross_1            float64\n",
       "year                 datetime64[ns]\n",
       "release_year                  int64\n",
       "genre_ids                    object\n",
       "id_1                          int64\n",
       "original_language            object\n",
       "original_title               object\n",
       "popularity                  float64\n",
       "release_date_1       datetime64[ns]\n",
       "vote_average                float64\n",
       "vote_count                    int64\n",
       "genres                       object\n",
       "id_2                          int64\n",
       "release_date_2       datetime64[ns]\n",
       "production_budget             int64\n",
       "domestic_gross_2              int64\n",
       "worldwide_gross               int64\n",
       "dtype: object"
      ]
     },
     "execution_count": 55,
     "metadata": {},
     "output_type": "execute_result"
    }
   ],
   "source": [
    "# Check the column datatypes\n",
    "merged_df2.dtypes"
   ]
  },
  {
   "cell_type": "code",
   "execution_count": 56,
   "metadata": {},
   "outputs": [
    {
     "data": {
      "text/plain": [
       "title                0\n",
       "studio               0\n",
       "domestic_gross_1     0\n",
       "year                 0\n",
       "release_year         0\n",
       "genre_ids            0\n",
       "id_1                 0\n",
       "original_language    0\n",
       "original_title       0\n",
       "popularity           0\n",
       "release_date_1       0\n",
       "vote_average         0\n",
       "vote_count           0\n",
       "genres               0\n",
       "id_2                 0\n",
       "release_date_2       0\n",
       "production_budget    0\n",
       "domestic_gross_2     0\n",
       "worldwide_gross      0\n",
       "dtype: int64"
      ]
     },
     "execution_count": 56,
     "metadata": {},
     "output_type": "execute_result"
    }
   ],
   "source": [
    "# Confirm there are no missing values\n",
    "merged_df2.isna().sum()"
   ]
  },
  {
   "cell_type": "code",
   "execution_count": 57,
   "metadata": {},
   "outputs": [
    {
     "data": {
      "text/plain": [
       "0"
      ]
     },
     "execution_count": 57,
     "metadata": {},
     "output_type": "execute_result"
    }
   ],
   "source": [
    "# Confirming there are no duplicates\n",
    "merged_df2.duplicated().sum()"
   ]
  },
  {
   "cell_type": "code",
   "execution_count": 58,
   "metadata": {},
   "outputs": [
    {
     "name": "stdout",
     "output_type": "stream",
     "text": [
      "<class 'pandas.core.frame.DataFrame'>\n",
      "Int64Index: 1117 entries, 0 to 1116\n",
      "Data columns (total 19 columns):\n",
      " #   Column             Non-Null Count  Dtype         \n",
      "---  ------             --------------  -----         \n",
      " 0   title              1117 non-null   object        \n",
      " 1   studio             1117 non-null   object        \n",
      " 2   domestic_gross_1   1117 non-null   float64       \n",
      " 3   year               1117 non-null   datetime64[ns]\n",
      " 4   release_year       1117 non-null   int64         \n",
      " 5   genre_ids          1117 non-null   object        \n",
      " 6   id_1               1117 non-null   int64         \n",
      " 7   original_language  1117 non-null   object        \n",
      " 8   original_title     1117 non-null   object        \n",
      " 9   popularity         1117 non-null   float64       \n",
      " 10  release_date_1     1117 non-null   datetime64[ns]\n",
      " 11  vote_average       1117 non-null   float64       \n",
      " 12  vote_count         1117 non-null   int64         \n",
      " 13  genres             1117 non-null   object        \n",
      " 14  id_2               1117 non-null   int64         \n",
      " 15  release_date_2     1117 non-null   datetime64[ns]\n",
      " 16  production_budget  1117 non-null   int64         \n",
      " 17  domestic_gross_2   1117 non-null   int64         \n",
      " 18  worldwide_gross    1117 non-null   int64         \n",
      "dtypes: datetime64[ns](3), float64(3), int64(7), object(6)\n",
      "memory usage: 174.5+ KB\n"
     ]
    }
   ],
   "source": [
    "merged_df2.info()"
   ]
  },
  {
   "cell_type": "markdown",
   "metadata": {},
   "source": [
    "Now we can finally start the next step which is Exploratory Data Analysis."
   ]
  },
  {
   "cell_type": "markdown",
   "metadata": {},
   "source": [
    "## Data Exploration and Analysis \n",
    "In this section we perform basic descriptive statistics and create visualizations to get a feel of our dataset's characteristics. \n",
    "Descriptive statistics include:\n",
    "- Measures of central tendency\n",
    "- Measures of dispersion\n",
    "- Correlation\n",
    "\n",
    "Visualizations will include:\n",
    "- Boxplots\n",
    "- Histograms\n",
    "- Scatter plots, etc."
   ]
  },
  {
   "cell_type": "code",
   "execution_count": 59,
   "metadata": {},
   "outputs": [
    {
     "data": {
      "text/html": [
       "<div>\n",
       "<style scoped>\n",
       "    .dataframe tbody tr th:only-of-type {\n",
       "        vertical-align: middle;\n",
       "    }\n",
       "\n",
       "    .dataframe tbody tr th {\n",
       "        vertical-align: top;\n",
       "    }\n",
       "\n",
       "    .dataframe thead th {\n",
       "        text-align: right;\n",
       "    }\n",
       "</style>\n",
       "<table border=\"1\" class=\"dataframe\">\n",
       "  <thead>\n",
       "    <tr style=\"text-align: right;\">\n",
       "      <th></th>\n",
       "      <th>domestic_gross_1</th>\n",
       "      <th>release_year</th>\n",
       "      <th>id_1</th>\n",
       "      <th>popularity</th>\n",
       "      <th>vote_average</th>\n",
       "      <th>vote_count</th>\n",
       "      <th>id_2</th>\n",
       "      <th>production_budget</th>\n",
       "      <th>domestic_gross_2</th>\n",
       "      <th>worldwide_gross</th>\n",
       "    </tr>\n",
       "  </thead>\n",
       "  <tbody>\n",
       "    <tr>\n",
       "      <th>count</th>\n",
       "      <td>1.117000e+03</td>\n",
       "      <td>1117.000000</td>\n",
       "      <td>1117.000000</td>\n",
       "      <td>1117.000000</td>\n",
       "      <td>1117.000000</td>\n",
       "      <td>1117.000000</td>\n",
       "      <td>1117.000000</td>\n",
       "      <td>1.117000e+03</td>\n",
       "      <td>1.117000e+03</td>\n",
       "      <td>1.117000e+03</td>\n",
       "    </tr>\n",
       "    <tr>\n",
       "      <th>mean</th>\n",
       "      <td>6.520066e+07</td>\n",
       "      <td>2013.654432</td>\n",
       "      <td>181247.752014</td>\n",
       "      <td>13.867436</td>\n",
       "      <td>6.396867</td>\n",
       "      <td>2436.211280</td>\n",
       "      <td>51.272158</td>\n",
       "      <td>5.006840e+07</td>\n",
       "      <td>6.520181e+07</td>\n",
       "      <td>1.644085e+08</td>\n",
       "    </tr>\n",
       "    <tr>\n",
       "      <th>std</th>\n",
       "      <td>8.762581e+07</td>\n",
       "      <td>2.531984</td>\n",
       "      <td>134788.934011</td>\n",
       "      <td>7.810460</td>\n",
       "      <td>0.778139</td>\n",
       "      <td>2990.050895</td>\n",
       "      <td>28.466972</td>\n",
       "      <td>5.773829e+07</td>\n",
       "      <td>8.764576e+07</td>\n",
       "      <td>2.442066e+08</td>\n",
       "    </tr>\n",
       "    <tr>\n",
       "      <th>min</th>\n",
       "      <td>1.000000e+03</td>\n",
       "      <td>2010.000000</td>\n",
       "      <td>1771.000000</td>\n",
       "      <td>0.600000</td>\n",
       "      <td>4.000000</td>\n",
       "      <td>2.000000</td>\n",
       "      <td>1.000000</td>\n",
       "      <td>5.000000e+04</td>\n",
       "      <td>0.000000e+00</td>\n",
       "      <td>1.177400e+04</td>\n",
       "    </tr>\n",
       "    <tr>\n",
       "      <th>25%</th>\n",
       "      <td>1.150000e+07</td>\n",
       "      <td>2011.000000</td>\n",
       "      <td>59108.000000</td>\n",
       "      <td>8.965000</td>\n",
       "      <td>5.900000</td>\n",
       "      <td>515.000000</td>\n",
       "      <td>27.000000</td>\n",
       "      <td>1.200000e+07</td>\n",
       "      <td>1.149484e+07</td>\n",
       "      <td>2.211308e+07</td>\n",
       "    </tr>\n",
       "    <tr>\n",
       "      <th>50%</th>\n",
       "      <td>3.630000e+07</td>\n",
       "      <td>2014.000000</td>\n",
       "      <td>138832.000000</td>\n",
       "      <td>12.083000</td>\n",
       "      <td>6.400000</td>\n",
       "      <td>1317.000000</td>\n",
       "      <td>51.000000</td>\n",
       "      <td>2.920000e+07</td>\n",
       "      <td>3.634386e+07</td>\n",
       "      <td>7.229526e+07</td>\n",
       "    </tr>\n",
       "    <tr>\n",
       "      <th>75%</th>\n",
       "      <td>8.010000e+07</td>\n",
       "      <td>2016.000000</td>\n",
       "      <td>296098.000000</td>\n",
       "      <td>16.356000</td>\n",
       "      <td>6.900000</td>\n",
       "      <td>3133.000000</td>\n",
       "      <td>76.000000</td>\n",
       "      <td>6.100000e+07</td>\n",
       "      <td>8.007074e+07</td>\n",
       "      <td>1.951941e+08</td>\n",
       "    </tr>\n",
       "    <tr>\n",
       "      <th>max</th>\n",
       "      <td>7.001000e+08</td>\n",
       "      <td>2018.000000</td>\n",
       "      <td>505058.000000</td>\n",
       "      <td>80.773000</td>\n",
       "      <td>8.400000</td>\n",
       "      <td>22186.000000</td>\n",
       "      <td>100.000000</td>\n",
       "      <td>4.106000e+08</td>\n",
       "      <td>7.000596e+08</td>\n",
       "      <td>2.048134e+09</td>\n",
       "    </tr>\n",
       "  </tbody>\n",
       "</table>\n",
       "</div>"
      ],
      "text/plain": [
       "       domestic_gross_1  release_year           id_1   popularity  \\\n",
       "count      1.117000e+03   1117.000000    1117.000000  1117.000000   \n",
       "mean       6.520066e+07   2013.654432  181247.752014    13.867436   \n",
       "std        8.762581e+07      2.531984  134788.934011     7.810460   \n",
       "min        1.000000e+03   2010.000000    1771.000000     0.600000   \n",
       "25%        1.150000e+07   2011.000000   59108.000000     8.965000   \n",
       "50%        3.630000e+07   2014.000000  138832.000000    12.083000   \n",
       "75%        8.010000e+07   2016.000000  296098.000000    16.356000   \n",
       "max        7.001000e+08   2018.000000  505058.000000    80.773000   \n",
       "\n",
       "       vote_average    vote_count         id_2  production_budget  \\\n",
       "count   1117.000000   1117.000000  1117.000000       1.117000e+03   \n",
       "mean       6.396867   2436.211280    51.272158       5.006840e+07   \n",
       "std        0.778139   2990.050895    28.466972       5.773829e+07   \n",
       "min        4.000000      2.000000     1.000000       5.000000e+04   \n",
       "25%        5.900000    515.000000    27.000000       1.200000e+07   \n",
       "50%        6.400000   1317.000000    51.000000       2.920000e+07   \n",
       "75%        6.900000   3133.000000    76.000000       6.100000e+07   \n",
       "max        8.400000  22186.000000   100.000000       4.106000e+08   \n",
       "\n",
       "       domestic_gross_2  worldwide_gross  \n",
       "count      1.117000e+03     1.117000e+03  \n",
       "mean       6.520181e+07     1.644085e+08  \n",
       "std        8.764576e+07     2.442066e+08  \n",
       "min        0.000000e+00     1.177400e+04  \n",
       "25%        1.149484e+07     2.211308e+07  \n",
       "50%        3.634386e+07     7.229526e+07  \n",
       "75%        8.007074e+07     1.951941e+08  \n",
       "max        7.000596e+08     2.048134e+09  "
      ]
     },
     "execution_count": 59,
     "metadata": {},
     "output_type": "execute_result"
    }
   ],
   "source": [
    "# Check the descriptive statistics for the numerical columns\n",
    "merged_df2.drop(['id_1','id_2','release_year'], axis=1)\n",
    "merged_df2.describe()"
   ]
  },
  {
   "cell_type": "markdown",
   "metadata": {},
   "source": [
    "### Univariate Analysis "
   ]
  },
  {
   "cell_type": "markdown",
   "metadata": {},
   "source": [
    "For categorical columns:\n",
    "\n",
    "1. Involves getting frequency tables and plotting value counts. It's important to choose appropriate visualizations\n",
    "eg. barplots or pie charts\n",
    "2. Stating observations and interpreting the findings\n",
    "\n",
    "For numerical columns:\n",
    "\n",
    "1. Involves calculating the measures of central tendency, dispersion and other statistics such as correlation.\n",
    "2. Plotting appropriate distributions.\n",
    "3. ingInterpret the findings."
   ]
  },
  {
   "cell_type": "markdown",
   "metadata": {},
   "source": [
    "Our sepecific columns of interest are going to be \n",
    "- `title`\n",
    "- `genres`\n",
    "- `genre_ids`\n",
    "- `studio`\n",
    "- `popularity`\n",
    "- `production_budget`\n",
    "- `worldwide_gross`\n",
    "- `domestic_gross_2`  \n",
    "- `vote_average`\n",
    "- `vote_count`       \n",
    "- `release_date_2`"
   ]
  },
  {
   "cell_type": "code",
   "execution_count": 60,
   "metadata": {},
   "outputs": [],
   "source": [
    "# Get the relevant columns\n",
    "relevant_columns = ['genre_ids','genres','title','studio','release_date_2','popularity','vote_count',\n",
    "                    'vote_average','production_budget','domestic_gross_2','worldwide_gross']"
   ]
  },
  {
   "cell_type": "code",
   "execution_count": 61,
   "metadata": {},
   "outputs": [
    {
     "data": {
      "text/html": [
       "<div>\n",
       "<style scoped>\n",
       "    .dataframe tbody tr th:only-of-type {\n",
       "        vertical-align: middle;\n",
       "    }\n",
       "\n",
       "    .dataframe tbody tr th {\n",
       "        vertical-align: top;\n",
       "    }\n",
       "\n",
       "    .dataframe thead th {\n",
       "        text-align: right;\n",
       "    }\n",
       "</style>\n",
       "<table border=\"1\" class=\"dataframe\">\n",
       "  <thead>\n",
       "    <tr style=\"text-align: right;\">\n",
       "      <th></th>\n",
       "      <th>genre_ids</th>\n",
       "      <th>genres</th>\n",
       "      <th>title</th>\n",
       "      <th>studio</th>\n",
       "      <th>release_date_2</th>\n",
       "      <th>popularity</th>\n",
       "      <th>vote_count</th>\n",
       "      <th>vote_average</th>\n",
       "      <th>production_budget</th>\n",
       "      <th>domestic_gross_2</th>\n",
       "      <th>worldwide_gross</th>\n",
       "    </tr>\n",
       "  </thead>\n",
       "  <tbody>\n",
       "    <tr>\n",
       "      <th>0</th>\n",
       "      <td>[16, 10751, 35]</td>\n",
       "      <td>(Animation, Family, Comedy)</td>\n",
       "      <td>Toy Story 3</td>\n",
       "      <td>BV</td>\n",
       "      <td>2010-06-18</td>\n",
       "      <td>24.445</td>\n",
       "      <td>8340</td>\n",
       "      <td>7.7</td>\n",
       "      <td>200000000</td>\n",
       "      <td>415004880</td>\n",
       "      <td>1068879522</td>\n",
       "    </tr>\n",
       "    <tr>\n",
       "      <th>1</th>\n",
       "      <td>[28, 878, 12]</td>\n",
       "      <td>(Action, Science Fiction, Adventure)</td>\n",
       "      <td>Inception</td>\n",
       "      <td>WB</td>\n",
       "      <td>2010-07-16</td>\n",
       "      <td>27.920</td>\n",
       "      <td>22186</td>\n",
       "      <td>8.3</td>\n",
       "      <td>160000000</td>\n",
       "      <td>292576195</td>\n",
       "      <td>835524642</td>\n",
       "    </tr>\n",
       "    <tr>\n",
       "      <th>2</th>\n",
       "      <td>[35, 12, 14, 16, 10751]</td>\n",
       "      <td>(Comedy, Adventure, Fantasy, Animation, Family)</td>\n",
       "      <td>Shrek Forever After</td>\n",
       "      <td>P/DW</td>\n",
       "      <td>2010-05-21</td>\n",
       "      <td>15.041</td>\n",
       "      <td>3843</td>\n",
       "      <td>6.1</td>\n",
       "      <td>165000000</td>\n",
       "      <td>238736787</td>\n",
       "      <td>756244673</td>\n",
       "    </tr>\n",
       "    <tr>\n",
       "      <th>3</th>\n",
       "      <td>[12, 14, 18, 10749]</td>\n",
       "      <td>(Adventure, Fantasy, Drama, Romance)</td>\n",
       "      <td>The Twilight Saga: Eclipse</td>\n",
       "      <td>Sum.</td>\n",
       "      <td>2010-06-30</td>\n",
       "      <td>20.340</td>\n",
       "      <td>4909</td>\n",
       "      <td>6.0</td>\n",
       "      <td>68000000</td>\n",
       "      <td>300531751</td>\n",
       "      <td>706102828</td>\n",
       "    </tr>\n",
       "    <tr>\n",
       "      <th>4</th>\n",
       "      <td>[12, 28, 878]</td>\n",
       "      <td>(Adventure, Action, Science Fiction)</td>\n",
       "      <td>Iron Man 2</td>\n",
       "      <td>Par.</td>\n",
       "      <td>2010-05-07</td>\n",
       "      <td>28.515</td>\n",
       "      <td>12368</td>\n",
       "      <td>6.8</td>\n",
       "      <td>170000000</td>\n",
       "      <td>312433331</td>\n",
       "      <td>621156389</td>\n",
       "    </tr>\n",
       "  </tbody>\n",
       "</table>\n",
       "</div>"
      ],
      "text/plain": [
       "                 genre_ids                                           genres  \\\n",
       "0          [16, 10751, 35]                      (Animation, Family, Comedy)   \n",
       "1            [28, 878, 12]             (Action, Science Fiction, Adventure)   \n",
       "2  [35, 12, 14, 16, 10751]  (Comedy, Adventure, Fantasy, Animation, Family)   \n",
       "3      [12, 14, 18, 10749]             (Adventure, Fantasy, Drama, Romance)   \n",
       "4            [12, 28, 878]             (Adventure, Action, Science Fiction)   \n",
       "\n",
       "                        title studio release_date_2  popularity  vote_count  \\\n",
       "0                 Toy Story 3     BV     2010-06-18      24.445        8340   \n",
       "1                   Inception     WB     2010-07-16      27.920       22186   \n",
       "2         Shrek Forever After   P/DW     2010-05-21      15.041        3843   \n",
       "3  The Twilight Saga: Eclipse   Sum.     2010-06-30      20.340        4909   \n",
       "4                  Iron Man 2   Par.     2010-05-07      28.515       12368   \n",
       "\n",
       "   vote_average  production_budget  domestic_gross_2  worldwide_gross  \n",
       "0           7.7          200000000         415004880       1068879522  \n",
       "1           8.3          160000000         292576195        835524642  \n",
       "2           6.1          165000000         238736787        756244673  \n",
       "3           6.0           68000000         300531751        706102828  \n",
       "4           6.8          170000000         312433331        621156389  "
      ]
     },
     "execution_count": 61,
     "metadata": {},
     "output_type": "execute_result"
    }
   ],
   "source": [
    "# Create a subset DataFrame with the relevant columns\n",
    "merged_df3 = merged_df2.loc[:, relevant_columns]\n",
    "merged_df3.head()"
   ]
  },
  {
   "cell_type": "markdown",
   "metadata": {},
   "source": [
    "#### i) A histogram to show distribution of vote averages"
   ]
  },
  {
   "cell_type": "code",
   "execution_count": 62,
   "metadata": {},
   "outputs": [
    {
     "data": {
      "image/png": "[encoded data removed]",
      "text/plain": [
       "<Figure size 576x432 with 1 Axes>"
      ]
     },
     "metadata": {
      "needs_background": "light"
     },
     "output_type": "display_data"
    }
   ],
   "source": [
    "# Create a histogram to show the distribution of vote averages\n",
    "plt.figure(figsize=(8, 6))\n",
    "sns.histplot(x='vote_average', data=merged_df3, bins=20)\n",
    "plt.xlabel('Vote Average')\n",
    "plt.ylabel('Count')\n",
    "plt.title('Distribution of Vote Averages')\n",
    "plt.show()"
   ]
  },
  {
   "cell_type": "markdown",
   "metadata": {},
   "source": [
    "From the histogram above, I can observe that a majority of movies received a vote average of 6 to 6.5."
   ]
  },
  {
   "cell_type": "markdown",
   "metadata": {},
   "source": [
    "#### ii) A kernel density plot to show the distribution of production budgets"
   ]
  },
  {
   "cell_type": "code",
   "execution_count": 63,
   "metadata": {},
   "outputs": [
    {
     "data": {
      "image/png": "[encoded data removed]",
      "text/plain": [
       "<Figure size 576x432 with 1 Axes>"
      ]
     },
     "metadata": {
      "needs_background": "light"
     },
     "output_type": "display_data"
    }
   ],
   "source": [
    "# Create a kernel density plot to show the distribution of production budgets\n",
    "plt.figure(figsize=(8, 6))\n",
    "sns.kdeplot(x='production_budget', data=merged_df3, shade=True)\n",
    "plt.xlabel('Production Budget')\n",
    "plt.title('Distribution of Production Budgets')\n",
    "plt.show()\n"
   ]
  },
  {
   "cell_type": "markdown",
   "metadata": {},
   "source": [
    "From the above kernel density, the peak denotes the value of the production budget that is most frequently observed among the movies. I can observe that the peak of the distribution is skewed to the right, this suggests that a majority of movies have lower production budgets, with fewer movies having higher production budgets."
   ]
  },
  {
   "cell_type": "markdown",
   "metadata": {},
   "source": [
    "#### iii) A histogram to show the distribution of vote count"
   ]
  },
  {
   "cell_type": "code",
   "execution_count": 64,
   "metadata": {},
   "outputs": [
    {
     "data": {
      "image/png": "[encoded data removed]",
      "text/plain": [
       "<Figure size 576x432 with 1 Axes>"
      ]
     },
     "metadata": {},
     "output_type": "display_data"
    }
   ],
   "source": [
    "# Create a histogram to show distribution of vote count\n",
    "sns.set_style('whitegrid')\n",
    "plt.figure(figsize=(8,6))\n",
    "sns.histplot(x=merged_df3['vote_count'], bins=30, kde=False, color='blue')\n",
    "plt.title('Distribution of Vote Count')\n",
    "plt.xlabel('Vote Count')\n",
    "plt.ylabel('Frequency')\n",
    "plt.show()"
   ]
  },
  {
   "cell_type": "markdown",
   "metadata": {},
   "source": [
    "From the above histogram, I can observe that a majority of the movies have low vote counts since the peak of the histogram is skewed to the right."
   ]
  },
  {
   "cell_type": "markdown",
   "metadata": {},
   "source": [
    "### Bivariate Analysis \n",
    "\n",
    "Here I will be generating plots to describe the relationships between different features/variables."
   ]
  },
  {
   "cell_type": "markdown",
   "metadata": {},
   "source": [
    "#### i) A scatter plot showing the relationship between `worldwide_gross` and `domestic_gross`"
   ]
  },
  {
   "cell_type": "code",
   "execution_count": 65,
   "metadata": {},
   "outputs": [
    {
     "data": {
      "image/png": "[encoded data removed]",
      "text/plain": [
       "<Figure size 432x288 with 1 Axes>"
      ]
     },
     "metadata": {},
     "output_type": "display_data"
    }
   ],
   "source": [
    "# Creating a scatter plot\n",
    "sns.regplot(x='worldwide_gross', y='domestic_gross_2', data=merged_df3, line_kws={'color':'red'})\n",
    "plt.xlabel('Worldwide Gross (in billion dollars)')\n",
    "plt.ylabel('Domestic Gross (in billion dollars)')\n",
    "plt.title('Scatter Plot of Worldwide and Domestic revenue')\n",
    "plt.show()"
   ]
  },
  {
   "cell_type": "markdown",
   "metadata": {},
   "source": [
    "Uisng the line of best fit from the above scatter plot, I can observe and conclude that there is a positive correlation between `worldwide_gross` and `domestic_gross_2` variables. This means that as the domestic revenue from a movie increases, its worldwide revenue increases too."
   ]
  },
  {
   "cell_type": "markdown",
   "metadata": {},
   "source": [
    "#### ii) A box plot showing the distribution of `production_budget`, `domestic_gross_2` and `worldwide_gross` revenues."
   ]
  },
  {
   "cell_type": "code",
   "execution_count": 66,
   "metadata": {},
   "outputs": [
    {
     "data": {
      "image/png": "[encoded data removed]",
      "text/plain": [
       "<Figure size 432x288 with 1 Axes>"
      ]
     },
     "metadata": {},
     "output_type": "display_data"
    }
   ],
   "source": [
    "# Checking for distribution of revenues using a boxplot\n",
    "sns.boxplot(data=merged_df2[['production_budget', 'domestic_gross_2', 'worldwide_gross']])\n",
    "plt.title('Distribution of Box Office Revenue')\n",
    "plt.xticks(rotation=45)\n",
    "plt.xlabel('Box Office Revenue Type')\n",
    "plt.ylabel('Revenue (in billion dollars)')\n",
    "plt.show()"
   ]
  },
  {
   "cell_type": "markdown",
   "metadata": {},
   "source": [
    "The boxplot above shows the distribution of `production_budget`, `domestic_gross_2` and `worldwide_gross` variables. There's quite a vast number of outliers in all the three variables. But given that this is a Movies dataset, I will keep the outliers, since they are representative of the real world data whereby we can have some Box Office movies performing exceptionally well in the market."
   ]
  },
  {
   "cell_type": "markdown",
   "metadata": {},
   "source": [
    "#### iii) A bar plot showing the Top 20 Studios by the number of movies produced"
   ]
  },
  {
   "cell_type": "code",
   "execution_count": 67,
   "metadata": {},
   "outputs": [
    {
     "data": {
      "image/png": "[encoded data removed]",
      "text/plain": [
       "<Figure size 720x432 with 1 Axes>"
      ]
     },
     "metadata": {},
     "output_type": "display_data"
    }
   ],
   "source": [
    "# Group the data by studio and count the number of movies for each studio\n",
    "grouped_by_studio = merged_df3.groupby('studio')['title'].count().reset_index()\n",
    "grouped_by_studio = grouped_by_studio.rename(columns={'title': 'count'})\n",
    "\n",
    "# Sort the data by count in descending order and keep only the top 20 studios\n",
    "grouped_by_studio = grouped_by_studio.sort_values('count', ascending=False).head(20)\n",
    "\n",
    "# Create a bar plot to show the number of movies produced by each studio\n",
    "plt.figure(figsize=(10, 6))\n",
    "ax = sns.barplot(x='studio', y='count', data=grouped_by_studio)\n",
    "ax.set(xlabel='Studio', ylabel='Number of Movies', title='Top 20 Studios by Number of Movies Produced')\n",
    "plt.xticks(rotation=45, ha='right')\n",
    "plt.show()"
   ]
  },
  {
   "cell_type": "markdown",
   "metadata": {},
   "source": [
    "The bar plot above shows the distribution of number of movies produced by studios. From the bar plot, it is clear that Uni. Studio takes the lead in movie production followed by Fox and WB. But it is important to note that producing more movies doesn't necessarily mean that it is the best performing studio. Other factors such as return on investment must be considered too. "
   ]
  },
  {
   "cell_type": "markdown",
   "metadata": {},
   "source": [
    "## Performing Aggregations to answer Business Question no.1"
   ]
  },
  {
   "cell_type": "markdown",
   "metadata": {},
   "source": [
    "The business question:\n",
    "- What are the top 4 best performing genres of movies at the box office?\n",
    "\n",
    "Here I use the `groupby()` built-in method and group the dataset by the `genres` column to answer the question.\n",
    "\n",
    "Also of importance to note is that some movies are a mixture of different genres.\n",
    "So it begs the question, to either treat each genre ID individually or as a whole?\n",
    "The answer to this question depends on the analysis being performed. If one is analyzing the popularity of each individual genre separately, then they would treat each ID individually. However, if one is analyzing the popularity of movies with a specific combination of genres, then they would treat the list of IDs as a whole.\n",
    "\n",
    "That said, I will be treating the list of genres IDs as a whole, since a movie can be of one genre or also a combination of different genres.\n",
    "\n",
    "In addition, you can get the definitions of the various `genre_ids` values at [TheMovieDB `genre_ids` definitions](https://www.themoviedb.org/talk/5daf6eb0ae36680011d7e6ee)"
   ]
  },
  {
   "cell_type": "markdown",
   "metadata": {},
   "source": [
    "To gain a better understanding of the current trends in the movie industry, it may be useful to explore multiple perspectives and consider how they relate to one another. I will compare the top genres across different groupings and look for patterns or similarities that may provide insight into overarching trends.\n",
    "\n",
    "It's also important to keep in mind that the top genres by one metric may not necessarily be the same as the top genres by another metric. For example, a genre may be highly profitable but not very popular among audiences, or it may receive high ratings but not generate a lot of revenue. Therefore, it's important to consider multiple metrics when analyzing the data to get a more comprehensive understanding of the current trends in the movie industry.\n",
    "\n",
    "To come up with a final top 4, I will consider the top genres across multiple metrics and determine which genres are consistently ranking high across the board. For instance, I will create plots that show the rankings for each genre by `domestic_gross_2`, `worldwide_gross`, `popularity`, `vote_count`, and `vote_average`, and then compare the results."
   ]
  },
  {
   "cell_type": "markdown",
   "metadata": {},
   "source": [
    "#### i) Group the DataFrame by `genre_ids` and sum `domestic_gross_2`"
   ]
  },
  {
   "cell_type": "code",
   "execution_count": 68,
   "metadata": {},
   "outputs": [
    {
     "data": {
      "text/plain": [
       "genres\n",
       "(Comedy,)                                        4146421980\n",
       "(Action, Adventure, Science Fiction)             3814586155\n",
       "(Drama,)                                         2297463879\n",
       "(Action, Adventure, Fantasy)                     1910474900\n",
       "(Action, Adventure, Fantasy, Science Fiction)    1717846297\n",
       "Name: domestic_gross_2, dtype: int64"
      ]
     },
     "execution_count": 68,
     "metadata": {},
     "output_type": "execute_result"
    }
   ],
   "source": [
    "# Group the DataFrame by `genre_ids`\n",
    "# Then sort in Descending order by `domestic_gross_2`\n",
    "grouped_genre = merged_df3.groupby('genres')['domestic_gross_2'].sum().sort_values(ascending=False)\n",
    "grouped_genre.head()"
   ]
  },
  {
   "cell_type": "code",
   "execution_count": 69,
   "metadata": {},
   "outputs": [
    {
     "data": {
      "image/png": "[encoded data removed]",
      "text/plain": [
       "<Figure size 720x432 with 1 Axes>"
      ]
     },
     "metadata": {},
     "output_type": "display_data"
    },
    {
     "data": {
      "text/plain": [
       "<Figure size 432x288 with 0 Axes>"
      ]
     },
     "metadata": {},
     "output_type": "display_data"
    }
   ],
   "source": [
    "# get the top 5 genres\n",
    "top_genres = grouped_genre.head(5)\n",
    "\n",
    "# plot the domestic gross revenue for each of the top 5 genres using Seaborn\n",
    "plt.figure(figsize=(10, 6))\n",
    "sns.barplot(x=top_genres.index, y=top_genres.values, palette='Blues_d')\n",
    "plt.title('Top 5 Movie Genres by Domestic Gross Revenue')\n",
    "plt.xlabel('Genres')\n",
    "plt.ylabel('Domestic Gross Revenue (in billion dollars)')\n",
    "plt.xticks(rotation=90)\n",
    "plt.show()\n",
    "plt.savefig('visualization1.png')"
   ]
  },
  {
   "cell_type": "markdown",
   "metadata": {},
   "source": [
    "Using the definitions of the various `genre_ids` values at [TheMovieDB `genre_ids` definitions](https://www.themoviedb.org/talk/5daf6eb0ae36680011d7e6ee); \n",
    "\n",
    "From the above results, the top 5 `genre` sorted by `domestic_gross_2` are:\n",
    " 1. **Comedy** \n",
    " 2. **Action, Adventure & Science Fiction** \n",
    " 3. **Drama**\n",
    " 4. **Action, Adventure & Fantasy**\n",
    " 5. **Action, Adventure, Fantasy & Science Fiction**"
   ]
  },
  {
   "cell_type": "markdown",
   "metadata": {},
   "source": [
    "#### ii) Group the DataFrame by `genre_ids` and sum `worldwide_gross`"
   ]
  },
  {
   "cell_type": "code",
   "execution_count": 70,
   "metadata": {},
   "outputs": [
    {
     "data": {
      "text/plain": [
       "genres\n",
       "(Action, Adventure, Science Fiction)             9871431305\n",
       "(Comedy,)                                        7158659968\n",
       "(Action, Adventure, Fantasy)                     6666020354\n",
       "(Action, Adventure, Fantasy, Science Fiction)    4235307048\n",
       "(Drama,)                                         3856186439\n",
       "Name: worldwide_gross, dtype: int64"
      ]
     },
     "execution_count": 70,
     "metadata": {},
     "output_type": "execute_result"
    }
   ],
   "source": [
    "# Group the DataFrame by `genre_ids`\n",
    "# Then sort in Descending order by `worldwide_gross`\n",
    "grouped_genre2 = merged_df3.groupby('genres')['worldwide_gross'].sum().sort_values(ascending=False)\n",
    "grouped_genre2.head()"
   ]
  },
  {
   "cell_type": "code",
   "execution_count": 71,
   "metadata": {},
   "outputs": [
    {
     "data": {
      "image/png": "[encoded data removed]",
      "text/plain": [
       "<Figure size 720x432 with 1 Axes>"
      ]
     },
     "metadata": {},
     "output_type": "display_data"
    },
    {
     "data": {
      "text/plain": [
       "<Figure size 432x288 with 0 Axes>"
      ]
     },
     "metadata": {},
     "output_type": "display_data"
    }
   ],
   "source": [
    "# Select the top 5 movie genres with the highest worldwide gross\n",
    "top_genres2 = grouped_genre2.head(5)\n",
    "\n",
    "# Plot the worldwide gross for each of the top 5 genres using Seaborn\n",
    "plt.figure(figsize=(10, 6))\n",
    "sns.barplot(x=top_genres2.index, y=top_genres2.values, palette='Blues_r')\n",
    "plt.title('Top 5 Movie Genres by Worldwide Gross Revenue')\n",
    "plt.xlabel('Genres')\n",
    "plt.ylabel(\"Worldwide Gross (in billion dollars)\")\n",
    "plt.xticks(rotation=90)\n",
    "plt.show()\n",
    "plt.savefig('visualization2.png')"
   ]
  },
  {
   "cell_type": "markdown",
   "metadata": {},
   "source": [
    "Using the definitions of the various `genre_ids` values provided at [TheMovieDB `genre_ids` definitions](https://www.themoviedb.org/talk/5daf6eb0ae36680011d7e6ee); \n",
    "\n",
    "From the above results, the top 5 `genre_ids` sorted by `worldwide_gross` are:\n",
    " 1. **Action, Adventure & Science Fiction**\n",
    " 2. **Comedy**\n",
    " 3. **Action, Adventure & Fantasy**\n",
    " 4. **Action, Adventure, Fantasy & Science Fiction**\n",
    " 5. **Drama**"
   ]
  },
  {
   "cell_type": "markdown",
   "metadata": {},
   "source": [
    "#### iii) Group the DataFrame by `genre_ids` and mean of `popularity`"
   ]
  },
  {
   "cell_type": "code",
   "execution_count": 72,
   "metadata": {},
   "outputs": [
    {
     "data": {
      "text/plain": [
       "genres\n",
       "(Adventure, Action, Fantasy)                     55.676\n",
       "(Adventure,)                                     48.508\n",
       "(Action, Adventure, Science Fiction, Drama)      46.775\n",
       "(Action, Adventure, Science Fiction, Comedy)     44.729\n",
       "(Action, Adventure, Science Fiction, Fantasy)    39.293\n",
       "Name: popularity, dtype: float64"
      ]
     },
     "execution_count": 72,
     "metadata": {},
     "output_type": "execute_result"
    }
   ],
   "source": [
    "# Group the DataFrame by `genre_ids`\n",
    "# Then sort in Descending order by `popularity`\n",
    "grouped_genre3 = merged_df3.groupby('genres')['popularity'].mean().sort_values(ascending=False)\n",
    "grouped_genre3.head()"
   ]
  },
  {
   "cell_type": "code",
   "execution_count": 73,
   "metadata": {},
   "outputs": [
    {
     "data": {
      "image/png": "[encoded data removed]",
      "text/plain": [
       "<Figure size 720x432 with 1 Axes>"
      ]
     },
     "metadata": {},
     "output_type": "display_data"
    },
    {
     "data": {
      "text/plain": [
       "<Figure size 432x288 with 0 Axes>"
      ]
     },
     "metadata": {},
     "output_type": "display_data"
    }
   ],
   "source": [
    "# Select the top 5 movie genres with the highest popularity score\n",
    "top_genres3 = grouped_genre3.head(5)\n",
    "\n",
    "# Plot the popularity score for each of the top 5 genres using Seaborn\n",
    "plt.figure(figsize=(10, 6))\n",
    "sns.barplot(x=top_genres3.index, y=top_genres3.values, palette='GnBu_d')\n",
    "plt.title('Top 5 Movie Genres by Popularity Score')\n",
    "plt.xlabel('Genres')\n",
    "plt.ylabel('Popularity Score')\n",
    "plt.xticks(rotation=90)\n",
    "plt.show()\n",
    "plt.savefig('visualization3.png')"
   ]
  },
  {
   "cell_type": "markdown",
   "metadata": {},
   "source": [
    "Using the definitions of the various `genre_ids` values provided at [TheMovieDB `genre_ids` definitions](https://www.themoviedb.org/talk/5daf6eb0ae36680011d7e6ee); \n",
    "\n",
    "From the above results, the top 5 `genre_ids` sorted by `popularity` are:\n",
    " 1. **Adventure, Action & Fantasy**\n",
    " 2. **Adventure**\n",
    " 3. **Action, Adventure, Science Fiction & Drama**\n",
    " 4. **Action, Adventure, Science Fiction & Comedy**\n",
    " 5. **Action, Adventure, Science Fiction & Fantasy**"
   ]
  },
  {
   "cell_type": "markdown",
   "metadata": {},
   "source": [
    "#### iv) Group the DataFrame by `genre_ids` and sum `vote_count`"
   ]
  },
  {
   "cell_type": "code",
   "execution_count": 74,
   "metadata": {},
   "outputs": [
    {
     "data": {
      "text/plain": [
       "genres\n",
       "(Action, Adventure, Science Fiction)    126572\n",
       "(Comedy,)                                98219\n",
       "(Drama,)                                 90573\n",
       "(Action, Adventure, Fantasy)             71550\n",
       "(Action, Science Fiction, Adventure)     60948\n",
       "Name: vote_count, dtype: int64"
      ]
     },
     "execution_count": 74,
     "metadata": {},
     "output_type": "execute_result"
    }
   ],
   "source": [
    "# Group the DataFrame by `genre_ids`\n",
    "# Then sort in Descending order by `vote_count`\n",
    "grouped_genre4 = merged_df3.groupby('genres')['vote_count'].sum().sort_values(ascending=False)\n",
    "grouped_genre4.head()"
   ]
  },
  {
   "cell_type": "code",
   "execution_count": 75,
   "metadata": {},
   "outputs": [
    {
     "data": {
      "image/png": "[encoded data removed]",
      "text/plain": [
       "<Figure size 720x432 with 1 Axes>"
      ]
     },
     "metadata": {},
     "output_type": "display_data"
    },
    {
     "data": {
      "text/plain": [
       "<Figure size 432x288 with 0 Axes>"
      ]
     },
     "metadata": {},
     "output_type": "display_data"
    }
   ],
   "source": [
    "# Select the top 5 movie genres with the highest vote count\n",
    "top_genres4 = grouped_genre4.head(5)\n",
    "\n",
    "# Plot the vote count for each of the top 5 genres using Seaborn\n",
    "plt.figure(figsize=(10, 6))\n",
    "sns.barplot(x=top_genres4.index, y=top_genres4.values, palette='PuBu_d')\n",
    "plt.title('Top 5 Movie Genres by Vote Count')\n",
    "plt.xlabel('Genres')\n",
    "plt.ylabel('Vote Count')\n",
    "plt.xticks(rotation=90)\n",
    "plt.show()\n",
    "plt.savefig('visualization4.png')"
   ]
  },
  {
   "cell_type": "markdown",
   "metadata": {},
   "source": [
    "Using the definitions of the various `genre_ids` values provided at [TheMovieDB `genre_ids` definitions](https://www.themoviedb.org/talk/5daf6eb0ae36680011d7e6ee); \n",
    "\n",
    "From the above results, the top 5 `genre_ids` sorted by `vote_count` are:\n",
    " 1. **Action, Adventure & Science Fiction**\n",
    " 2. **Comedy**\n",
    " 3. **Drama**\n",
    " 4. **Action, Adventure & Fantasy**\n",
    " 5. **Action, Science Fiction & Adventure**"
   ]
  },
  {
   "cell_type": "markdown",
   "metadata": {},
   "source": [
    "#### v) Group the DataFrame by `genre_ids` mean of `vote_average`"
   ]
  },
  {
   "cell_type": "code",
   "execution_count": 76,
   "metadata": {},
   "outputs": [
    {
     "data": {
      "text/plain": [
       "genres\n",
       "(Drama, Documentary)                               8.2\n",
       "(Animation, Family, Comedy, Adventure, Fantasy)    8.2\n",
       "(Drama, History, War)                              8.1\n",
       "(History, Drama, Thriller, War)                    8.1\n",
       "(Drama, Comedy, Animation, Family)                 8.0\n",
       "Name: vote_average, dtype: float64"
      ]
     },
     "execution_count": 76,
     "metadata": {},
     "output_type": "execute_result"
    }
   ],
   "source": [
    "# Group the DataFrame by `genre_ids`\n",
    "# Then sort in Descending order by `vote_average`\n",
    "grouped_genre5 = merged_df3.groupby('genres')['vote_average'].mean().sort_values(ascending=False)\n",
    "grouped_genre5.head()"
   ]
  },
  {
   "cell_type": "code",
   "execution_count": 77,
   "metadata": {},
   "outputs": [
    {
     "data": {
      "image/png": "[encoded data removed]",
      "text/plain": [
       "<Figure size 720x432 with 1 Axes>"
      ]
     },
     "metadata": {},
     "output_type": "display_data"
    },
    {
     "data": {
      "text/plain": [
       "<Figure size 432x288 with 0 Axes>"
      ]
     },
     "metadata": {},
     "output_type": "display_data"
    }
   ],
   "source": [
    "# Select the top 5 movie genres with the highest vote count\n",
    "top_genres5 = grouped_genre5.head(5)\n",
    "\n",
    "# Plot the vote count for each of the top 5 genres using Seaborn\n",
    "plt.figure(figsize=(10, 6))\n",
    "sns.barplot(x=top_genres5.index, y=top_genres5.values, palette='PuBu_d')\n",
    "plt.title('Top 5 Movie Genres by Vote Average')\n",
    "plt.xlabel('Genres')\n",
    "plt.ylabel('Vote Average')\n",
    "plt.xticks(rotation=90)\n",
    "plt.show()\n",
    "plt.savefig('visualization5.png')"
   ]
  },
  {
   "cell_type": "markdown",
   "metadata": {},
   "source": [
    "Using the definitions of the various `genre_ids` values provided at [TheMovieDB `genre_ids` definitions](https://www.themoviedb.org/talk/5daf6eb0ae36680011d7e6ee); \n",
    "\n",
    "From the above results, the top 5 `genre_ids` sorted by `vote_average` are:\n",
    " 1. **Drama & Documentary**\n",
    " 2. **Animation, Family, Comedy, Adventure & Fantasy**\n",
    " 3. **Drama, History & War**\n",
    " 4. **History, Drama, Thriller & War**\n",
    " 5. **Drama, Comedy, Animation & Family**"
   ]
  },
  {
   "cell_type": "markdown",
   "metadata": {},
   "source": [
    "Therefore, from these 5 sets of analyses I can conclude that the top 4 best performing types of movies are a combination of: \n",
    " - **Action, Adventure & Science Fiction** genres\n",
    " - **Action, Adventure & Fantasy** genres\n",
    " - **Comedy** genres\n",
    " - **Drama** genres"
   ]
  },
  {
   "cell_type": "markdown",
   "metadata": {},
   "source": [
    "## Creating a correlation matrix to answer Business Question no.2\n",
    "The business question:\n",
    "\n",
    "- What is the relationship between production budget and the success of a movie both domestically and worldwide?\n",
    "\n",
    "Below I create a correlation matrix for the features which are indicators of a successful movie in the Box Office."
   ]
  },
  {
   "cell_type": "code",
   "execution_count": 78,
   "metadata": {},
   "outputs": [
    {
     "data": {
      "image/png": "[encoded data removed]",
      "text/plain": [
       "<Figure size 432x288 with 2 Axes>"
      ]
     },
     "metadata": {},
     "output_type": "display_data"
    }
   ],
   "source": [
    "# Performing correlations using seaborn\n",
    "correlations = merged_df2[['production_budget', 'domestic_gross_2', 'worldwide_gross', 'popularity', 'vote_count']].corr()\n",
    "sns.heatmap(correlations, annot=True, cmap='coolwarm')\n",
    "plt.savefig('visualization6.png')"
   ]
  },
  {
   "cell_type": "markdown",
   "metadata": {},
   "source": [
    "- The correlation coefficient between `production_budget` and `worldwide_gross` is **0.78**; and between `production_budget` and `domestic_gross_2` is **0.7**. Both figures indicate a strong positive correlation between the variables. This means that as `production_budget` increases, `worldwide_gross` and `domestic_gross_2` tend to increase as well. Therefore, the production budget allocated to a movie production may be a good indicator of its success or failure in the Box Office.\n",
    "\n",
    "\n",
    "- The correlation coefficient between `domestic_gross_2` and `vote_count` is **0.76**; and between `domestic_gross_2` and `worldwide_gross` is **0.94**. Both figures indicate a strong positive correlation between the variables. This means that as a movie that is successful locally is highly likely to be successful internationally/worldwide as the relationship between the two variables is relatively strong.\n",
    "\n",
    "\n",
    "- The correlation between `worldwide_gross` and `popularity` is **0.62**. This indicates a moderate positive correlation. This also suggests that as a movie becomes more successful internationally, so does its popularity among the audiences.\n",
    "\n",
    "\n",
    "- The correlation coefficient between `popularity` and `vote_count` is **0.67**, which indicates a moderate positive correlation between the two variables. This suggests that as a movie becomes more popular, it tends to have a higher number of votes.\n",
    "\n",
    "\n",
    "- The correlation coefficient between `vote_count` and `worldwide_gross` is **0.76**, which indicates a strong positive correlation between these two variables. This also suggests that as a movie becomes more successful internationally, it tends to have a higher number of votes."
   ]
  },
  {
   "cell_type": "markdown",
   "metadata": {},
   "source": [
    "Therefore, based on these correlation coefficients, I can conclude that the production budget allocated to a movie is a good indicator of its success or lack thereof, both domestically and internationally."
   ]
  },
  {
   "cell_type": "markdown",
   "metadata": {},
   "source": [
    "## Performing Aggregations and Engineering a new feature `market_share` to answer Business Question no.3"
   ]
  },
  {
   "cell_type": "markdown",
   "metadata": {},
   "source": [
    "The business question:\n",
    "\n",
    " - What is the competitive landscape of the movie industry in terms of market share?\n",
    " \n",
    "In this section I introduce a new feature in my dataset, that is, `market_share` (based on the studios' domestic revenues). I find this to be an important aspect because as Microsoft dives into the movie industry, it's imperative they understand who they are going to be competing against in terms of capturing the audience's attention. The `market_share` is calculated as the sum of a studio's domestic revenue divided by the total domestic revenue of all the studios multiplied by 100%. Finally, I will create a bar plot using Seaborn to illustrate the findings."
   ]
  },
  {
   "cell_type": "code",
   "execution_count": 79,
   "metadata": {},
   "outputs": [
    {
     "data": {
      "text/html": [
       "<div>\n",
       "<style scoped>\n",
       "    .dataframe tbody tr th:only-of-type {\n",
       "        vertical-align: middle;\n",
       "    }\n",
       "\n",
       "    .dataframe tbody tr th {\n",
       "        vertical-align: top;\n",
       "    }\n",
       "\n",
       "    .dataframe thead th {\n",
       "        text-align: right;\n",
       "    }\n",
       "</style>\n",
       "<table border=\"1\" class=\"dataframe\">\n",
       "  <thead>\n",
       "    <tr style=\"text-align: right;\">\n",
       "      <th></th>\n",
       "      <th>studio</th>\n",
       "      <th>domestic_gross_2_sum</th>\n",
       "      <th>worldwide_gross_sum</th>\n",
       "      <th>vote_count_sum</th>\n",
       "      <th>vote_average_mean</th>\n",
       "      <th>popularity_mean</th>\n",
       "      <th>market_share</th>\n",
       "    </tr>\n",
       "  </thead>\n",
       "  <tbody>\n",
       "    <tr>\n",
       "      <th>0</th>\n",
       "      <td>BV</td>\n",
       "      <td>12826174501</td>\n",
       "      <td>33092279960</td>\n",
       "      <td>367266</td>\n",
       "      <td>6.884507</td>\n",
       "      <td>20.720789</td>\n",
       "      <td>17.611013</td>\n",
       "    </tr>\n",
       "    <tr>\n",
       "      <th>1</th>\n",
       "      <td>Uni.</td>\n",
       "      <td>10522372515</td>\n",
       "      <td>26942069716</td>\n",
       "      <td>310000</td>\n",
       "      <td>6.193860</td>\n",
       "      <td>15.427272</td>\n",
       "      <td>14.447772</td>\n",
       "    </tr>\n",
       "    <tr>\n",
       "      <th>2</th>\n",
       "      <td>Fox</td>\n",
       "      <td>9223170866</td>\n",
       "      <td>26359964257</td>\n",
       "      <td>348085</td>\n",
       "      <td>6.359259</td>\n",
       "      <td>15.859574</td>\n",
       "      <td>12.663900</td>\n",
       "    </tr>\n",
       "    <tr>\n",
       "      <th>3</th>\n",
       "      <td>WB</td>\n",
       "      <td>8907412947</td>\n",
       "      <td>21807122002</td>\n",
       "      <td>332751</td>\n",
       "      <td>6.418085</td>\n",
       "      <td>16.664053</td>\n",
       "      <td>12.230347</td>\n",
       "    </tr>\n",
       "    <tr>\n",
       "      <th>4</th>\n",
       "      <td>Sony</td>\n",
       "      <td>6654419301</td>\n",
       "      <td>16834675820</td>\n",
       "      <td>194687</td>\n",
       "      <td>6.141791</td>\n",
       "      <td>15.923343</td>\n",
       "      <td>9.136868</td>\n",
       "    </tr>\n",
       "    <tr>\n",
       "      <th>5</th>\n",
       "      <td>Par.</td>\n",
       "      <td>5953142188</td>\n",
       "      <td>14277819179</td>\n",
       "      <td>228511</td>\n",
       "      <td>6.301408</td>\n",
       "      <td>14.557887</td>\n",
       "      <td>8.173978</td>\n",
       "    </tr>\n",
       "    <tr>\n",
       "      <th>6</th>\n",
       "      <td>WB (NL)</td>\n",
       "      <td>3417630150</td>\n",
       "      <td>8540864247</td>\n",
       "      <td>111818</td>\n",
       "      <td>6.324324</td>\n",
       "      <td>15.099676</td>\n",
       "      <td>4.692586</td>\n",
       "    </tr>\n",
       "    <tr>\n",
       "      <th>7</th>\n",
       "      <td>LGF</td>\n",
       "      <td>3103430608</td>\n",
       "      <td>6643134795</td>\n",
       "      <td>138665</td>\n",
       "      <td>6.357143</td>\n",
       "      <td>13.852536</td>\n",
       "      <td>4.261174</td>\n",
       "    </tr>\n",
       "    <tr>\n",
       "      <th>8</th>\n",
       "      <td>P/DW</td>\n",
       "      <td>1682914686</td>\n",
       "      <td>5078027601</td>\n",
       "      <td>33781</td>\n",
       "      <td>6.520000</td>\n",
       "      <td>14.669800</td>\n",
       "      <td>2.310731</td>\n",
       "    </tr>\n",
       "    <tr>\n",
       "      <th>9</th>\n",
       "      <td>LG/S</td>\n",
       "      <td>1211412751</td>\n",
       "      <td>3177476448</td>\n",
       "      <td>85477</td>\n",
       "      <td>6.411111</td>\n",
       "      <td>16.816963</td>\n",
       "      <td>1.663334</td>\n",
       "    </tr>\n",
       "  </tbody>\n",
       "</table>\n",
       "</div>"
      ],
      "text/plain": [
       "    studio  domestic_gross_2_sum  worldwide_gross_sum  vote_count_sum  \\\n",
       "0       BV           12826174501          33092279960          367266   \n",
       "1     Uni.           10522372515          26942069716          310000   \n",
       "2      Fox            9223170866          26359964257          348085   \n",
       "3       WB            8907412947          21807122002          332751   \n",
       "4     Sony            6654419301          16834675820          194687   \n",
       "5     Par.            5953142188          14277819179          228511   \n",
       "6  WB (NL)            3417630150           8540864247          111818   \n",
       "7      LGF            3103430608           6643134795          138665   \n",
       "8     P/DW            1682914686           5078027601           33781   \n",
       "9     LG/S            1211412751           3177476448           85477   \n",
       "\n",
       "   vote_average_mean  popularity_mean  market_share  \n",
       "0           6.884507        20.720789     17.611013  \n",
       "1           6.193860        15.427272     14.447772  \n",
       "2           6.359259        15.859574     12.663900  \n",
       "3           6.418085        16.664053     12.230347  \n",
       "4           6.141791        15.923343      9.136868  \n",
       "5           6.301408        14.557887      8.173978  \n",
       "6           6.324324        15.099676      4.692586  \n",
       "7           6.357143        13.852536      4.261174  \n",
       "8           6.520000        14.669800      2.310731  \n",
       "9           6.411111        16.816963      1.663334  "
      ]
     },
     "execution_count": 79,
     "metadata": {},
     "output_type": "execute_result"
    }
   ],
   "source": [
    "# Group by studio and calculate various metrics\n",
    "grouped = merged_df3.groupby('studio').agg({\n",
    "    'domestic_gross_2': ['sum', 'count', 'mean'],\n",
    "    'worldwide_gross': ['sum', 'count', 'mean'],\n",
    "    'vote_average': 'mean',\n",
    "    'popularity': 'mean',\n",
    "    'vote_count': 'sum'})\n",
    "\n",
    "# Flatten column names\n",
    "grouped.columns = ['_'.join(col).strip() for col in grouped.columns.values]\n",
    "\n",
    "# Sort by `domestic_gross_2_sum`\n",
    "sorted_grouped = grouped.sort_values(by='domestic_gross_2_sum', ascending=False)\n",
    "\n",
    "# Calculate market share\n",
    "sorted_grouped['market_share'] = (sorted_grouped['domestic_gross_2_sum'] / sorted_grouped['domestic_gross_2_sum'].sum())*100\n",
    "\n",
    "# Display the top 10 studios by `domestic_gross_2_sum`\n",
    "top_10 = sorted_grouped[['domestic_gross_2_sum', 'worldwide_gross_sum', 'vote_count_sum', 'vote_average_mean', \n",
    "                         'popularity_mean', 'market_share']].reset_index().head(10)\n",
    "top_10"
   ]
  },
  {
   "cell_type": "code",
   "execution_count": 80,
   "metadata": {},
   "outputs": [
    {
     "data": {
      "image/png": "[encoded data removed]",
      "text/plain": [
       "<Figure size 720x432 with 1 Axes>"
      ]
     },
     "metadata": {},
     "output_type": "display_data"
    },
    {
     "data": {
      "text/plain": [
       "<Figure size 432x288 with 0 Axes>"
      ]
     },
     "metadata": {},
     "output_type": "display_data"
    }
   ],
   "source": [
    "# Creating a barplot using Seaborn to visualize the above findings\n",
    "top_10 = sorted_grouped[['domestic_gross_2_sum', 'worldwide_gross_sum', 'vote_count_sum', 'vote_average_mean', \n",
    "                         'popularity_mean', 'market_share']].reset_index().head(10)\n",
    "\n",
    "sns.set_style('whitegrid')\n",
    "fig, ax = plt.subplots(figsize=(10, 6))\n",
    "sns.barplot(x='studio', y='market_share', data=top_10, ax=ax, palette='Blues_d')\n",
    "ax.set_xlabel('Studio')\n",
    "ax.set_ylabel('Market Share (%)')\n",
    "ax.set_title('Top 10 Studios by Market Share')\n",
    "plt.show()\n",
    "plt.savefig('visualization7.png')"
   ]
  },
  {
   "cell_type": "markdown",
   "metadata": {},
   "source": [
    "Based on the above analysis, BV Studio has the highest domestic and worldwide gross revenue, the highest total vote count, and the highest mean popularity. BV Studio has a market share of 17.6%, followed by Uni. with 14.5% and Fox with 12.7%. This suggests that BV Studio is the clear leader in many metrics. This provides insight into the competitive landscape of the movie industry based on the chosen metrics. "
   ]
  },
  {
   "cell_type": "code",
   "execution_count": 81,
   "metadata": {},
   "outputs": [
    {
     "data": {
      "image/png": "[encoded data removed]",
      "text/plain": [
       "<Figure size 720x432 with 1 Axes>"
      ]
     },
     "metadata": {},
     "output_type": "display_data"
    },
    {
     "data": {
      "text/plain": [
       "<Figure size 432x288 with 0 Axes>"
      ]
     },
     "metadata": {},
     "output_type": "display_data"
    }
   ],
   "source": [
    "# Create a stacked bar chart of domestic and worldwide gross for each studio\n",
    "# Subset the data to only include the top 10 studios by market share\n",
    "top_10_ = sorted_grouped.sort_values('market_share', ascending=False).reset_index().head(10)\n",
    "\n",
    "fig, ax = plt.subplots(figsize=(10, 6))\n",
    "ax.bar(top_10_['studio'], top_10_['domestic_gross_2_sum'], label='Domestic Gross', color='blue')\n",
    "ax.bar(top_10_['studio'], top_10_['worldwide_gross_sum'], bottom=top_10_['domestic_gross_2_sum'],\n",
    "       label='International Gross', color='orange')\n",
    "ax.set_xlabel('Studio')\n",
    "ax.set_ylabel('Gross Revenue (in billion dollars)')\n",
    "ax.set_title('Domestic and Worldwide Gross Revenue by Studio')\n",
    "ax.legend()\n",
    "plt.show()\n",
    "plt.savefig('visualization8.png')"
   ]
  },
  {
   "cell_type": "markdown",
   "metadata": {},
   "source": [
    "The stacked bar plot shows the domestic and worldwide gross revenue of the top 10 movie studios, broken down by region,i.e.Domestic revenue and Worldwide revenue. Each bar represents a studio, and is divided into two sections: blue for domestic gross revenue, and orange for worldwide gross revenue.\n",
    "\n",
    "The height of each bar represents the total gross revenue for that studio, and the width of each section represents the proportion of that revenue coming from the domestic or worldwide market. For example, the tallest bar represents BV Studio, and we can see that the majority of its revenue comes from the international market.\n",
    "\n",
    "Overall, this plot helps us visualize the revenue breakdown of the top movie studios, and can provide insights into the relative importance of different regions for these studios. This is also an indicator to Microsoft's new movie studio, in that they can anticipate more of their revenue generated from the international market, as compared to the domestic market."
   ]
  },
  {
   "cell_type": "markdown",
   "metadata": {},
   "source": [
    "## Performing Aggregations to answer Business Question no.4"
   ]
  },
  {
   "cell_type": "markdown",
   "metadata": {},
   "source": [
    "The business question:\n",
    "-  How does the release time of a movie contribute to its success?\n",
    "\n",
    "Here I will be using the `worldwide_gross` and `domestic_gross_2` variables as my units of measurement to depict the revenues generated in the different months and hence determine when it is suitable to release a movie, thereby increasing its chances of success."
   ]
  },
  {
   "cell_type": "code",
   "execution_count": 82,
   "metadata": {},
   "outputs": [
    {
     "data": {
      "image/png": "[encoded data removed]",
      "text/plain": [
       "<Figure size 720x360 with 1 Axes>"
      ]
     },
     "metadata": {},
     "output_type": "display_data"
    },
    {
     "data": {
      "image/png": "[encoded data removed]",
      "text/plain": [
       "<Figure size 720x360 with 1 Axes>"
      ]
     },
     "metadata": {},
     "output_type": "display_data"
    }
   ],
   "source": [
    "# Convert the 'release_date_2' column to datetime format\n",
    "merged_df3['release_date_2'] = pd.to_datetime(merged_df3['release_date_2'])\n",
    "\n",
    "# Extract the release month from the release date\n",
    "merged_df3['release_month'] = merged_df3['release_date_2'].dt.month\n",
    "\n",
    "# Calculate the average worldwide gross by release month\n",
    "avg_world_gross = merged_df3.groupby('release_month')['worldwide_gross'].mean().reset_index()\n",
    "\n",
    "# Calculate the average domestic gross by release month\n",
    "avg_dom_gross = merged_df3.groupby('release_month')['domestic_gross_2'].mean().reset_index()\n",
    "\n",
    "# Convert month numbers to month names\n",
    "month_names = [calendar.month_name[i] for i in range(1, 13)]\n",
    "\n",
    "# Worldwide gross plot\n",
    "worldwide_plot = sns.catplot(x='release_month', y='worldwide_gross', kind='bar', data=avg_world_gross, height=5, aspect=2)\n",
    "worldwide_plot.set(title='Worldwide Gross by Release Month', xlabel='Release Month', \n",
    "                   ylabel='Worldwide Gross (in billion dollars)')\n",
    "plt.savefig('visualization9.png')\n",
    "\n",
    "# Domestic gross plot\n",
    "domestic_plot = sns.catplot(x='release_month', y='domestic_gross_2', kind='bar', data=avg_dom_gross, height=5, aspect=2)\n",
    "domestic_plot.set(title='Domestic Gross by Release Month', xlabel='Release Month',\n",
    "                  ylabel='Domestic Gross (in billion dollars)')\n",
    "plt.savefig('visualization10.png')\n",
    "\n",
    "# Setting xticks with month names and align them with the center of the bars\n",
    "plt.xticks(horizontalalignment='center', rotation=45, fontsize=10)\n",
    "worldwide_plot.set_xticklabels(month_names)\n",
    "domestic_plot.set_xticklabels(month_names)\n",
    "\n",
    "# Adjust the position of the plots to prevent overlapping xtick labels\n",
    "plt.subplots_adjust(wspace=0.5)"
   ]
  },
  {
   "cell_type": "markdown",
   "metadata": {},
   "source": [
    "The above plots show the average worldwide gross and domestic gross by release month for the movies in the dataset.\n",
    "\n",
    "The x-axis shows the months of the year, and the y-axis shows the average gross in billion dollars. Each bar represents the average gross for a particular month.\n",
    "\n",
    "The \"Worldwide Gross by Release Month\" plot shows that the months of May, June and July have the highest average worldwide gross, while the months of September and October have the lowest.\n",
    "\n",
    "The \"Domestic Gross by Release Month\" plot show a similar trend, with May, June and July having the highest average domestic gross, and September and October having the lowest.\n",
    "\n",
    "Overall, these plots suggest that releasing a movie in May, June or July may lead to higher gross revenue, both domestically and worldwide, while releasing a movie in September or October may result in lower gross revenue."
   ]
  },
  {
   "cell_type": "markdown",
   "metadata": {},
   "source": [
    "# Conclusion\n",
    "\n",
    "This analysis leads to four **recommendations** that will enable Microsoft get into the movie industry with a resounding success for the movies that will be produced/created.\n",
    "\n",
    "1. Based on the findings of the top 4 best performing types of movies in the Box Office, Microsoft should consider producing movies around the genre combinations of:\n",
    " - **Action, Adventure & Science Fiction** \n",
    " - **Action, Adventure & Fantasy**\n",
    " - **Comedy** \n",
    " - **Drama**\n",
    " \n",
    " Also, they can play around the genres creatively and come up with something a bit unique, for example, a combination of **Action, Comedy & Drama** or even **Science Fiction, Adventure & Comedy** to see the response and reaction from the movie lovers. \n",
    "\n",
    "\n",
    "2. Based on the findings of strong positive correlation between production budget and domestic gross, and production budget and worldwide gross, for the genres stated above in the first recommendation, the Head of Microsoft's new movie studio should liase with the finance department and ensure that sufficient budgetary allocation is made to film production. This would enable the several aspects involved in film production to be taken care of sufficiently, for instance;\n",
    " - Production equipment: Getting the latest equipment and editing tools is key to producing high quality video content.\n",
    "\n",
    " - Visuals and Sound: The visual elements of a movie are critical in creating an immersive and engaging experience for viewers. This includes everything from the cinematography and special effects to the costumes and set design. A good soundtrack can help set the tone of a film and enhance the emotional impact of key scenes. \n",
    " \n",
    " - Marketing: Finally, filmmakers will need to consider the marketing and distribution of the new movie. They will need to think about how they will promote the movie and ensure that it is being distributed in a way that will reach their intended audience. Effective marketing will certainly increase the movie's popularity, which in turn may mean success for the new movie.\n",
    "\n",
    "   Therefore, the investment in a movie's production really influences its success in the Box Office.\n",
    "\n",
    "\n",
    "3. Based on the findings of how competitive the movie industry is in terms of market share, Microsoft will need to differentiate itself in order to stand out, for example;\n",
    " - Microsoft's new movie studio could focus on producing high-quality movies with unique and compelling storylines with diverse and inclusive casts.\n",
    " - Partnering with well-known and respected directors and actors.\n",
    " - Leveraging innovative marketing and distribution strategies to reach wider audiences. \n",
    " - Additionally, they could explore new combinations of the popular genres as stated in the first recommendation.\n",
    " \n",
    " \n",
    "4. Based on the findings of the best months to release a movie being May, June and July, the Microsoft new mvoie studio should consider releasing movies around this time. There could be various factors that contribute to the high revenues in May, June and July. One possibility is that these months fall within the summer blockbuster season, which typically runs from May to August, where studios release highly anticipated movies that are expected to perform well at the box office, as well as audience availability. Therefore, if Microsoft takes advantage of this period, the movies released are likely to yield higher gross revenues."
   ]
  }
 ],
 "metadata": {
  "kernelspec": {
   "display_name": "Python 3",
   "language": "python",
   "name": "python3"
  },
  "language_info": {
   "codemirror_mode": {
    "name": "ipython",
    "version": 3
   },
   "file_extension": ".py",
   "mimetype": "text/x-python",
   "name": "python",
   "nbconvert_exporter": "python",
   "pygments_lexer": "ipython3",
   "version": "3.8.5"
  }
 },
 "nbformat": 4,
 "nbformat_minor": 2
}
